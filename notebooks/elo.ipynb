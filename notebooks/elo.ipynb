{
 "cells": [
  {
   "cell_type": "code",
   "execution_count": 74,
   "metadata": {},
   "outputs": [
    {
     "data": {
      "text/plain": [
       "True"
      ]
     },
     "execution_count": 74,
     "metadata": {},
     "output_type": "execute_result"
    }
   ],
   "source": [
    "import os\n",
    "import numpy as np\n",
    "import pandas as pd\n",
    "from datetime import datetime\n",
    "from dotenv import load_dotenv\n",
    "from multielo import MultiElo, Player, Tracker\n",
    "from mktools.get_data import load_data_pd\n",
    "from alive_progress import alive_it\n",
    "from mktools.validate_data import validate_bad_uids\n",
    "\n",
    "load_dotenv()"
   ]
  },
  {
   "cell_type": "code",
   "execution_count": 75,
   "metadata": {},
   "outputs": [],
   "source": [
    "df = load_data_pd(\n",
    "    sheet_name=\"data\",\n",
    "    sheet_id=os.environ[\"SHEET_ID\"],\n",
    "    usecols=[\n",
    "        \"UID\",\n",
    "        \"SUID\",\n",
    "        \"NAME\",\n",
    "        \"CHARACTER\",\n",
    "        \"MAP\",\n",
    "        \"PLACE\",\n",
    "        \"PLAYERS\",\n",
    "        \"DATE\",\n",
    "        \"SEASON\",\n",
    "    ],\n",
    ")\n",
    "\n",
    "invalid, valid = validate_bad_uids(df=df, return_valid=True)"
   ]
  },
  {
   "cell_type": "code",
   "execution_count": 76,
   "metadata": {},
   "outputs": [
    {
     "data": {
      "text/html": [
       "<div>\n",
       "<style scoped>\n",
       "    .dataframe tbody tr th:only-of-type {\n",
       "        vertical-align: middle;\n",
       "    }\n",
       "\n",
       "    .dataframe tbody tr th {\n",
       "        vertical-align: top;\n",
       "    }\n",
       "\n",
       "    .dataframe thead th {\n",
       "        text-align: right;\n",
       "    }\n",
       "</style>\n",
       "<table border=\"1\" class=\"dataframe\">\n",
       "  <thead>\n",
       "    <tr style=\"text-align: right;\">\n",
       "      <th></th>\n",
       "      <th>UID</th>\n",
       "      <th>SUID</th>\n",
       "      <th>NAME</th>\n",
       "      <th>CHARACTER</th>\n",
       "      <th>MAP</th>\n",
       "      <th>PLACE</th>\n",
       "      <th>PLAYERS</th>\n",
       "      <th>DATE</th>\n",
       "      <th>SEASON</th>\n",
       "    </tr>\n",
       "  </thead>\n",
       "  <tbody>\n",
       "    <tr>\n",
       "      <th>0</th>\n",
       "      <td>1</td>\n",
       "      <td>1</td>\n",
       "      <td>Cole</td>\n",
       "      <td>Toad</td>\n",
       "      <td>Sherbet Land</td>\n",
       "      <td>4</td>\n",
       "      <td>4</td>\n",
       "      <td>2021-09-20</td>\n",
       "      <td>0</td>\n",
       "    </tr>\n",
       "    <tr>\n",
       "      <th>1</th>\n",
       "      <td>1</td>\n",
       "      <td>1</td>\n",
       "      <td>Connor</td>\n",
       "      <td>Yoshi</td>\n",
       "      <td>Sherbet Land</td>\n",
       "      <td>2</td>\n",
       "      <td>4</td>\n",
       "      <td>2021-09-20</td>\n",
       "      <td>0</td>\n",
       "    </tr>\n",
       "    <tr>\n",
       "      <th>2</th>\n",
       "      <td>1</td>\n",
       "      <td>1</td>\n",
       "      <td>Cooper</td>\n",
       "      <td>Peach</td>\n",
       "      <td>Sherbet Land</td>\n",
       "      <td>1</td>\n",
       "      <td>4</td>\n",
       "      <td>2021-09-20</td>\n",
       "      <td>0</td>\n",
       "    </tr>\n",
       "    <tr>\n",
       "      <th>3</th>\n",
       "      <td>1</td>\n",
       "      <td>1</td>\n",
       "      <td>Triston</td>\n",
       "      <td>Bowser</td>\n",
       "      <td>Sherbet Land</td>\n",
       "      <td>3</td>\n",
       "      <td>4</td>\n",
       "      <td>2021-09-20</td>\n",
       "      <td>0</td>\n",
       "    </tr>\n",
       "    <tr>\n",
       "      <th>4</th>\n",
       "      <td>2</td>\n",
       "      <td>1</td>\n",
       "      <td>Cole</td>\n",
       "      <td>Toad</td>\n",
       "      <td>Kalimari Desert</td>\n",
       "      <td>4</td>\n",
       "      <td>4</td>\n",
       "      <td>2021-09-20</td>\n",
       "      <td>0</td>\n",
       "    </tr>\n",
       "    <tr>\n",
       "      <th>...</th>\n",
       "      <td>...</td>\n",
       "      <td>...</td>\n",
       "      <td>...</td>\n",
       "      <td>...</td>\n",
       "      <td>...</td>\n",
       "      <td>...</td>\n",
       "      <td>...</td>\n",
       "      <td>...</td>\n",
       "      <td>...</td>\n",
       "    </tr>\n",
       "    <tr>\n",
       "      <th>20631</th>\n",
       "      <td>6294</td>\n",
       "      <td>737</td>\n",
       "      <td>Connor</td>\n",
       "      <td>Toad</td>\n",
       "      <td>Toad's Turnpike</td>\n",
       "      <td>3</td>\n",
       "      <td>4</td>\n",
       "      <td>2024-07-17</td>\n",
       "      <td>11</td>\n",
       "    </tr>\n",
       "    <tr>\n",
       "      <th>20632</th>\n",
       "      <td>6294</td>\n",
       "      <td>737</td>\n",
       "      <td>Garrett</td>\n",
       "      <td>Peach</td>\n",
       "      <td>Toad's Turnpike</td>\n",
       "      <td>4</td>\n",
       "      <td>4</td>\n",
       "      <td>2024-07-17</td>\n",
       "      <td>11</td>\n",
       "    </tr>\n",
       "    <tr>\n",
       "      <th>20633</th>\n",
       "      <td>6295</td>\n",
       "      <td>737</td>\n",
       "      <td>Cooper</td>\n",
       "      <td>Toad</td>\n",
       "      <td>Bowser's Castle</td>\n",
       "      <td>1</td>\n",
       "      <td>3</td>\n",
       "      <td>2024-07-17</td>\n",
       "      <td>11</td>\n",
       "    </tr>\n",
       "    <tr>\n",
       "      <th>20634</th>\n",
       "      <td>6295</td>\n",
       "      <td>737</td>\n",
       "      <td>Cole</td>\n",
       "      <td>Yoshi</td>\n",
       "      <td>Bowser's Castle</td>\n",
       "      <td>2</td>\n",
       "      <td>3</td>\n",
       "      <td>2024-07-17</td>\n",
       "      <td>11</td>\n",
       "    </tr>\n",
       "    <tr>\n",
       "      <th>20635</th>\n",
       "      <td>6295</td>\n",
       "      <td>737</td>\n",
       "      <td>Regan</td>\n",
       "      <td>Peach</td>\n",
       "      <td>Bowser's Castle</td>\n",
       "      <td>3</td>\n",
       "      <td>3</td>\n",
       "      <td>2024-07-17</td>\n",
       "      <td>11</td>\n",
       "    </tr>\n",
       "  </tbody>\n",
       "</table>\n",
       "<p>20636 rows × 9 columns</p>\n",
       "</div>"
      ],
      "text/plain": [
       "        UID  SUID     NAME CHARACTER              MAP  PLACE  PLAYERS  \\\n",
       "0         1     1     Cole      Toad     Sherbet Land      4        4   \n",
       "1         1     1   Connor     Yoshi     Sherbet Land      2        4   \n",
       "2         1     1   Cooper     Peach     Sherbet Land      1        4   \n",
       "3         1     1  Triston    Bowser     Sherbet Land      3        4   \n",
       "4         2     1     Cole      Toad  Kalimari Desert      4        4   \n",
       "...     ...   ...      ...       ...              ...    ...      ...   \n",
       "20631  6294   737   Connor      Toad  Toad's Turnpike      3        4   \n",
       "20632  6294   737  Garrett     Peach  Toad's Turnpike      4        4   \n",
       "20633  6295   737   Cooper      Toad  Bowser's Castle      1        3   \n",
       "20634  6295   737     Cole     Yoshi  Bowser's Castle      2        3   \n",
       "20635  6295   737    Regan     Peach  Bowser's Castle      3        3   \n",
       "\n",
       "             DATE  SEASON  \n",
       "0      2021-09-20       0  \n",
       "1      2021-09-20       0  \n",
       "2      2021-09-20       0  \n",
       "3      2021-09-20       0  \n",
       "4      2021-09-20       0  \n",
       "...           ...     ...  \n",
       "20631  2024-07-17      11  \n",
       "20632  2024-07-17      11  \n",
       "20633  2024-07-17      11  \n",
       "20634  2024-07-17      11  \n",
       "20635  2024-07-17      11  \n",
       "\n",
       "[20636 rows x 9 columns]"
      ]
     },
     "execution_count": 76,
     "metadata": {},
     "output_type": "execute_result"
    }
   ],
   "source": [
    "valid"
   ]
  },
  {
   "cell_type": "code",
   "execution_count": 94,
   "metadata": {},
   "outputs": [
    {
     "name": "stdout",
     "output_type": "stream",
     "text": [
      "[!                                       ] (!) 0/12 [0%] in 0.0s (0.00/s) \n"
     ]
    },
    {
     "ename": "ValueError",
     "evalue": "Index contains duplicate entries, cannot reshape",
     "output_type": "error",
     "traceback": [
      "\u001b[1;31m---------------------------------------------------------------------------\u001b[0m",
      "\u001b[1;31mValueError\u001b[0m                                Traceback (most recent call last)",
      "Cell \u001b[1;32mIn[94], line 18\u001b[0m\n\u001b[0;32m      3\u001b[0m \u001b[38;5;28;01mfor\u001b[39;00m season \u001b[38;5;129;01min\u001b[39;00m alive_it(\n\u001b[0;32m      4\u001b[0m     it\u001b[38;5;241m=\u001b[39mvalid[\u001b[38;5;124m\"\u001b[39m\u001b[38;5;124mSEASON\u001b[39m\u001b[38;5;124m\"\u001b[39m]\u001b[38;5;241m.\u001b[39munique(),\n\u001b[0;32m      5\u001b[0m     total\u001b[38;5;241m=\u001b[39mvalid[\u001b[38;5;124m\"\u001b[39m\u001b[38;5;124mSEASON\u001b[39m\u001b[38;5;124m\"\u001b[39m]\u001b[38;5;241m.\u001b[39munique()\u001b[38;5;241m.\u001b[39mshape[\u001b[38;5;241m0\u001b[39m],\n\u001b[0;32m      6\u001b[0m     theme\u001b[38;5;241m=\u001b[39m\u001b[38;5;124m\"\u001b[39m\u001b[38;5;124mclassic\u001b[39m\u001b[38;5;124m\"\u001b[39m,\n\u001b[0;32m      7\u001b[0m ):\n\u001b[0;32m      9\u001b[0m     tdf \u001b[38;5;241m=\u001b[39m (\n\u001b[0;32m     10\u001b[0m         valid[(valid[\u001b[38;5;124m\"\u001b[39m\u001b[38;5;124mPLAYERS\u001b[39m\u001b[38;5;124m\"\u001b[39m] \u001b[38;5;241m==\u001b[39m \u001b[38;5;241m4\u001b[39m) \u001b[38;5;241m&\u001b[39m (valid[\u001b[38;5;124m\"\u001b[39m\u001b[38;5;124mSEASON\u001b[39m\u001b[38;5;124m\"\u001b[39m] \u001b[38;5;241m==\u001b[39m season)]\n\u001b[0;32m     11\u001b[0m         \u001b[38;5;241m.\u001b[39mdrop(columns\u001b[38;5;241m=\u001b[39m[\u001b[38;5;124m\"\u001b[39m\u001b[38;5;124mSUID\u001b[39m\u001b[38;5;124m\"\u001b[39m, \u001b[38;5;124m\"\u001b[39m\u001b[38;5;124mCHARACTER\u001b[39m\u001b[38;5;124m\"\u001b[39m, \u001b[38;5;124m\"\u001b[39m\u001b[38;5;124mPLAYERS\u001b[39m\u001b[38;5;124m\"\u001b[39m, \u001b[38;5;124m\"\u001b[39m\u001b[38;5;124mSEASON\u001b[39m\u001b[38;5;124m\"\u001b[39m, \u001b[38;5;124m\"\u001b[39m\u001b[38;5;124mMAP\u001b[39m\u001b[38;5;124m\"\u001b[39m])\n\u001b[1;32m   (...)\u001b[0m\n\u001b[0;32m     14\u001b[0m         \u001b[38;5;241m.\u001b[39mreset_index(drop\u001b[38;5;241m=\u001b[39m\u001b[38;5;28;01mTrue\u001b[39;00m)\n\u001b[0;32m     15\u001b[0m     )\n\u001b[0;32m     17\u001b[0m     pdf \u001b[38;5;241m=\u001b[39m (\n\u001b[1;32m---> 18\u001b[0m         \u001b[43mtdf\u001b[49m\u001b[38;5;241;43m.\u001b[39;49m\u001b[43mpivot\u001b[49m\u001b[43m(\u001b[49m\u001b[43mindex\u001b[49m\u001b[38;5;241;43m=\u001b[39;49m\u001b[38;5;124;43m\"\u001b[39;49m\u001b[38;5;124;43mUID\u001b[39;49m\u001b[38;5;124;43m\"\u001b[39;49m\u001b[43m,\u001b[49m\u001b[43m \u001b[49m\u001b[43mcolumns\u001b[49m\u001b[38;5;241;43m=\u001b[39;49m\u001b[38;5;124;43m\"\u001b[39;49m\u001b[38;5;124;43mPLACE\u001b[39;49m\u001b[38;5;124;43m\"\u001b[39;49m\u001b[43m,\u001b[49m\u001b[43m \u001b[49m\u001b[43mvalues\u001b[49m\u001b[38;5;241;43m=\u001b[39;49m\u001b[38;5;124;43m\"\u001b[39;49m\u001b[38;5;124;43mNAME\u001b[39;49m\u001b[38;5;124;43m\"\u001b[39;49m\u001b[43m)\u001b[49m\n\u001b[0;32m     19\u001b[0m         \u001b[38;5;241m.\u001b[39mreset_index()\n\u001b[0;32m     20\u001b[0m         \u001b[38;5;241m.\u001b[39mrename(columns\u001b[38;5;241m=\u001b[39m{\u001b[38;5;241m1\u001b[39m: \u001b[38;5;124m\"\u001b[39m\u001b[38;5;124m1st\u001b[39m\u001b[38;5;124m\"\u001b[39m, \u001b[38;5;241m2\u001b[39m: \u001b[38;5;124m\"\u001b[39m\u001b[38;5;124m2nd\u001b[39m\u001b[38;5;124m\"\u001b[39m, \u001b[38;5;241m3\u001b[39m: \u001b[38;5;124m\"\u001b[39m\u001b[38;5;124m3rd\u001b[39m\u001b[38;5;124m\"\u001b[39m, \u001b[38;5;241m4\u001b[39m: \u001b[38;5;124m\"\u001b[39m\u001b[38;5;124m4th\u001b[39m\u001b[38;5;124m\"\u001b[39m})\n\u001b[0;32m     21\u001b[0m         \u001b[38;5;241m.\u001b[39mmerge(tdf[[\u001b[38;5;124m\"\u001b[39m\u001b[38;5;124mUID\u001b[39m\u001b[38;5;124m\"\u001b[39m, \u001b[38;5;124m\"\u001b[39m\u001b[38;5;124mDATE\u001b[39m\u001b[38;5;124m\"\u001b[39m]], on\u001b[38;5;241m=\u001b[39m\u001b[38;5;124m\"\u001b[39m\u001b[38;5;124mUID\u001b[39m\u001b[38;5;124m\"\u001b[39m, how\u001b[38;5;241m=\u001b[39m\u001b[38;5;124m\"\u001b[39m\u001b[38;5;124minner\u001b[39m\u001b[38;5;124m\"\u001b[39m, validate\u001b[38;5;241m=\u001b[39m\u001b[38;5;124m\"\u001b[39m\u001b[38;5;124m1:m\u001b[39m\u001b[38;5;124m\"\u001b[39m)\n\u001b[0;32m     22\u001b[0m         \u001b[38;5;241m.\u001b[39mgroupby(\u001b[38;5;124m\"\u001b[39m\u001b[38;5;124mUID\u001b[39m\u001b[38;5;124m\"\u001b[39m)\n\u001b[0;32m     23\u001b[0m         \u001b[38;5;241m.\u001b[39mfirst()\n\u001b[0;32m     24\u001b[0m         \u001b[38;5;241m.\u001b[39mset_index(\u001b[38;5;124m\"\u001b[39m\u001b[38;5;124mDATE\u001b[39m\u001b[38;5;124m\"\u001b[39m)\n\u001b[0;32m     25\u001b[0m         \u001b[38;5;241m.\u001b[39mreset_index()\n\u001b[0;32m     26\u001b[0m         \u001b[38;5;241m.\u001b[39mrename(columns\u001b[38;5;241m=\u001b[39m{\u001b[38;5;124m\"\u001b[39m\u001b[38;5;124mDATE\u001b[39m\u001b[38;5;124m\"\u001b[39m: \u001b[38;5;124m\"\u001b[39m\u001b[38;5;124mdate\u001b[39m\u001b[38;5;124m\"\u001b[39m})\n\u001b[0;32m     27\u001b[0m     )\n\u001b[0;32m     29\u001b[0m     exp_elo \u001b[38;5;241m=\u001b[39m MultiElo(score_function_base\u001b[38;5;241m=\u001b[39m\u001b[38;5;241m1.5\u001b[39m)\n\u001b[0;32m     30\u001b[0m     tracker \u001b[38;5;241m=\u001b[39m Tracker(elo_rater\u001b[38;5;241m=\u001b[39mexp_elo)\n",
      "File \u001b[1;32mc:\\Users\\Cooper\\miniconda3\\envs\\bro\\Lib\\site-packages\\pandas\\core\\frame.py:9339\u001b[0m, in \u001b[0;36mDataFrame.pivot\u001b[1;34m(self, columns, index, values)\u001b[0m\n\u001b[0;32m   9332\u001b[0m \u001b[38;5;129m@Substitution\u001b[39m(\u001b[38;5;124m\"\u001b[39m\u001b[38;5;124m\"\u001b[39m)\n\u001b[0;32m   9333\u001b[0m \u001b[38;5;129m@Appender\u001b[39m(_shared_docs[\u001b[38;5;124m\"\u001b[39m\u001b[38;5;124mpivot\u001b[39m\u001b[38;5;124m\"\u001b[39m])\n\u001b[0;32m   9334\u001b[0m \u001b[38;5;28;01mdef\u001b[39;00m \u001b[38;5;21mpivot\u001b[39m(\n\u001b[0;32m   9335\u001b[0m     \u001b[38;5;28mself\u001b[39m, \u001b[38;5;241m*\u001b[39m, columns, index\u001b[38;5;241m=\u001b[39mlib\u001b[38;5;241m.\u001b[39mno_default, values\u001b[38;5;241m=\u001b[39mlib\u001b[38;5;241m.\u001b[39mno_default\n\u001b[0;32m   9336\u001b[0m ) \u001b[38;5;241m-\u001b[39m\u001b[38;5;241m>\u001b[39m DataFrame:\n\u001b[0;32m   9337\u001b[0m     \u001b[38;5;28;01mfrom\u001b[39;00m \u001b[38;5;21;01mpandas\u001b[39;00m\u001b[38;5;21;01m.\u001b[39;00m\u001b[38;5;21;01mcore\u001b[39;00m\u001b[38;5;21;01m.\u001b[39;00m\u001b[38;5;21;01mreshape\u001b[39;00m\u001b[38;5;21;01m.\u001b[39;00m\u001b[38;5;21;01mpivot\u001b[39;00m \u001b[38;5;28;01mimport\u001b[39;00m pivot\n\u001b[1;32m-> 9339\u001b[0m     \u001b[38;5;28;01mreturn\u001b[39;00m \u001b[43mpivot\u001b[49m\u001b[43m(\u001b[49m\u001b[38;5;28;43mself\u001b[39;49m\u001b[43m,\u001b[49m\u001b[43m \u001b[49m\u001b[43mindex\u001b[49m\u001b[38;5;241;43m=\u001b[39;49m\u001b[43mindex\u001b[49m\u001b[43m,\u001b[49m\u001b[43m \u001b[49m\u001b[43mcolumns\u001b[49m\u001b[38;5;241;43m=\u001b[39;49m\u001b[43mcolumns\u001b[49m\u001b[43m,\u001b[49m\u001b[43m \u001b[49m\u001b[43mvalues\u001b[49m\u001b[38;5;241;43m=\u001b[39;49m\u001b[43mvalues\u001b[49m\u001b[43m)\u001b[49m\n",
      "File \u001b[1;32mc:\\Users\\Cooper\\miniconda3\\envs\\bro\\Lib\\site-packages\\pandas\\core\\reshape\\pivot.py:570\u001b[0m, in \u001b[0;36mpivot\u001b[1;34m(data, columns, index, values)\u001b[0m\n\u001b[0;32m    566\u001b[0m         indexed \u001b[38;5;241m=\u001b[39m data\u001b[38;5;241m.\u001b[39m_constructor_sliced(data[values]\u001b[38;5;241m.\u001b[39m_values, index\u001b[38;5;241m=\u001b[39mmultiindex)\n\u001b[0;32m    567\u001b[0m \u001b[38;5;66;03m# error: Argument 1 to \"unstack\" of \"DataFrame\" has incompatible type \"Union\u001b[39;00m\n\u001b[0;32m    568\u001b[0m \u001b[38;5;66;03m# [List[Any], ExtensionArray, ndarray[Any, Any], Index, Series]\"; expected\u001b[39;00m\n\u001b[0;32m    569\u001b[0m \u001b[38;5;66;03m# \"Hashable\"\u001b[39;00m\n\u001b[1;32m--> 570\u001b[0m result \u001b[38;5;241m=\u001b[39m \u001b[43mindexed\u001b[49m\u001b[38;5;241;43m.\u001b[39;49m\u001b[43munstack\u001b[49m\u001b[43m(\u001b[49m\u001b[43mcolumns_listlike\u001b[49m\u001b[43m)\u001b[49m  \u001b[38;5;66;03m# type: ignore[arg-type]\u001b[39;00m\n\u001b[0;32m    571\u001b[0m result\u001b[38;5;241m.\u001b[39mindex\u001b[38;5;241m.\u001b[39mnames \u001b[38;5;241m=\u001b[39m [\n\u001b[0;32m    572\u001b[0m     name \u001b[38;5;28;01mif\u001b[39;00m name \u001b[38;5;129;01mis\u001b[39;00m \u001b[38;5;129;01mnot\u001b[39;00m lib\u001b[38;5;241m.\u001b[39mno_default \u001b[38;5;28;01melse\u001b[39;00m \u001b[38;5;28;01mNone\u001b[39;00m \u001b[38;5;28;01mfor\u001b[39;00m name \u001b[38;5;129;01min\u001b[39;00m result\u001b[38;5;241m.\u001b[39mindex\u001b[38;5;241m.\u001b[39mnames\n\u001b[0;32m    573\u001b[0m ]\n\u001b[0;32m    575\u001b[0m \u001b[38;5;28;01mreturn\u001b[39;00m result\n",
      "File \u001b[1;32mc:\\Users\\Cooper\\miniconda3\\envs\\bro\\Lib\\site-packages\\pandas\\core\\series.py:4615\u001b[0m, in \u001b[0;36mSeries.unstack\u001b[1;34m(self, level, fill_value, sort)\u001b[0m\n\u001b[0;32m   4570\u001b[0m \u001b[38;5;250m\u001b[39m\u001b[38;5;124;03m\"\"\"\u001b[39;00m\n\u001b[0;32m   4571\u001b[0m \u001b[38;5;124;03mUnstack, also known as pivot, Series with MultiIndex to produce DataFrame.\u001b[39;00m\n\u001b[0;32m   4572\u001b[0m \n\u001b[1;32m   (...)\u001b[0m\n\u001b[0;32m   4611\u001b[0m \u001b[38;5;124;03mb    2    4\u001b[39;00m\n\u001b[0;32m   4612\u001b[0m \u001b[38;5;124;03m\"\"\"\u001b[39;00m\n\u001b[0;32m   4613\u001b[0m \u001b[38;5;28;01mfrom\u001b[39;00m \u001b[38;5;21;01mpandas\u001b[39;00m\u001b[38;5;21;01m.\u001b[39;00m\u001b[38;5;21;01mcore\u001b[39;00m\u001b[38;5;21;01m.\u001b[39;00m\u001b[38;5;21;01mreshape\u001b[39;00m\u001b[38;5;21;01m.\u001b[39;00m\u001b[38;5;21;01mreshape\u001b[39;00m \u001b[38;5;28;01mimport\u001b[39;00m unstack\n\u001b[1;32m-> 4615\u001b[0m \u001b[38;5;28;01mreturn\u001b[39;00m \u001b[43munstack\u001b[49m\u001b[43m(\u001b[49m\u001b[38;5;28;43mself\u001b[39;49m\u001b[43m,\u001b[49m\u001b[43m \u001b[49m\u001b[43mlevel\u001b[49m\u001b[43m,\u001b[49m\u001b[43m \u001b[49m\u001b[43mfill_value\u001b[49m\u001b[43m,\u001b[49m\u001b[43m \u001b[49m\u001b[43msort\u001b[49m\u001b[43m)\u001b[49m\n",
      "File \u001b[1;32mc:\\Users\\Cooper\\miniconda3\\envs\\bro\\Lib\\site-packages\\pandas\\core\\reshape\\reshape.py:517\u001b[0m, in \u001b[0;36munstack\u001b[1;34m(obj, level, fill_value, sort)\u001b[0m\n\u001b[0;32m    515\u001b[0m \u001b[38;5;28;01mif\u001b[39;00m is_1d_only_ea_dtype(obj\u001b[38;5;241m.\u001b[39mdtype):\n\u001b[0;32m    516\u001b[0m     \u001b[38;5;28;01mreturn\u001b[39;00m _unstack_extension_series(obj, level, fill_value, sort\u001b[38;5;241m=\u001b[39msort)\n\u001b[1;32m--> 517\u001b[0m unstacker \u001b[38;5;241m=\u001b[39m \u001b[43m_Unstacker\u001b[49m\u001b[43m(\u001b[49m\n\u001b[0;32m    518\u001b[0m \u001b[43m    \u001b[49m\u001b[43mobj\u001b[49m\u001b[38;5;241;43m.\u001b[39;49m\u001b[43mindex\u001b[49m\u001b[43m,\u001b[49m\u001b[43m \u001b[49m\u001b[43mlevel\u001b[49m\u001b[38;5;241;43m=\u001b[39;49m\u001b[43mlevel\u001b[49m\u001b[43m,\u001b[49m\u001b[43m \u001b[49m\u001b[43mconstructor\u001b[49m\u001b[38;5;241;43m=\u001b[39;49m\u001b[43mobj\u001b[49m\u001b[38;5;241;43m.\u001b[39;49m\u001b[43m_constructor_expanddim\u001b[49m\u001b[43m,\u001b[49m\u001b[43m \u001b[49m\u001b[43msort\u001b[49m\u001b[38;5;241;43m=\u001b[39;49m\u001b[43msort\u001b[49m\n\u001b[0;32m    519\u001b[0m \u001b[43m\u001b[49m\u001b[43m)\u001b[49m\n\u001b[0;32m    520\u001b[0m \u001b[38;5;28;01mreturn\u001b[39;00m unstacker\u001b[38;5;241m.\u001b[39mget_result(\n\u001b[0;32m    521\u001b[0m     obj\u001b[38;5;241m.\u001b[39m_values, value_columns\u001b[38;5;241m=\u001b[39m\u001b[38;5;28;01mNone\u001b[39;00m, fill_value\u001b[38;5;241m=\u001b[39mfill_value\n\u001b[0;32m    522\u001b[0m )\n",
      "File \u001b[1;32mc:\\Users\\Cooper\\miniconda3\\envs\\bro\\Lib\\site-packages\\pandas\\core\\reshape\\reshape.py:154\u001b[0m, in \u001b[0;36m_Unstacker.__init__\u001b[1;34m(self, index, level, constructor, sort)\u001b[0m\n\u001b[0;32m    146\u001b[0m \u001b[38;5;28;01mif\u001b[39;00m num_cells \u001b[38;5;241m>\u001b[39m np\u001b[38;5;241m.\u001b[39miinfo(np\u001b[38;5;241m.\u001b[39mint32)\u001b[38;5;241m.\u001b[39mmax:\n\u001b[0;32m    147\u001b[0m     warnings\u001b[38;5;241m.\u001b[39mwarn(\n\u001b[0;32m    148\u001b[0m         \u001b[38;5;124mf\u001b[39m\u001b[38;5;124m\"\u001b[39m\u001b[38;5;124mThe following operation may generate \u001b[39m\u001b[38;5;132;01m{\u001b[39;00mnum_cells\u001b[38;5;132;01m}\u001b[39;00m\u001b[38;5;124m cells \u001b[39m\u001b[38;5;124m\"\u001b[39m\n\u001b[0;32m    149\u001b[0m         \u001b[38;5;124mf\u001b[39m\u001b[38;5;124m\"\u001b[39m\u001b[38;5;124min the resulting pandas object.\u001b[39m\u001b[38;5;124m\"\u001b[39m,\n\u001b[0;32m    150\u001b[0m         PerformanceWarning,\n\u001b[0;32m    151\u001b[0m         stacklevel\u001b[38;5;241m=\u001b[39mfind_stack_level(),\n\u001b[0;32m    152\u001b[0m     )\n\u001b[1;32m--> 154\u001b[0m \u001b[38;5;28;43mself\u001b[39;49m\u001b[38;5;241;43m.\u001b[39;49m\u001b[43m_make_selectors\u001b[49m\u001b[43m(\u001b[49m\u001b[43m)\u001b[49m\n",
      "File \u001b[1;32mc:\\Users\\Cooper\\miniconda3\\envs\\bro\\Lib\\site-packages\\pandas\\core\\reshape\\reshape.py:210\u001b[0m, in \u001b[0;36m_Unstacker._make_selectors\u001b[1;34m(self)\u001b[0m\n\u001b[0;32m    207\u001b[0m mask\u001b[38;5;241m.\u001b[39mput(selector, \u001b[38;5;28;01mTrue\u001b[39;00m)\n\u001b[0;32m    209\u001b[0m \u001b[38;5;28;01mif\u001b[39;00m mask\u001b[38;5;241m.\u001b[39msum() \u001b[38;5;241m<\u001b[39m \u001b[38;5;28mlen\u001b[39m(\u001b[38;5;28mself\u001b[39m\u001b[38;5;241m.\u001b[39mindex):\n\u001b[1;32m--> 210\u001b[0m     \u001b[38;5;28;01mraise\u001b[39;00m \u001b[38;5;167;01mValueError\u001b[39;00m(\u001b[38;5;124m\"\u001b[39m\u001b[38;5;124mIndex contains duplicate entries, cannot reshape\u001b[39m\u001b[38;5;124m\"\u001b[39m)\n\u001b[0;32m    212\u001b[0m \u001b[38;5;28mself\u001b[39m\u001b[38;5;241m.\u001b[39mgroup_index \u001b[38;5;241m=\u001b[39m comp_index\n\u001b[0;32m    213\u001b[0m \u001b[38;5;28mself\u001b[39m\u001b[38;5;241m.\u001b[39mmask \u001b[38;5;241m=\u001b[39m mask\n",
      "\u001b[1;31mValueError\u001b[0m: Index contains duplicate entries, cannot reshape"
     ]
    }
   ],
   "source": [
    "rated_seasons = []\n",
    "\n",
    "for season in alive_it(\n",
    "    it=valid[\"SEASON\"].unique(),\n",
    "    total=valid[\"SEASON\"].unique().shape[0],\n",
    "    theme=\"classic\",\n",
    "):\n",
    "\n",
    "    tdf = (\n",
    "        valid[(valid[\"PLAYERS\"] == 4) & (valid[\"SEASON\"] == season)]\n",
    "        .drop(columns=[\"SUID\", \"CHARACTER\", \"PLAYERS\", \"SEASON\", \"MAP\"])\n",
    "        .sort_values(by=[\"UID\", \"PLACE\"])\n",
    "        .copy()\n",
    "        .reset_index(drop=True)\n",
    "    )\n",
    "\n",
    "    pdf = (\n",
    "        tdf.pivot(index=\"UID\", columns=\"PLACE\", values=\"NAME\")\n",
    "        .reset_index()\n",
    "        .rename(columns={1: \"1st\", 2: \"2nd\", 3: \"3rd\", 4: \"4th\"})\n",
    "        .merge(tdf[[\"UID\", \"DATE\"]], on=\"UID\", how=\"inner\", validate=\"1:m\")\n",
    "        .groupby(\"UID\")\n",
    "        .first()\n",
    "        .set_index(\"DATE\")\n",
    "        .reset_index()\n",
    "        .rename(columns={\"DATE\": \"date\"})\n",
    "    )\n",
    "\n",
    "    exp_elo = MultiElo(score_function_base=1.5)\n",
    "    tracker = Tracker(elo_rater=exp_elo)\n",
    "    tracker.process_data(pdf)\n",
    "\n",
    "    rdf = tracker.get_current_ratings()\n",
    "\n",
    "    rdf[\"SEASON\"] = season\n",
    "\n",
    "    rated_seasons.append(rdf)"
   ]
  },
  {
   "cell_type": "code",
   "execution_count": 95,
   "metadata": {},
   "outputs": [
    {
     "ename": "IndexError",
     "evalue": "list index out of range",
     "output_type": "error",
     "traceback": [
      "\u001b[1;31m---------------------------------------------------------------------------\u001b[0m",
      "\u001b[1;31mIndexError\u001b[0m                                Traceback (most recent call last)",
      "Cell \u001b[1;32mIn[95], line 1\u001b[0m\n\u001b[1;32m----> 1\u001b[0m \u001b[43mrated_seasons\u001b[49m\u001b[43m[\u001b[49m\u001b[38;5;241;43m-\u001b[39;49m\u001b[38;5;241;43m1\u001b[39;49m\u001b[43m]\u001b[49m\n",
      "\u001b[1;31mIndexError\u001b[0m: list index out of range"
     ]
    }
   ],
   "source": [
    "rated_seasons[-1]"
   ]
  },
  {
   "cell_type": "code",
   "execution_count": 64,
   "metadata": {},
   "outputs": [
    {
     "data": {
      "text/html": [
       "<div>\n",
       "<style scoped>\n",
       "    .dataframe tbody tr th:only-of-type {\n",
       "        vertical-align: middle;\n",
       "    }\n",
       "\n",
       "    .dataframe tbody tr th {\n",
       "        vertical-align: top;\n",
       "    }\n",
       "\n",
       "    .dataframe thead th {\n",
       "        text-align: right;\n",
       "    }\n",
       "</style>\n",
       "<table border=\"1\" class=\"dataframe\">\n",
       "  <thead>\n",
       "    <tr style=\"text-align: right;\">\n",
       "      <th></th>\n",
       "      <th>rank</th>\n",
       "      <th>player_id</th>\n",
       "      <th>n_games</th>\n",
       "      <th>rating</th>\n",
       "      <th>SEASON</th>\n",
       "    </tr>\n",
       "  </thead>\n",
       "  <tbody>\n",
       "    <tr>\n",
       "      <th>0</th>\n",
       "      <td>1</td>\n",
       "      <td>Cooper</td>\n",
       "      <td>142</td>\n",
       "      <td>1431.138670</td>\n",
       "      <td>0</td>\n",
       "    </tr>\n",
       "    <tr>\n",
       "      <th>1</th>\n",
       "      <td>2</td>\n",
       "      <td>Regan</td>\n",
       "      <td>58</td>\n",
       "      <td>1212.174791</td>\n",
       "      <td>0</td>\n",
       "    </tr>\n",
       "    <tr>\n",
       "      <th>2</th>\n",
       "      <td>3</td>\n",
       "      <td>Cole</td>\n",
       "      <td>33</td>\n",
       "      <td>1153.182061</td>\n",
       "      <td>0</td>\n",
       "    </tr>\n",
       "    <tr>\n",
       "      <th>3</th>\n",
       "      <td>4</td>\n",
       "      <td>Matt</td>\n",
       "      <td>68</td>\n",
       "      <td>1138.867777</td>\n",
       "      <td>0</td>\n",
       "    </tr>\n",
       "    <tr>\n",
       "      <th>4</th>\n",
       "      <td>5</td>\n",
       "      <td>Blake</td>\n",
       "      <td>29</td>\n",
       "      <td>1085.996876</td>\n",
       "      <td>0</td>\n",
       "    </tr>\n",
       "    <tr>\n",
       "      <th>...</th>\n",
       "      <td>...</td>\n",
       "      <td>...</td>\n",
       "      <td>...</td>\n",
       "      <td>...</td>\n",
       "      <td>...</td>\n",
       "    </tr>\n",
       "    <tr>\n",
       "      <th>235</th>\n",
       "      <td>16</td>\n",
       "      <td>Randy</td>\n",
       "      <td>10</td>\n",
       "      <td>876.515824</td>\n",
       "      <td>11</td>\n",
       "    </tr>\n",
       "    <tr>\n",
       "      <th>236</th>\n",
       "      <td>17</td>\n",
       "      <td>Colton</td>\n",
       "      <td>21</td>\n",
       "      <td>872.667841</td>\n",
       "      <td>11</td>\n",
       "    </tr>\n",
       "    <tr>\n",
       "      <th>237</th>\n",
       "      <td>18</td>\n",
       "      <td>Domingo</td>\n",
       "      <td>26</td>\n",
       "      <td>840.244082</td>\n",
       "      <td>11</td>\n",
       "    </tr>\n",
       "    <tr>\n",
       "      <th>238</th>\n",
       "      <td>19</td>\n",
       "      <td>Antonio</td>\n",
       "      <td>15</td>\n",
       "      <td>839.396319</td>\n",
       "      <td>11</td>\n",
       "    </tr>\n",
       "    <tr>\n",
       "      <th>239</th>\n",
       "      <td>20</td>\n",
       "      <td>Garrett</td>\n",
       "      <td>42</td>\n",
       "      <td>743.448517</td>\n",
       "      <td>11</td>\n",
       "    </tr>\n",
       "  </tbody>\n",
       "</table>\n",
       "<p>240 rows × 5 columns</p>\n",
       "</div>"
      ],
      "text/plain": [
       "     rank player_id  n_games       rating  SEASON\n",
       "0       1    Cooper      142  1431.138670       0\n",
       "1       2     Regan       58  1212.174791       0\n",
       "2       3      Cole       33  1153.182061       0\n",
       "3       4      Matt       68  1138.867777       0\n",
       "4       5     Blake       29  1085.996876       0\n",
       "..    ...       ...      ...          ...     ...\n",
       "235    16     Randy       10   876.515824      11\n",
       "236    17    Colton       21   872.667841      11\n",
       "237    18   Domingo       26   840.244082      11\n",
       "238    19   Antonio       15   839.396319      11\n",
       "239    20   Garrett       42   743.448517      11\n",
       "\n",
       "[240 rows x 5 columns]"
      ]
     },
     "execution_count": 64,
     "metadata": {},
     "output_type": "execute_result"
    }
   ],
   "source": [
    "pd.concat(rated_seasons).sort_values(by=[\"SEASON\", \"rank\"]).reset_index(drop=True)"
   ]
  },
  {
   "cell_type": "code",
   "execution_count": 66,
   "metadata": {},
   "outputs": [
    {
     "data": {
      "text/html": [
       "<div>\n",
       "<style scoped>\n",
       "    .dataframe tbody tr th:only-of-type {\n",
       "        vertical-align: middle;\n",
       "    }\n",
       "\n",
       "    .dataframe tbody tr th {\n",
       "        vertical-align: top;\n",
       "    }\n",
       "\n",
       "    .dataframe thead th {\n",
       "        text-align: right;\n",
       "    }\n",
       "</style>\n",
       "<table border=\"1\" class=\"dataframe\">\n",
       "  <thead>\n",
       "    <tr style=\"text-align: right;\">\n",
       "      <th></th>\n",
       "      <th>UID</th>\n",
       "      <th>NAME</th>\n",
       "      <th>PLACE</th>\n",
       "      <th>DATE</th>\n",
       "    </tr>\n",
       "  </thead>\n",
       "  <tbody>\n",
       "    <tr>\n",
       "      <th>0</th>\n",
       "      <td>1</td>\n",
       "      <td>Cooper</td>\n",
       "      <td>1</td>\n",
       "      <td>2021-09-20</td>\n",
       "    </tr>\n",
       "    <tr>\n",
       "      <th>1</th>\n",
       "      <td>1</td>\n",
       "      <td>Connor</td>\n",
       "      <td>2</td>\n",
       "      <td>2021-09-20</td>\n",
       "    </tr>\n",
       "    <tr>\n",
       "      <th>2</th>\n",
       "      <td>1</td>\n",
       "      <td>Triston</td>\n",
       "      <td>3</td>\n",
       "      <td>2021-09-20</td>\n",
       "    </tr>\n",
       "    <tr>\n",
       "      <th>3</th>\n",
       "      <td>1</td>\n",
       "      <td>Cole</td>\n",
       "      <td>4</td>\n",
       "      <td>2021-09-20</td>\n",
       "    </tr>\n",
       "    <tr>\n",
       "      <th>4</th>\n",
       "      <td>2</td>\n",
       "      <td>Cooper</td>\n",
       "      <td>1</td>\n",
       "      <td>2021-09-20</td>\n",
       "    </tr>\n",
       "    <tr>\n",
       "      <th>...</th>\n",
       "      <td>...</td>\n",
       "      <td>...</td>\n",
       "      <td>...</td>\n",
       "      <td>...</td>\n",
       "    </tr>\n",
       "    <tr>\n",
       "      <th>21641</th>\n",
       "      <td>6288</td>\n",
       "      <td>Regan</td>\n",
       "      <td>3</td>\n",
       "      <td>2024-07-15</td>\n",
       "    </tr>\n",
       "    <tr>\n",
       "      <th>21642</th>\n",
       "      <td>6288</td>\n",
       "      <td>Konnor</td>\n",
       "      <td>4</td>\n",
       "      <td>2024-07-15</td>\n",
       "    </tr>\n",
       "    <tr>\n",
       "      <th>21643</th>\n",
       "      <td>6289</td>\n",
       "      <td>Regan</td>\n",
       "      <td>1</td>\n",
       "      <td>2024-07-15</td>\n",
       "    </tr>\n",
       "    <tr>\n",
       "      <th>21644</th>\n",
       "      <td>6289</td>\n",
       "      <td>Cooper</td>\n",
       "      <td>2</td>\n",
       "      <td>2024-07-15</td>\n",
       "    </tr>\n",
       "    <tr>\n",
       "      <th>21645</th>\n",
       "      <td>6289</td>\n",
       "      <td>Konnor</td>\n",
       "      <td>3</td>\n",
       "      <td>2024-07-15</td>\n",
       "    </tr>\n",
       "  </tbody>\n",
       "</table>\n",
       "<p>21646 rows × 4 columns</p>\n",
       "</div>"
      ],
      "text/plain": [
       "        UID     NAME  PLACE        DATE\n",
       "0         1   Cooper      1  2021-09-20\n",
       "1         1   Connor      2  2021-09-20\n",
       "2         1  Triston      3  2021-09-20\n",
       "3         1     Cole      4  2021-09-20\n",
       "4         2   Cooper      1  2021-09-20\n",
       "...     ...      ...    ...         ...\n",
       "21641  6288    Regan      3  2024-07-15\n",
       "21642  6288   Konnor      4  2024-07-15\n",
       "21643  6289    Regan      1  2024-07-15\n",
       "21644  6289   Cooper      2  2024-07-15\n",
       "21645  6289   Konnor      3  2024-07-15\n",
       "\n",
       "[21646 rows x 4 columns]"
      ]
     },
     "execution_count": 66,
     "metadata": {},
     "output_type": "execute_result"
    }
   ],
   "source": [
    "tdf"
   ]
  },
  {
   "cell_type": "code",
   "execution_count": 67,
   "metadata": {},
   "outputs": [
    {
     "data": {
      "text/html": [
       "<div>\n",
       "<style scoped>\n",
       "    .dataframe tbody tr th:only-of-type {\n",
       "        vertical-align: middle;\n",
       "    }\n",
       "\n",
       "    .dataframe tbody tr th {\n",
       "        vertical-align: top;\n",
       "    }\n",
       "\n",
       "    .dataframe thead th {\n",
       "        text-align: right;\n",
       "    }\n",
       "</style>\n",
       "<table border=\"1\" class=\"dataframe\">\n",
       "  <thead>\n",
       "    <tr style=\"text-align: right;\">\n",
       "      <th></th>\n",
       "      <th>UID</th>\n",
       "      <th>SUID</th>\n",
       "      <th>NAME</th>\n",
       "      <th>CHARACTER</th>\n",
       "      <th>MAP</th>\n",
       "      <th>PLACE</th>\n",
       "      <th>PLAYERS</th>\n",
       "      <th>DATE</th>\n",
       "      <th>SEASON</th>\n",
       "    </tr>\n",
       "  </thead>\n",
       "  <tbody>\n",
       "    <tr>\n",
       "      <th>0</th>\n",
       "      <td>1</td>\n",
       "      <td>1</td>\n",
       "      <td>Cole</td>\n",
       "      <td>Toad</td>\n",
       "      <td>Sherbet Land</td>\n",
       "      <td>4</td>\n",
       "      <td>4</td>\n",
       "      <td>2021-09-20</td>\n",
       "      <td>0</td>\n",
       "    </tr>\n",
       "    <tr>\n",
       "      <th>1</th>\n",
       "      <td>1</td>\n",
       "      <td>1</td>\n",
       "      <td>Connor</td>\n",
       "      <td>Yoshi</td>\n",
       "      <td>Sherbet Land</td>\n",
       "      <td>2</td>\n",
       "      <td>4</td>\n",
       "      <td>2021-09-20</td>\n",
       "      <td>0</td>\n",
       "    </tr>\n",
       "    <tr>\n",
       "      <th>2</th>\n",
       "      <td>1</td>\n",
       "      <td>1</td>\n",
       "      <td>Cooper</td>\n",
       "      <td>Peach</td>\n",
       "      <td>Sherbet Land</td>\n",
       "      <td>1</td>\n",
       "      <td>4</td>\n",
       "      <td>2021-09-20</td>\n",
       "      <td>0</td>\n",
       "    </tr>\n",
       "    <tr>\n",
       "      <th>3</th>\n",
       "      <td>1</td>\n",
       "      <td>1</td>\n",
       "      <td>Triston</td>\n",
       "      <td>Bowser</td>\n",
       "      <td>Sherbet Land</td>\n",
       "      <td>3</td>\n",
       "      <td>4</td>\n",
       "      <td>2021-09-20</td>\n",
       "      <td>0</td>\n",
       "    </tr>\n",
       "    <tr>\n",
       "      <th>4</th>\n",
       "      <td>2</td>\n",
       "      <td>1</td>\n",
       "      <td>Cole</td>\n",
       "      <td>Toad</td>\n",
       "      <td>Kalimari Desert</td>\n",
       "      <td>4</td>\n",
       "      <td>4</td>\n",
       "      <td>2021-09-20</td>\n",
       "      <td>0</td>\n",
       "    </tr>\n",
       "    <tr>\n",
       "      <th>...</th>\n",
       "      <td>...</td>\n",
       "      <td>...</td>\n",
       "      <td>...</td>\n",
       "      <td>...</td>\n",
       "      <td>...</td>\n",
       "      <td>...</td>\n",
       "      <td>...</td>\n",
       "      <td>...</td>\n",
       "      <td>...</td>\n",
       "    </tr>\n",
       "    <tr>\n",
       "      <th>21641</th>\n",
       "      <td>6288</td>\n",
       "      <td>735</td>\n",
       "      <td>Regan</td>\n",
       "      <td>Yoshi</td>\n",
       "      <td>Moo Moo Farm</td>\n",
       "      <td>3</td>\n",
       "      <td>4</td>\n",
       "      <td>2024-07-15</td>\n",
       "      <td>11</td>\n",
       "    </tr>\n",
       "    <tr>\n",
       "      <th>21642</th>\n",
       "      <td>6288</td>\n",
       "      <td>735</td>\n",
       "      <td>Konnor</td>\n",
       "      <td>Bowser</td>\n",
       "      <td>Moo Moo Farm</td>\n",
       "      <td>4</td>\n",
       "      <td>4</td>\n",
       "      <td>2024-07-15</td>\n",
       "      <td>11</td>\n",
       "    </tr>\n",
       "    <tr>\n",
       "      <th>21643</th>\n",
       "      <td>6289</td>\n",
       "      <td>735</td>\n",
       "      <td>Regan</td>\n",
       "      <td>Toad</td>\n",
       "      <td>Bowser's Castle</td>\n",
       "      <td>1</td>\n",
       "      <td>3</td>\n",
       "      <td>2024-07-15</td>\n",
       "      <td>11</td>\n",
       "    </tr>\n",
       "    <tr>\n",
       "      <th>21644</th>\n",
       "      <td>6289</td>\n",
       "      <td>735</td>\n",
       "      <td>Cooper</td>\n",
       "      <td>D.K.</td>\n",
       "      <td>Bowser's Castle</td>\n",
       "      <td>2</td>\n",
       "      <td>3</td>\n",
       "      <td>2024-07-15</td>\n",
       "      <td>11</td>\n",
       "    </tr>\n",
       "    <tr>\n",
       "      <th>21645</th>\n",
       "      <td>6289</td>\n",
       "      <td>735</td>\n",
       "      <td>Konnor</td>\n",
       "      <td>Yoshi</td>\n",
       "      <td>Bowser's Castle</td>\n",
       "      <td>3</td>\n",
       "      <td>3</td>\n",
       "      <td>2024-07-15</td>\n",
       "      <td>11</td>\n",
       "    </tr>\n",
       "  </tbody>\n",
       "</table>\n",
       "<p>21646 rows × 9 columns</p>\n",
       "</div>"
      ],
      "text/plain": [
       "        UID  SUID     NAME CHARACTER  ... PLACE  PLAYERS        DATE SEASON\n",
       "0         1     1     Cole      Toad  ...     4        4  2021-09-20      0\n",
       "1         1     1   Connor     Yoshi  ...     2        4  2021-09-20      0\n",
       "2         1     1   Cooper     Peach  ...     1        4  2021-09-20      0\n",
       "3         1     1  Triston    Bowser  ...     3        4  2021-09-20      0\n",
       "4         2     1     Cole      Toad  ...     4        4  2021-09-20      0\n",
       "...     ...   ...      ...       ...  ...   ...      ...         ...    ...\n",
       "21641  6288   735    Regan     Yoshi  ...     3        4  2024-07-15     11\n",
       "21642  6288   735   Konnor    Bowser  ...     4        4  2024-07-15     11\n",
       "21643  6289   735    Regan      Toad  ...     1        3  2024-07-15     11\n",
       "21644  6289   735   Cooper      D.K.  ...     2        3  2024-07-15     11\n",
       "21645  6289   735   Konnor     Yoshi  ...     3        3  2024-07-15     11\n",
       "\n",
       "[21646 rows x 9 columns]"
      ]
     },
     "execution_count": 67,
     "metadata": {},
     "output_type": "execute_result"
    }
   ],
   "source": [
    "df"
   ]
  },
  {
   "cell_type": "code",
   "execution_count": 96,
   "metadata": {},
   "outputs": [
    {
     "data": {
      "text/html": [
       "<div>\n",
       "<style scoped>\n",
       "    .dataframe tbody tr th:only-of-type {\n",
       "        vertical-align: middle;\n",
       "    }\n",
       "\n",
       "    .dataframe tbody tr th {\n",
       "        vertical-align: top;\n",
       "    }\n",
       "\n",
       "    .dataframe thead th {\n",
       "        text-align: right;\n",
       "    }\n",
       "</style>\n",
       "<table border=\"1\" class=\"dataframe\">\n",
       "  <thead>\n",
       "    <tr style=\"text-align: right;\">\n",
       "      <th></th>\n",
       "      <th>UID</th>\n",
       "      <th>SUID</th>\n",
       "      <th>NAME</th>\n",
       "      <th>CHARACTER</th>\n",
       "      <th>MAP</th>\n",
       "      <th>PLACE</th>\n",
       "      <th>PLAYERS</th>\n",
       "      <th>DATE</th>\n",
       "      <th>SEASON</th>\n",
       "    </tr>\n",
       "  </thead>\n",
       "  <tbody>\n",
       "  </tbody>\n",
       "</table>\n",
       "</div>"
      ],
      "text/plain": [
       "Empty DataFrame\n",
       "Columns: [UID, SUID, NAME, CHARACTER, MAP, PLACE, PLAYERS, DATE, SEASON]\n",
       "Index: []"
      ]
     },
     "execution_count": 96,
     "metadata": {},
     "output_type": "execute_result"
    }
   ],
   "source": [
    "msk = (valid[\"UID\"].value_counts().reset_index()[\"count\"] > 4 ) | (valid[\"UID\"].value_counts().reset_index()[\"count\"] < 2)\n",
    "\n",
    "valid[valid[\"UID\"].isin(valid[\"UID\"].value_counts().index[msk])]"
   ]
  },
  {
   "cell_type": "code",
   "execution_count": 110,
   "metadata": {},
   "outputs": [
    {
     "data": {
      "text/html": [
       "<div>\n",
       "<style scoped>\n",
       "    .dataframe tbody tr th:only-of-type {\n",
       "        vertical-align: middle;\n",
       "    }\n",
       "\n",
       "    .dataframe tbody tr th {\n",
       "        vertical-align: top;\n",
       "    }\n",
       "\n",
       "    .dataframe thead th {\n",
       "        text-align: right;\n",
       "    }\n",
       "</style>\n",
       "<table border=\"1\" class=\"dataframe\">\n",
       "  <thead>\n",
       "    <tr style=\"text-align: right;\">\n",
       "      <th></th>\n",
       "      <th>UID</th>\n",
       "      <th>NAME</th>\n",
       "      <th>PLACE</th>\n",
       "      <th>DATE</th>\n",
       "    </tr>\n",
       "  </thead>\n",
       "  <tbody>\n",
       "    <tr>\n",
       "      <th>0</th>\n",
       "      <td>1</td>\n",
       "      <td>Cooper</td>\n",
       "      <td>1</td>\n",
       "      <td>2021-09-20</td>\n",
       "    </tr>\n",
       "    <tr>\n",
       "      <th>1</th>\n",
       "      <td>1</td>\n",
       "      <td>Connor</td>\n",
       "      <td>2</td>\n",
       "      <td>2021-09-20</td>\n",
       "    </tr>\n",
       "    <tr>\n",
       "      <th>2</th>\n",
       "      <td>1</td>\n",
       "      <td>Triston</td>\n",
       "      <td>3</td>\n",
       "      <td>2021-09-20</td>\n",
       "    </tr>\n",
       "    <tr>\n",
       "      <th>3</th>\n",
       "      <td>1</td>\n",
       "      <td>Cole</td>\n",
       "      <td>4</td>\n",
       "      <td>2021-09-20</td>\n",
       "    </tr>\n",
       "    <tr>\n",
       "      <th>4</th>\n",
       "      <td>2</td>\n",
       "      <td>Cooper</td>\n",
       "      <td>1</td>\n",
       "      <td>2021-09-20</td>\n",
       "    </tr>\n",
       "    <tr>\n",
       "      <th>...</th>\n",
       "      <td>...</td>\n",
       "      <td>...</td>\n",
       "      <td>...</td>\n",
       "      <td>...</td>\n",
       "    </tr>\n",
       "    <tr>\n",
       "      <th>1559</th>\n",
       "      <td>689</td>\n",
       "      <td>Cole</td>\n",
       "      <td>4</td>\n",
       "      <td>2021-11-10</td>\n",
       "    </tr>\n",
       "    <tr>\n",
       "      <th>1560</th>\n",
       "      <td>692</td>\n",
       "      <td>Matt</td>\n",
       "      <td>1</td>\n",
       "      <td>2021-11-10</td>\n",
       "    </tr>\n",
       "    <tr>\n",
       "      <th>1561</th>\n",
       "      <td>692</td>\n",
       "      <td>Cooper</td>\n",
       "      <td>2</td>\n",
       "      <td>2021-11-10</td>\n",
       "    </tr>\n",
       "    <tr>\n",
       "      <th>1562</th>\n",
       "      <td>692</td>\n",
       "      <td>Blake</td>\n",
       "      <td>3</td>\n",
       "      <td>2021-11-10</td>\n",
       "    </tr>\n",
       "    <tr>\n",
       "      <th>1563</th>\n",
       "      <td>692</td>\n",
       "      <td>Robert</td>\n",
       "      <td>4</td>\n",
       "      <td>2021-11-10</td>\n",
       "    </tr>\n",
       "  </tbody>\n",
       "</table>\n",
       "<p>1564 rows × 4 columns</p>\n",
       "</div>"
      ],
      "text/plain": [
       "      UID     NAME  PLACE        DATE\n",
       "0       1   Cooper      1  2021-09-20\n",
       "1       1   Connor      2  2021-09-20\n",
       "2       1  Triston      3  2021-09-20\n",
       "3       1     Cole      4  2021-09-20\n",
       "4       2   Cooper      1  2021-09-20\n",
       "...   ...      ...    ...         ...\n",
       "1559  689     Cole      4  2021-11-10\n",
       "1560  692     Matt      1  2021-11-10\n",
       "1561  692   Cooper      2  2021-11-10\n",
       "1562  692    Blake      3  2021-11-10\n",
       "1563  692   Robert      4  2021-11-10\n",
       "\n",
       "[1564 rows x 4 columns]"
      ]
     },
     "execution_count": 110,
     "metadata": {},
     "output_type": "execute_result"
    }
   ],
   "source": [
    "tdf = (\n",
    "    valid[(valid[\"PLAYERS\"] == 4) & (valid[\"SEASON\"] == 0)]\n",
    "    .drop(columns=[\"SUID\", \"CHARACTER\", \"PLAYERS\", \"SEASON\", \"MAP\"])\n",
    "    .sort_values(by=[\"UID\", \"PLACE\"])\n",
    "    .copy()\n",
    "    .reset_index(drop=True)\n",
    ")\n",
    "\n",
    "tdf"
   ]
  },
  {
   "cell_type": "code",
   "execution_count": 111,
   "metadata": {},
   "outputs": [
    {
     "data": {
      "text/plain": [
       "UID\n",
       "1      4\n",
       "390    4\n",
       "432    4\n",
       "424    4\n",
       "423    4\n",
       "      ..\n",
       "197    4\n",
       "193    4\n",
       "192    4\n",
       "191    4\n",
       "692    4\n",
       "Name: count, Length: 391, dtype: int64"
      ]
     },
     "execution_count": 111,
     "metadata": {},
     "output_type": "execute_result"
    }
   ],
   "source": [
    "tdf[\"UID\"].value_counts()"
   ]
  },
  {
   "cell_type": "code",
   "execution_count": 107,
   "metadata": {},
   "outputs": [
    {
     "data": {
      "text/html": [
       "<div>\n",
       "<style scoped>\n",
       "    .dataframe tbody tr th:only-of-type {\n",
       "        vertical-align: middle;\n",
       "    }\n",
       "\n",
       "    .dataframe tbody tr th {\n",
       "        vertical-align: top;\n",
       "    }\n",
       "\n",
       "    .dataframe thead th {\n",
       "        text-align: right;\n",
       "    }\n",
       "</style>\n",
       "<table border=\"1\" class=\"dataframe\">\n",
       "  <thead>\n",
       "    <tr style=\"text-align: right;\">\n",
       "      <th></th>\n",
       "      <th>date</th>\n",
       "      <th>1st</th>\n",
       "      <th>2nd</th>\n",
       "      <th>3rd</th>\n",
       "      <th>4th</th>\n",
       "    </tr>\n",
       "  </thead>\n",
       "  <tbody>\n",
       "    <tr>\n",
       "      <th>0</th>\n",
       "      <td>2022-01-25</td>\n",
       "      <td>Cooper</td>\n",
       "      <td>Blake</td>\n",
       "      <td>Connor</td>\n",
       "      <td>Jake</td>\n",
       "    </tr>\n",
       "    <tr>\n",
       "      <th>1</th>\n",
       "      <td>2022-01-25</td>\n",
       "      <td>Cooper</td>\n",
       "      <td>Connor</td>\n",
       "      <td>Jake</td>\n",
       "      <td>Blake</td>\n",
       "    </tr>\n",
       "    <tr>\n",
       "      <th>2</th>\n",
       "      <td>2022-01-25</td>\n",
       "      <td>Cooper</td>\n",
       "      <td>Blake</td>\n",
       "      <td>Jake</td>\n",
       "      <td>Connor</td>\n",
       "    </tr>\n",
       "    <tr>\n",
       "      <th>3</th>\n",
       "      <td>2022-01-25</td>\n",
       "      <td>Connor</td>\n",
       "      <td>Cole</td>\n",
       "      <td>Blake</td>\n",
       "      <td>Robert</td>\n",
       "    </tr>\n",
       "    <tr>\n",
       "      <th>4</th>\n",
       "      <td>2022-01-27</td>\n",
       "      <td>Luke</td>\n",
       "      <td>Matt</td>\n",
       "      <td>Chandler</td>\n",
       "      <td>Robert</td>\n",
       "    </tr>\n",
       "    <tr>\n",
       "      <th>...</th>\n",
       "      <td>...</td>\n",
       "      <td>...</td>\n",
       "      <td>...</td>\n",
       "      <td>...</td>\n",
       "      <td>...</td>\n",
       "    </tr>\n",
       "    <tr>\n",
       "      <th>230</th>\n",
       "      <td>2022-03-12</td>\n",
       "      <td>Cole</td>\n",
       "      <td>Blake</td>\n",
       "      <td>Connor</td>\n",
       "      <td>Jake</td>\n",
       "    </tr>\n",
       "    <tr>\n",
       "      <th>231</th>\n",
       "      <td>2022-03-13</td>\n",
       "      <td>Cooper</td>\n",
       "      <td>Regan</td>\n",
       "      <td>Cole</td>\n",
       "      <td>Triston</td>\n",
       "    </tr>\n",
       "    <tr>\n",
       "      <th>232</th>\n",
       "      <td>2022-03-13</td>\n",
       "      <td>Cooper</td>\n",
       "      <td>Cole</td>\n",
       "      <td>Triston</td>\n",
       "      <td>Regan</td>\n",
       "    </tr>\n",
       "    <tr>\n",
       "      <th>233</th>\n",
       "      <td>2022-03-13</td>\n",
       "      <td>Cooper</td>\n",
       "      <td>Regan</td>\n",
       "      <td>Cole</td>\n",
       "      <td>Triston</td>\n",
       "    </tr>\n",
       "    <tr>\n",
       "      <th>234</th>\n",
       "      <td>2022-03-13</td>\n",
       "      <td>Regan</td>\n",
       "      <td>Cole</td>\n",
       "      <td>Cooper</td>\n",
       "      <td>Triston</td>\n",
       "    </tr>\n",
       "  </tbody>\n",
       "</table>\n",
       "<p>235 rows × 5 columns</p>\n",
       "</div>"
      ],
      "text/plain": [
       "           date     1st     2nd       3rd      4th\n",
       "0    2022-01-25  Cooper   Blake    Connor     Jake\n",
       "1    2022-01-25  Cooper  Connor      Jake    Blake\n",
       "2    2022-01-25  Cooper   Blake      Jake   Connor\n",
       "3    2022-01-25  Connor    Cole     Blake   Robert\n",
       "4    2022-01-27    Luke    Matt  Chandler   Robert\n",
       "..          ...     ...     ...       ...      ...\n",
       "230  2022-03-12    Cole   Blake    Connor     Jake\n",
       "231  2022-03-13  Cooper   Regan      Cole  Triston\n",
       "232  2022-03-13  Cooper    Cole   Triston    Regan\n",
       "233  2022-03-13  Cooper   Regan      Cole  Triston\n",
       "234  2022-03-13   Regan    Cole    Cooper  Triston\n",
       "\n",
       "[235 rows x 5 columns]"
      ]
     },
     "execution_count": 107,
     "metadata": {},
     "output_type": "execute_result"
    }
   ],
   "source": [
    "pdf = (\n",
    "    tdf.pivot(index=\"UID\", columns=\"PLACE\", values=\"NAME\")\n",
    "    .reset_index()\n",
    "    .rename(columns={1: \"1st\", 2: \"2nd\", 3: \"3rd\", 4: \"4th\"})\n",
    "    .merge(tdf[[\"UID\", \"DATE\"]], on=\"UID\", how=\"inner\", validate=\"1:m\")\n",
    "    .groupby(\"UID\")\n",
    "    .first()\n",
    "    .set_index(\"DATE\")\n",
    "    .reset_index()\n",
    "    .rename(columns={\"DATE\": \"date\"})\n",
    ")\n",
    "\n",
    "pdf"
   ]
  },
  {
   "cell_type": "code",
   "execution_count": 97,
   "metadata": {},
   "outputs": [
    {
     "ename": "ValueError",
     "evalue": "Index contains duplicate entries, cannot reshape",
     "output_type": "error",
     "traceback": [
      "\u001b[1;31m---------------------------------------------------------------------------\u001b[0m",
      "\u001b[1;31mValueError\u001b[0m                                Traceback (most recent call last)",
      "Cell \u001b[1;32mIn[97], line 9\u001b[0m\n\u001b[0;32m      1\u001b[0m tdf \u001b[38;5;241m=\u001b[39m (\n\u001b[0;32m      2\u001b[0m     valid\u001b[38;5;241m.\u001b[39mdrop(columns\u001b[38;5;241m=\u001b[39m[\u001b[38;5;124m\"\u001b[39m\u001b[38;5;124mSUID\u001b[39m\u001b[38;5;124m\"\u001b[39m, \u001b[38;5;124m\"\u001b[39m\u001b[38;5;124mCHARACTER\u001b[39m\u001b[38;5;124m\"\u001b[39m, \u001b[38;5;124m\"\u001b[39m\u001b[38;5;124mPLAYERS\u001b[39m\u001b[38;5;124m\"\u001b[39m, \u001b[38;5;124m\"\u001b[39m\u001b[38;5;124mSEASON\u001b[39m\u001b[38;5;124m\"\u001b[39m, \u001b[38;5;124m\"\u001b[39m\u001b[38;5;124mMAP\u001b[39m\u001b[38;5;124m\"\u001b[39m])\n\u001b[0;32m      3\u001b[0m     \u001b[38;5;241m.\u001b[39msort_values(by\u001b[38;5;241m=\u001b[39m[\u001b[38;5;124m\"\u001b[39m\u001b[38;5;124mUID\u001b[39m\u001b[38;5;124m\"\u001b[39m, \u001b[38;5;124m\"\u001b[39m\u001b[38;5;124mPLACE\u001b[39m\u001b[38;5;124m\"\u001b[39m])\n\u001b[0;32m      4\u001b[0m     \u001b[38;5;241m.\u001b[39mcopy()\n\u001b[0;32m      5\u001b[0m     \u001b[38;5;241m.\u001b[39mreset_index(drop\u001b[38;5;241m=\u001b[39m\u001b[38;5;28;01mTrue\u001b[39;00m)\n\u001b[0;32m      6\u001b[0m )\n\u001b[0;32m      8\u001b[0m pdf \u001b[38;5;241m=\u001b[39m (\n\u001b[1;32m----> 9\u001b[0m     \u001b[43mtdf\u001b[49m\u001b[38;5;241;43m.\u001b[39;49m\u001b[43mpivot\u001b[49m\u001b[43m(\u001b[49m\u001b[43mindex\u001b[49m\u001b[38;5;241;43m=\u001b[39;49m\u001b[38;5;124;43m\"\u001b[39;49m\u001b[38;5;124;43mUID\u001b[39;49m\u001b[38;5;124;43m\"\u001b[39;49m\u001b[43m,\u001b[49m\u001b[43m \u001b[49m\u001b[43mcolumns\u001b[49m\u001b[38;5;241;43m=\u001b[39;49m\u001b[38;5;124;43m\"\u001b[39;49m\u001b[38;5;124;43mPLACE\u001b[39;49m\u001b[38;5;124;43m\"\u001b[39;49m\u001b[43m,\u001b[49m\u001b[43m \u001b[49m\u001b[43mvalues\u001b[49m\u001b[38;5;241;43m=\u001b[39;49m\u001b[38;5;124;43m\"\u001b[39;49m\u001b[38;5;124;43mNAME\u001b[39;49m\u001b[38;5;124;43m\"\u001b[39;49m\u001b[43m)\u001b[49m\n\u001b[0;32m     10\u001b[0m     \u001b[38;5;241m.\u001b[39mreset_index()\n\u001b[0;32m     11\u001b[0m     \u001b[38;5;241m.\u001b[39mrename(columns\u001b[38;5;241m=\u001b[39m{\u001b[38;5;241m1\u001b[39m: \u001b[38;5;124m\"\u001b[39m\u001b[38;5;124m1st\u001b[39m\u001b[38;5;124m\"\u001b[39m, \u001b[38;5;241m2\u001b[39m: \u001b[38;5;124m\"\u001b[39m\u001b[38;5;124m2nd\u001b[39m\u001b[38;5;124m\"\u001b[39m, \u001b[38;5;241m3\u001b[39m: \u001b[38;5;124m\"\u001b[39m\u001b[38;5;124m3rd\u001b[39m\u001b[38;5;124m\"\u001b[39m, \u001b[38;5;241m4\u001b[39m: \u001b[38;5;124m\"\u001b[39m\u001b[38;5;124m4th\u001b[39m\u001b[38;5;124m\"\u001b[39m})\n\u001b[0;32m     12\u001b[0m     \u001b[38;5;241m.\u001b[39mmerge(tdf[[\u001b[38;5;124m\"\u001b[39m\u001b[38;5;124mUID\u001b[39m\u001b[38;5;124m\"\u001b[39m, \u001b[38;5;124m\"\u001b[39m\u001b[38;5;124mDATE\u001b[39m\u001b[38;5;124m\"\u001b[39m]], on\u001b[38;5;241m=\u001b[39m\u001b[38;5;124m\"\u001b[39m\u001b[38;5;124mUID\u001b[39m\u001b[38;5;124m\"\u001b[39m, how\u001b[38;5;241m=\u001b[39m\u001b[38;5;124m\"\u001b[39m\u001b[38;5;124minner\u001b[39m\u001b[38;5;124m\"\u001b[39m, validate\u001b[38;5;241m=\u001b[39m\u001b[38;5;124m\"\u001b[39m\u001b[38;5;124m1:m\u001b[39m\u001b[38;5;124m\"\u001b[39m)\n\u001b[0;32m     13\u001b[0m     \u001b[38;5;241m.\u001b[39mgroupby(\u001b[38;5;124m\"\u001b[39m\u001b[38;5;124mUID\u001b[39m\u001b[38;5;124m\"\u001b[39m)\n\u001b[0;32m     14\u001b[0m     \u001b[38;5;241m.\u001b[39mfirst()\n\u001b[0;32m     15\u001b[0m     \u001b[38;5;241m.\u001b[39mset_index(\u001b[38;5;124m\"\u001b[39m\u001b[38;5;124mDATE\u001b[39m\u001b[38;5;124m\"\u001b[39m)\n\u001b[0;32m     16\u001b[0m     \u001b[38;5;241m.\u001b[39mreset_index()\n\u001b[0;32m     17\u001b[0m     \u001b[38;5;241m.\u001b[39mrename(columns\u001b[38;5;241m=\u001b[39m{\u001b[38;5;124m\"\u001b[39m\u001b[38;5;124mDATE\u001b[39m\u001b[38;5;124m\"\u001b[39m: \u001b[38;5;124m\"\u001b[39m\u001b[38;5;124mdate\u001b[39m\u001b[38;5;124m\"\u001b[39m})\n\u001b[0;32m     18\u001b[0m )\n\u001b[0;32m     20\u001b[0m exp_elo \u001b[38;5;241m=\u001b[39m MultiElo(score_function_base\u001b[38;5;241m=\u001b[39m\u001b[38;5;241m1.5\u001b[39m)\n\u001b[0;32m     21\u001b[0m tracker \u001b[38;5;241m=\u001b[39m Tracker(elo_rater\u001b[38;5;241m=\u001b[39mexp_elo)\n",
      "File \u001b[1;32mc:\\Users\\Cooper\\miniconda3\\envs\\bro\\Lib\\site-packages\\pandas\\core\\frame.py:9339\u001b[0m, in \u001b[0;36mDataFrame.pivot\u001b[1;34m(self, columns, index, values)\u001b[0m\n\u001b[0;32m   9332\u001b[0m \u001b[38;5;129m@Substitution\u001b[39m(\u001b[38;5;124m\"\u001b[39m\u001b[38;5;124m\"\u001b[39m)\n\u001b[0;32m   9333\u001b[0m \u001b[38;5;129m@Appender\u001b[39m(_shared_docs[\u001b[38;5;124m\"\u001b[39m\u001b[38;5;124mpivot\u001b[39m\u001b[38;5;124m\"\u001b[39m])\n\u001b[0;32m   9334\u001b[0m \u001b[38;5;28;01mdef\u001b[39;00m \u001b[38;5;21mpivot\u001b[39m(\n\u001b[0;32m   9335\u001b[0m     \u001b[38;5;28mself\u001b[39m, \u001b[38;5;241m*\u001b[39m, columns, index\u001b[38;5;241m=\u001b[39mlib\u001b[38;5;241m.\u001b[39mno_default, values\u001b[38;5;241m=\u001b[39mlib\u001b[38;5;241m.\u001b[39mno_default\n\u001b[0;32m   9336\u001b[0m ) \u001b[38;5;241m-\u001b[39m\u001b[38;5;241m>\u001b[39m DataFrame:\n\u001b[0;32m   9337\u001b[0m     \u001b[38;5;28;01mfrom\u001b[39;00m \u001b[38;5;21;01mpandas\u001b[39;00m\u001b[38;5;21;01m.\u001b[39;00m\u001b[38;5;21;01mcore\u001b[39;00m\u001b[38;5;21;01m.\u001b[39;00m\u001b[38;5;21;01mreshape\u001b[39;00m\u001b[38;5;21;01m.\u001b[39;00m\u001b[38;5;21;01mpivot\u001b[39;00m \u001b[38;5;28;01mimport\u001b[39;00m pivot\n\u001b[1;32m-> 9339\u001b[0m     \u001b[38;5;28;01mreturn\u001b[39;00m \u001b[43mpivot\u001b[49m\u001b[43m(\u001b[49m\u001b[38;5;28;43mself\u001b[39;49m\u001b[43m,\u001b[49m\u001b[43m \u001b[49m\u001b[43mindex\u001b[49m\u001b[38;5;241;43m=\u001b[39;49m\u001b[43mindex\u001b[49m\u001b[43m,\u001b[49m\u001b[43m \u001b[49m\u001b[43mcolumns\u001b[49m\u001b[38;5;241;43m=\u001b[39;49m\u001b[43mcolumns\u001b[49m\u001b[43m,\u001b[49m\u001b[43m \u001b[49m\u001b[43mvalues\u001b[49m\u001b[38;5;241;43m=\u001b[39;49m\u001b[43mvalues\u001b[49m\u001b[43m)\u001b[49m\n",
      "File \u001b[1;32mc:\\Users\\Cooper\\miniconda3\\envs\\bro\\Lib\\site-packages\\pandas\\core\\reshape\\pivot.py:570\u001b[0m, in \u001b[0;36mpivot\u001b[1;34m(data, columns, index, values)\u001b[0m\n\u001b[0;32m    566\u001b[0m         indexed \u001b[38;5;241m=\u001b[39m data\u001b[38;5;241m.\u001b[39m_constructor_sliced(data[values]\u001b[38;5;241m.\u001b[39m_values, index\u001b[38;5;241m=\u001b[39mmultiindex)\n\u001b[0;32m    567\u001b[0m \u001b[38;5;66;03m# error: Argument 1 to \"unstack\" of \"DataFrame\" has incompatible type \"Union\u001b[39;00m\n\u001b[0;32m    568\u001b[0m \u001b[38;5;66;03m# [List[Any], ExtensionArray, ndarray[Any, Any], Index, Series]\"; expected\u001b[39;00m\n\u001b[0;32m    569\u001b[0m \u001b[38;5;66;03m# \"Hashable\"\u001b[39;00m\n\u001b[1;32m--> 570\u001b[0m result \u001b[38;5;241m=\u001b[39m \u001b[43mindexed\u001b[49m\u001b[38;5;241;43m.\u001b[39;49m\u001b[43munstack\u001b[49m\u001b[43m(\u001b[49m\u001b[43mcolumns_listlike\u001b[49m\u001b[43m)\u001b[49m  \u001b[38;5;66;03m# type: ignore[arg-type]\u001b[39;00m\n\u001b[0;32m    571\u001b[0m result\u001b[38;5;241m.\u001b[39mindex\u001b[38;5;241m.\u001b[39mnames \u001b[38;5;241m=\u001b[39m [\n\u001b[0;32m    572\u001b[0m     name \u001b[38;5;28;01mif\u001b[39;00m name \u001b[38;5;129;01mis\u001b[39;00m \u001b[38;5;129;01mnot\u001b[39;00m lib\u001b[38;5;241m.\u001b[39mno_default \u001b[38;5;28;01melse\u001b[39;00m \u001b[38;5;28;01mNone\u001b[39;00m \u001b[38;5;28;01mfor\u001b[39;00m name \u001b[38;5;129;01min\u001b[39;00m result\u001b[38;5;241m.\u001b[39mindex\u001b[38;5;241m.\u001b[39mnames\n\u001b[0;32m    573\u001b[0m ]\n\u001b[0;32m    575\u001b[0m \u001b[38;5;28;01mreturn\u001b[39;00m result\n",
      "File \u001b[1;32mc:\\Users\\Cooper\\miniconda3\\envs\\bro\\Lib\\site-packages\\pandas\\core\\series.py:4615\u001b[0m, in \u001b[0;36mSeries.unstack\u001b[1;34m(self, level, fill_value, sort)\u001b[0m\n\u001b[0;32m   4570\u001b[0m \u001b[38;5;250m\u001b[39m\u001b[38;5;124;03m\"\"\"\u001b[39;00m\n\u001b[0;32m   4571\u001b[0m \u001b[38;5;124;03mUnstack, also known as pivot, Series with MultiIndex to produce DataFrame.\u001b[39;00m\n\u001b[0;32m   4572\u001b[0m \n\u001b[1;32m   (...)\u001b[0m\n\u001b[0;32m   4611\u001b[0m \u001b[38;5;124;03mb    2    4\u001b[39;00m\n\u001b[0;32m   4612\u001b[0m \u001b[38;5;124;03m\"\"\"\u001b[39;00m\n\u001b[0;32m   4613\u001b[0m \u001b[38;5;28;01mfrom\u001b[39;00m \u001b[38;5;21;01mpandas\u001b[39;00m\u001b[38;5;21;01m.\u001b[39;00m\u001b[38;5;21;01mcore\u001b[39;00m\u001b[38;5;21;01m.\u001b[39;00m\u001b[38;5;21;01mreshape\u001b[39;00m\u001b[38;5;21;01m.\u001b[39;00m\u001b[38;5;21;01mreshape\u001b[39;00m \u001b[38;5;28;01mimport\u001b[39;00m unstack\n\u001b[1;32m-> 4615\u001b[0m \u001b[38;5;28;01mreturn\u001b[39;00m \u001b[43munstack\u001b[49m\u001b[43m(\u001b[49m\u001b[38;5;28;43mself\u001b[39;49m\u001b[43m,\u001b[49m\u001b[43m \u001b[49m\u001b[43mlevel\u001b[49m\u001b[43m,\u001b[49m\u001b[43m \u001b[49m\u001b[43mfill_value\u001b[49m\u001b[43m,\u001b[49m\u001b[43m \u001b[49m\u001b[43msort\u001b[49m\u001b[43m)\u001b[49m\n",
      "File \u001b[1;32mc:\\Users\\Cooper\\miniconda3\\envs\\bro\\Lib\\site-packages\\pandas\\core\\reshape\\reshape.py:517\u001b[0m, in \u001b[0;36munstack\u001b[1;34m(obj, level, fill_value, sort)\u001b[0m\n\u001b[0;32m    515\u001b[0m \u001b[38;5;28;01mif\u001b[39;00m is_1d_only_ea_dtype(obj\u001b[38;5;241m.\u001b[39mdtype):\n\u001b[0;32m    516\u001b[0m     \u001b[38;5;28;01mreturn\u001b[39;00m _unstack_extension_series(obj, level, fill_value, sort\u001b[38;5;241m=\u001b[39msort)\n\u001b[1;32m--> 517\u001b[0m unstacker \u001b[38;5;241m=\u001b[39m \u001b[43m_Unstacker\u001b[49m\u001b[43m(\u001b[49m\n\u001b[0;32m    518\u001b[0m \u001b[43m    \u001b[49m\u001b[43mobj\u001b[49m\u001b[38;5;241;43m.\u001b[39;49m\u001b[43mindex\u001b[49m\u001b[43m,\u001b[49m\u001b[43m \u001b[49m\u001b[43mlevel\u001b[49m\u001b[38;5;241;43m=\u001b[39;49m\u001b[43mlevel\u001b[49m\u001b[43m,\u001b[49m\u001b[43m \u001b[49m\u001b[43mconstructor\u001b[49m\u001b[38;5;241;43m=\u001b[39;49m\u001b[43mobj\u001b[49m\u001b[38;5;241;43m.\u001b[39;49m\u001b[43m_constructor_expanddim\u001b[49m\u001b[43m,\u001b[49m\u001b[43m \u001b[49m\u001b[43msort\u001b[49m\u001b[38;5;241;43m=\u001b[39;49m\u001b[43msort\u001b[49m\n\u001b[0;32m    519\u001b[0m \u001b[43m\u001b[49m\u001b[43m)\u001b[49m\n\u001b[0;32m    520\u001b[0m \u001b[38;5;28;01mreturn\u001b[39;00m unstacker\u001b[38;5;241m.\u001b[39mget_result(\n\u001b[0;32m    521\u001b[0m     obj\u001b[38;5;241m.\u001b[39m_values, value_columns\u001b[38;5;241m=\u001b[39m\u001b[38;5;28;01mNone\u001b[39;00m, fill_value\u001b[38;5;241m=\u001b[39mfill_value\n\u001b[0;32m    522\u001b[0m )\n",
      "File \u001b[1;32mc:\\Users\\Cooper\\miniconda3\\envs\\bro\\Lib\\site-packages\\pandas\\core\\reshape\\reshape.py:154\u001b[0m, in \u001b[0;36m_Unstacker.__init__\u001b[1;34m(self, index, level, constructor, sort)\u001b[0m\n\u001b[0;32m    146\u001b[0m \u001b[38;5;28;01mif\u001b[39;00m num_cells \u001b[38;5;241m>\u001b[39m np\u001b[38;5;241m.\u001b[39miinfo(np\u001b[38;5;241m.\u001b[39mint32)\u001b[38;5;241m.\u001b[39mmax:\n\u001b[0;32m    147\u001b[0m     warnings\u001b[38;5;241m.\u001b[39mwarn(\n\u001b[0;32m    148\u001b[0m         \u001b[38;5;124mf\u001b[39m\u001b[38;5;124m\"\u001b[39m\u001b[38;5;124mThe following operation may generate \u001b[39m\u001b[38;5;132;01m{\u001b[39;00mnum_cells\u001b[38;5;132;01m}\u001b[39;00m\u001b[38;5;124m cells \u001b[39m\u001b[38;5;124m\"\u001b[39m\n\u001b[0;32m    149\u001b[0m         \u001b[38;5;124mf\u001b[39m\u001b[38;5;124m\"\u001b[39m\u001b[38;5;124min the resulting pandas object.\u001b[39m\u001b[38;5;124m\"\u001b[39m,\n\u001b[0;32m    150\u001b[0m         PerformanceWarning,\n\u001b[0;32m    151\u001b[0m         stacklevel\u001b[38;5;241m=\u001b[39mfind_stack_level(),\n\u001b[0;32m    152\u001b[0m     )\n\u001b[1;32m--> 154\u001b[0m \u001b[38;5;28;43mself\u001b[39;49m\u001b[38;5;241;43m.\u001b[39;49m\u001b[43m_make_selectors\u001b[49m\u001b[43m(\u001b[49m\u001b[43m)\u001b[49m\n",
      "File \u001b[1;32mc:\\Users\\Cooper\\miniconda3\\envs\\bro\\Lib\\site-packages\\pandas\\core\\reshape\\reshape.py:210\u001b[0m, in \u001b[0;36m_Unstacker._make_selectors\u001b[1;34m(self)\u001b[0m\n\u001b[0;32m    207\u001b[0m mask\u001b[38;5;241m.\u001b[39mput(selector, \u001b[38;5;28;01mTrue\u001b[39;00m)\n\u001b[0;32m    209\u001b[0m \u001b[38;5;28;01mif\u001b[39;00m mask\u001b[38;5;241m.\u001b[39msum() \u001b[38;5;241m<\u001b[39m \u001b[38;5;28mlen\u001b[39m(\u001b[38;5;28mself\u001b[39m\u001b[38;5;241m.\u001b[39mindex):\n\u001b[1;32m--> 210\u001b[0m     \u001b[38;5;28;01mraise\u001b[39;00m \u001b[38;5;167;01mValueError\u001b[39;00m(\u001b[38;5;124m\"\u001b[39m\u001b[38;5;124mIndex contains duplicate entries, cannot reshape\u001b[39m\u001b[38;5;124m\"\u001b[39m)\n\u001b[0;32m    212\u001b[0m \u001b[38;5;28mself\u001b[39m\u001b[38;5;241m.\u001b[39mgroup_index \u001b[38;5;241m=\u001b[39m comp_index\n\u001b[0;32m    213\u001b[0m \u001b[38;5;28mself\u001b[39m\u001b[38;5;241m.\u001b[39mmask \u001b[38;5;241m=\u001b[39m mask\n",
      "\u001b[1;31mValueError\u001b[0m: Index contains duplicate entries, cannot reshape"
     ]
    }
   ],
   "source": [
    "tdf = (\n",
    "    valid.drop(columns=[\"SUID\", \"CHARACTER\", \"PLAYERS\", \"SEASON\", \"MAP\"])\n",
    "    .sort_values(by=[\"UID\", \"PLACE\"])\n",
    "    .copy()\n",
    "    .reset_index(drop=True)\n",
    ")\n",
    "\n",
    "pdf = (\n",
    "    tdf.pivot(index=\"UID\", columns=\"PLACE\", values=\"NAME\")\n",
    "    .reset_index()\n",
    "    .rename(columns={1: \"1st\", 2: \"2nd\", 3: \"3rd\", 4: \"4th\"})\n",
    "    .merge(tdf[[\"UID\", \"DATE\"]], on=\"UID\", how=\"inner\", validate=\"1:m\")\n",
    "    .groupby(\"UID\")\n",
    "    .first()\n",
    "    .set_index(\"DATE\")\n",
    "    .reset_index()\n",
    "    .rename(columns={\"DATE\": \"date\"})\n",
    ")\n",
    "\n",
    "exp_elo = MultiElo(score_function_base=1.5)\n",
    "tracker = Tracker(elo_rater=exp_elo)\n",
    "tracker.process_data(pdf)\n",
    "\n",
    "rdf = tracker.get_current_ratings()"
   ]
  },
  {
   "cell_type": "code",
   "execution_count": 19,
   "metadata": {},
   "outputs": [
    {
     "data": {
      "text/html": [
       "<div>\n",
       "<style scoped>\n",
       "    .dataframe tbody tr th:only-of-type {\n",
       "        vertical-align: middle;\n",
       "    }\n",
       "\n",
       "    .dataframe tbody tr th {\n",
       "        vertical-align: top;\n",
       "    }\n",
       "\n",
       "    .dataframe thead th {\n",
       "        text-align: right;\n",
       "    }\n",
       "</style>\n",
       "<table border=\"1\" class=\"dataframe\">\n",
       "  <thead>\n",
       "    <tr style=\"text-align: right;\">\n",
       "      <th></th>\n",
       "      <th>UID</th>\n",
       "      <th>NAME</th>\n",
       "      <th>PLACE</th>\n",
       "      <th>DATE</th>\n",
       "      <th>GAMES_PLAYED</th>\n",
       "    </tr>\n",
       "  </thead>\n",
       "  <tbody>\n",
       "    <tr>\n",
       "      <th>0</th>\n",
       "      <td>6002</td>\n",
       "      <td>Blake</td>\n",
       "      <td>1</td>\n",
       "      <td>2024-06-21</td>\n",
       "      <td>29</td>\n",
       "    </tr>\n",
       "    <tr>\n",
       "      <th>1</th>\n",
       "      <td>6002</td>\n",
       "      <td>Cooper</td>\n",
       "      <td>2</td>\n",
       "      <td>2024-06-21</td>\n",
       "      <td>144</td>\n",
       "    </tr>\n",
       "    <tr>\n",
       "      <th>2</th>\n",
       "      <td>6002</td>\n",
       "      <td>Matt</td>\n",
       "      <td>3</td>\n",
       "      <td>2024-06-21</td>\n",
       "      <td>68</td>\n",
       "    </tr>\n",
       "    <tr>\n",
       "      <th>3</th>\n",
       "      <td>6002</td>\n",
       "      <td>Garrett</td>\n",
       "      <td>4</td>\n",
       "      <td>2024-06-21</td>\n",
       "      <td>43</td>\n",
       "    </tr>\n",
       "    <tr>\n",
       "      <th>4</th>\n",
       "      <td>6003</td>\n",
       "      <td>Cooper</td>\n",
       "      <td>1</td>\n",
       "      <td>2024-06-21</td>\n",
       "      <td>144</td>\n",
       "    </tr>\n",
       "    <tr>\n",
       "      <th>...</th>\n",
       "      <td>...</td>\n",
       "      <td>...</td>\n",
       "      <td>...</td>\n",
       "      <td>...</td>\n",
       "      <td>...</td>\n",
       "    </tr>\n",
       "    <tr>\n",
       "      <th>571</th>\n",
       "      <td>6291</td>\n",
       "      <td>Triston</td>\n",
       "      <td>4</td>\n",
       "      <td>2024-07-16</td>\n",
       "      <td>25</td>\n",
       "    </tr>\n",
       "    <tr>\n",
       "      <th>572</th>\n",
       "      <td>6294</td>\n",
       "      <td>Cooper</td>\n",
       "      <td>1</td>\n",
       "      <td>2024-07-17</td>\n",
       "      <td>144</td>\n",
       "    </tr>\n",
       "    <tr>\n",
       "      <th>573</th>\n",
       "      <td>6294</td>\n",
       "      <td>Cole</td>\n",
       "      <td>2</td>\n",
       "      <td>2024-07-17</td>\n",
       "      <td>35</td>\n",
       "    </tr>\n",
       "    <tr>\n",
       "      <th>574</th>\n",
       "      <td>6294</td>\n",
       "      <td>Connor</td>\n",
       "      <td>3</td>\n",
       "      <td>2024-07-17</td>\n",
       "      <td>26</td>\n",
       "    </tr>\n",
       "    <tr>\n",
       "      <th>575</th>\n",
       "      <td>6294</td>\n",
       "      <td>Garrett</td>\n",
       "      <td>4</td>\n",
       "      <td>2024-07-17</td>\n",
       "      <td>43</td>\n",
       "    </tr>\n",
       "  </tbody>\n",
       "</table>\n",
       "<p>576 rows × 5 columns</p>\n",
       "</div>"
      ],
      "text/plain": [
       "      UID     NAME  PLACE        DATE  GAMES_PLAYED\n",
       "0    6002    Blake      1  2024-06-21            29\n",
       "1    6002   Cooper      2  2024-06-21           144\n",
       "2    6002     Matt      3  2024-06-21            68\n",
       "3    6002  Garrett      4  2024-06-21            43\n",
       "4    6003   Cooper      1  2024-06-21           144\n",
       "..    ...      ...    ...         ...           ...\n",
       "571  6291  Triston      4  2024-07-16            25\n",
       "572  6294   Cooper      1  2024-07-17           144\n",
       "573  6294     Cole      2  2024-07-17            35\n",
       "574  6294   Connor      3  2024-07-17            26\n",
       "575  6294  Garrett      4  2024-07-17            43\n",
       "\n",
       "[576 rows x 5 columns]"
      ]
     },
     "execution_count": 19,
     "metadata": {},
     "output_type": "execute_result"
    }
   ],
   "source": [
    "tdf = (\n",
    "    valid[(valid[\"PLAYERS\"] == 4) & (valid[\"SEASON\"] == 11)]\n",
    "    .drop(columns=[\"SUID\", \"CHARACTER\", \"PLAYERS\", \"SEASON\", \"MAP\"])\n",
    "    .sort_values(by=[\"UID\", \"PLACE\"])\n",
    "    .copy()\n",
    "    .reset_index(drop=True)\n",
    ")\n",
    "\n",
    "gp = tdf[\"NAME\"].value_counts().reset_index().rename(columns={\"count\": \"GAMES_PLAYED\"})\n",
    "\n",
    "tdf_merge = tdf.merge(gp, how=\"inner\", on=\"NAME\", validate=\"m:1\")\n",
    "\n",
    "tdf_filter = tdf_merge[tdf_merge[\"GAMES_PLAYED\"] > 15].reset_index(drop=True)\n",
    "\n",
    "tdf_filter"
   ]
  },
  {
   "cell_type": "code",
   "execution_count": 64,
   "metadata": {},
   "outputs": [
    {
     "ename": "ValueError",
     "evalue": "Index contains duplicate entries, cannot reshape",
     "output_type": "error",
     "traceback": [
      "\u001b[1;31m---------------------------------------------------------------------------\u001b[0m",
      "\u001b[1;31mValueError\u001b[0m                                Traceback (most recent call last)",
      "Cell \u001b[1;32mIn[64], line 10\u001b[0m\n\u001b[0;32m      1\u001b[0m tdf \u001b[38;5;241m=\u001b[39m (\n\u001b[0;32m      2\u001b[0m     valid[(valid[\u001b[38;5;124m\"\u001b[39m\u001b[38;5;124mPLAYERS\u001b[39m\u001b[38;5;124m\"\u001b[39m] \u001b[38;5;241m==\u001b[39m \u001b[38;5;241m2\u001b[39m) \u001b[38;5;241m&\u001b[39m (valid[\u001b[38;5;124m\"\u001b[39m\u001b[38;5;124mSEASON\u001b[39m\u001b[38;5;124m\"\u001b[39m] \u001b[38;5;241m==\u001b[39m \u001b[38;5;241m11\u001b[39m)]\n\u001b[0;32m      3\u001b[0m     \u001b[38;5;241m.\u001b[39mdrop(columns\u001b[38;5;241m=\u001b[39m[\u001b[38;5;124m\"\u001b[39m\u001b[38;5;124mSUID\u001b[39m\u001b[38;5;124m\"\u001b[39m, \u001b[38;5;124m\"\u001b[39m\u001b[38;5;124mCHARACTER\u001b[39m\u001b[38;5;124m\"\u001b[39m, \u001b[38;5;124m\"\u001b[39m\u001b[38;5;124mPLAYERS\u001b[39m\u001b[38;5;124m\"\u001b[39m, \u001b[38;5;124m\"\u001b[39m\u001b[38;5;124mSEASON\u001b[39m\u001b[38;5;124m\"\u001b[39m, \u001b[38;5;124m\"\u001b[39m\u001b[38;5;124mMAP\u001b[39m\u001b[38;5;124m\"\u001b[39m])\n\u001b[1;32m   (...)\u001b[0m\n\u001b[0;32m      6\u001b[0m     \u001b[38;5;241m.\u001b[39mreset_index(drop\u001b[38;5;241m=\u001b[39m\u001b[38;5;28;01mTrue\u001b[39;00m)\n\u001b[0;32m      7\u001b[0m )\n\u001b[0;32m      9\u001b[0m pdf \u001b[38;5;241m=\u001b[39m (\n\u001b[1;32m---> 10\u001b[0m     \u001b[43mtdf\u001b[49m\u001b[38;5;241;43m.\u001b[39;49m\u001b[43mpivot\u001b[49m\u001b[43m(\u001b[49m\u001b[43mindex\u001b[49m\u001b[38;5;241;43m=\u001b[39;49m\u001b[38;5;124;43m\"\u001b[39;49m\u001b[38;5;124;43mUID\u001b[39;49m\u001b[38;5;124;43m\"\u001b[39;49m\u001b[43m,\u001b[49m\u001b[43m \u001b[49m\u001b[43mcolumns\u001b[49m\u001b[38;5;241;43m=\u001b[39;49m\u001b[38;5;124;43m\"\u001b[39;49m\u001b[38;5;124;43mPLACE\u001b[39;49m\u001b[38;5;124;43m\"\u001b[39;49m\u001b[43m,\u001b[49m\u001b[43m \u001b[49m\u001b[43mvalues\u001b[49m\u001b[38;5;241;43m=\u001b[39;49m\u001b[38;5;124;43m\"\u001b[39;49m\u001b[38;5;124;43mNAME\u001b[39;49m\u001b[38;5;124;43m\"\u001b[39;49m\u001b[43m)\u001b[49m\n\u001b[0;32m     11\u001b[0m     \u001b[38;5;241m.\u001b[39mreset_index()\n\u001b[0;32m     12\u001b[0m     \u001b[38;5;241m.\u001b[39mrename(columns\u001b[38;5;241m=\u001b[39m{\u001b[38;5;241m1\u001b[39m: \u001b[38;5;124m\"\u001b[39m\u001b[38;5;124m1st\u001b[39m\u001b[38;5;124m\"\u001b[39m, \u001b[38;5;241m2\u001b[39m: \u001b[38;5;124m\"\u001b[39m\u001b[38;5;124m2nd\u001b[39m\u001b[38;5;124m\"\u001b[39m, \u001b[38;5;241m3\u001b[39m: \u001b[38;5;124m\"\u001b[39m\u001b[38;5;124m3rd\u001b[39m\u001b[38;5;124m\"\u001b[39m, \u001b[38;5;241m4\u001b[39m: \u001b[38;5;124m\"\u001b[39m\u001b[38;5;124m4th\u001b[39m\u001b[38;5;124m\"\u001b[39m})\n\u001b[0;32m     13\u001b[0m     \u001b[38;5;241m.\u001b[39mmerge(tdf[[\u001b[38;5;124m\"\u001b[39m\u001b[38;5;124mUID\u001b[39m\u001b[38;5;124m\"\u001b[39m, \u001b[38;5;124m\"\u001b[39m\u001b[38;5;124mDATE\u001b[39m\u001b[38;5;124m\"\u001b[39m]], on\u001b[38;5;241m=\u001b[39m\u001b[38;5;124m\"\u001b[39m\u001b[38;5;124mUID\u001b[39m\u001b[38;5;124m\"\u001b[39m, how\u001b[38;5;241m=\u001b[39m\u001b[38;5;124m\"\u001b[39m\u001b[38;5;124minner\u001b[39m\u001b[38;5;124m\"\u001b[39m, validate\u001b[38;5;241m=\u001b[39m\u001b[38;5;124m\"\u001b[39m\u001b[38;5;124m1:m\u001b[39m\u001b[38;5;124m\"\u001b[39m)\n\u001b[0;32m     14\u001b[0m     \u001b[38;5;241m.\u001b[39mgroupby(\u001b[38;5;124m\"\u001b[39m\u001b[38;5;124mUID\u001b[39m\u001b[38;5;124m\"\u001b[39m)\n\u001b[0;32m     15\u001b[0m     \u001b[38;5;241m.\u001b[39mfirst()\n\u001b[0;32m     16\u001b[0m     \u001b[38;5;241m.\u001b[39mset_index(\u001b[38;5;124m\"\u001b[39m\u001b[38;5;124mDATE\u001b[39m\u001b[38;5;124m\"\u001b[39m)\n\u001b[0;32m     17\u001b[0m     \u001b[38;5;241m.\u001b[39mreset_index()\n\u001b[0;32m     18\u001b[0m     \u001b[38;5;241m.\u001b[39mrename(columns\u001b[38;5;241m=\u001b[39m{\u001b[38;5;124m\"\u001b[39m\u001b[38;5;124mDATE\u001b[39m\u001b[38;5;124m\"\u001b[39m: \u001b[38;5;124m\"\u001b[39m\u001b[38;5;124mdate\u001b[39m\u001b[38;5;124m\"\u001b[39m})\n\u001b[0;32m     19\u001b[0m )\n\u001b[0;32m     21\u001b[0m exp_elo \u001b[38;5;241m=\u001b[39m MultiElo(score_function_base\u001b[38;5;241m=\u001b[39m\u001b[38;5;241m2\u001b[39m)\n\u001b[0;32m     22\u001b[0m tracker \u001b[38;5;241m=\u001b[39m Tracker(elo_rater\u001b[38;5;241m=\u001b[39mexp_elo)\n",
      "File \u001b[1;32mc:\\Users\\Cooper\\miniconda3\\envs\\bro\\Lib\\site-packages\\pandas\\core\\frame.py:9339\u001b[0m, in \u001b[0;36mDataFrame.pivot\u001b[1;34m(self, columns, index, values)\u001b[0m\n\u001b[0;32m   9332\u001b[0m \u001b[38;5;129m@Substitution\u001b[39m(\u001b[38;5;124m\"\u001b[39m\u001b[38;5;124m\"\u001b[39m)\n\u001b[0;32m   9333\u001b[0m \u001b[38;5;129m@Appender\u001b[39m(_shared_docs[\u001b[38;5;124m\"\u001b[39m\u001b[38;5;124mpivot\u001b[39m\u001b[38;5;124m\"\u001b[39m])\n\u001b[0;32m   9334\u001b[0m \u001b[38;5;28;01mdef\u001b[39;00m \u001b[38;5;21mpivot\u001b[39m(\n\u001b[0;32m   9335\u001b[0m     \u001b[38;5;28mself\u001b[39m, \u001b[38;5;241m*\u001b[39m, columns, index\u001b[38;5;241m=\u001b[39mlib\u001b[38;5;241m.\u001b[39mno_default, values\u001b[38;5;241m=\u001b[39mlib\u001b[38;5;241m.\u001b[39mno_default\n\u001b[0;32m   9336\u001b[0m ) \u001b[38;5;241m-\u001b[39m\u001b[38;5;241m>\u001b[39m DataFrame:\n\u001b[0;32m   9337\u001b[0m     \u001b[38;5;28;01mfrom\u001b[39;00m \u001b[38;5;21;01mpandas\u001b[39;00m\u001b[38;5;21;01m.\u001b[39;00m\u001b[38;5;21;01mcore\u001b[39;00m\u001b[38;5;21;01m.\u001b[39;00m\u001b[38;5;21;01mreshape\u001b[39;00m\u001b[38;5;21;01m.\u001b[39;00m\u001b[38;5;21;01mpivot\u001b[39;00m \u001b[38;5;28;01mimport\u001b[39;00m pivot\n\u001b[1;32m-> 9339\u001b[0m     \u001b[38;5;28;01mreturn\u001b[39;00m \u001b[43mpivot\u001b[49m\u001b[43m(\u001b[49m\u001b[38;5;28;43mself\u001b[39;49m\u001b[43m,\u001b[49m\u001b[43m \u001b[49m\u001b[43mindex\u001b[49m\u001b[38;5;241;43m=\u001b[39;49m\u001b[43mindex\u001b[49m\u001b[43m,\u001b[49m\u001b[43m \u001b[49m\u001b[43mcolumns\u001b[49m\u001b[38;5;241;43m=\u001b[39;49m\u001b[43mcolumns\u001b[49m\u001b[43m,\u001b[49m\u001b[43m \u001b[49m\u001b[43mvalues\u001b[49m\u001b[38;5;241;43m=\u001b[39;49m\u001b[43mvalues\u001b[49m\u001b[43m)\u001b[49m\n",
      "File \u001b[1;32mc:\\Users\\Cooper\\miniconda3\\envs\\bro\\Lib\\site-packages\\pandas\\core\\reshape\\pivot.py:570\u001b[0m, in \u001b[0;36mpivot\u001b[1;34m(data, columns, index, values)\u001b[0m\n\u001b[0;32m    566\u001b[0m         indexed \u001b[38;5;241m=\u001b[39m data\u001b[38;5;241m.\u001b[39m_constructor_sliced(data[values]\u001b[38;5;241m.\u001b[39m_values, index\u001b[38;5;241m=\u001b[39mmultiindex)\n\u001b[0;32m    567\u001b[0m \u001b[38;5;66;03m# error: Argument 1 to \"unstack\" of \"DataFrame\" has incompatible type \"Union\u001b[39;00m\n\u001b[0;32m    568\u001b[0m \u001b[38;5;66;03m# [List[Any], ExtensionArray, ndarray[Any, Any], Index, Series]\"; expected\u001b[39;00m\n\u001b[0;32m    569\u001b[0m \u001b[38;5;66;03m# \"Hashable\"\u001b[39;00m\n\u001b[1;32m--> 570\u001b[0m result \u001b[38;5;241m=\u001b[39m \u001b[43mindexed\u001b[49m\u001b[38;5;241;43m.\u001b[39;49m\u001b[43munstack\u001b[49m\u001b[43m(\u001b[49m\u001b[43mcolumns_listlike\u001b[49m\u001b[43m)\u001b[49m  \u001b[38;5;66;03m# type: ignore[arg-type]\u001b[39;00m\n\u001b[0;32m    571\u001b[0m result\u001b[38;5;241m.\u001b[39mindex\u001b[38;5;241m.\u001b[39mnames \u001b[38;5;241m=\u001b[39m [\n\u001b[0;32m    572\u001b[0m     name \u001b[38;5;28;01mif\u001b[39;00m name \u001b[38;5;129;01mis\u001b[39;00m \u001b[38;5;129;01mnot\u001b[39;00m lib\u001b[38;5;241m.\u001b[39mno_default \u001b[38;5;28;01melse\u001b[39;00m \u001b[38;5;28;01mNone\u001b[39;00m \u001b[38;5;28;01mfor\u001b[39;00m name \u001b[38;5;129;01min\u001b[39;00m result\u001b[38;5;241m.\u001b[39mindex\u001b[38;5;241m.\u001b[39mnames\n\u001b[0;32m    573\u001b[0m ]\n\u001b[0;32m    575\u001b[0m \u001b[38;5;28;01mreturn\u001b[39;00m result\n",
      "File \u001b[1;32mc:\\Users\\Cooper\\miniconda3\\envs\\bro\\Lib\\site-packages\\pandas\\core\\series.py:4615\u001b[0m, in \u001b[0;36mSeries.unstack\u001b[1;34m(self, level, fill_value, sort)\u001b[0m\n\u001b[0;32m   4570\u001b[0m \u001b[38;5;250m\u001b[39m\u001b[38;5;124;03m\"\"\"\u001b[39;00m\n\u001b[0;32m   4571\u001b[0m \u001b[38;5;124;03mUnstack, also known as pivot, Series with MultiIndex to produce DataFrame.\u001b[39;00m\n\u001b[0;32m   4572\u001b[0m \n\u001b[1;32m   (...)\u001b[0m\n\u001b[0;32m   4611\u001b[0m \u001b[38;5;124;03mb    2    4\u001b[39;00m\n\u001b[0;32m   4612\u001b[0m \u001b[38;5;124;03m\"\"\"\u001b[39;00m\n\u001b[0;32m   4613\u001b[0m \u001b[38;5;28;01mfrom\u001b[39;00m \u001b[38;5;21;01mpandas\u001b[39;00m\u001b[38;5;21;01m.\u001b[39;00m\u001b[38;5;21;01mcore\u001b[39;00m\u001b[38;5;21;01m.\u001b[39;00m\u001b[38;5;21;01mreshape\u001b[39;00m\u001b[38;5;21;01m.\u001b[39;00m\u001b[38;5;21;01mreshape\u001b[39;00m \u001b[38;5;28;01mimport\u001b[39;00m unstack\n\u001b[1;32m-> 4615\u001b[0m \u001b[38;5;28;01mreturn\u001b[39;00m \u001b[43munstack\u001b[49m\u001b[43m(\u001b[49m\u001b[38;5;28;43mself\u001b[39;49m\u001b[43m,\u001b[49m\u001b[43m \u001b[49m\u001b[43mlevel\u001b[49m\u001b[43m,\u001b[49m\u001b[43m \u001b[49m\u001b[43mfill_value\u001b[49m\u001b[43m,\u001b[49m\u001b[43m \u001b[49m\u001b[43msort\u001b[49m\u001b[43m)\u001b[49m\n",
      "File \u001b[1;32mc:\\Users\\Cooper\\miniconda3\\envs\\bro\\Lib\\site-packages\\pandas\\core\\reshape\\reshape.py:517\u001b[0m, in \u001b[0;36munstack\u001b[1;34m(obj, level, fill_value, sort)\u001b[0m\n\u001b[0;32m    515\u001b[0m \u001b[38;5;28;01mif\u001b[39;00m is_1d_only_ea_dtype(obj\u001b[38;5;241m.\u001b[39mdtype):\n\u001b[0;32m    516\u001b[0m     \u001b[38;5;28;01mreturn\u001b[39;00m _unstack_extension_series(obj, level, fill_value, sort\u001b[38;5;241m=\u001b[39msort)\n\u001b[1;32m--> 517\u001b[0m unstacker \u001b[38;5;241m=\u001b[39m \u001b[43m_Unstacker\u001b[49m\u001b[43m(\u001b[49m\n\u001b[0;32m    518\u001b[0m \u001b[43m    \u001b[49m\u001b[43mobj\u001b[49m\u001b[38;5;241;43m.\u001b[39;49m\u001b[43mindex\u001b[49m\u001b[43m,\u001b[49m\u001b[43m \u001b[49m\u001b[43mlevel\u001b[49m\u001b[38;5;241;43m=\u001b[39;49m\u001b[43mlevel\u001b[49m\u001b[43m,\u001b[49m\u001b[43m \u001b[49m\u001b[43mconstructor\u001b[49m\u001b[38;5;241;43m=\u001b[39;49m\u001b[43mobj\u001b[49m\u001b[38;5;241;43m.\u001b[39;49m\u001b[43m_constructor_expanddim\u001b[49m\u001b[43m,\u001b[49m\u001b[43m \u001b[49m\u001b[43msort\u001b[49m\u001b[38;5;241;43m=\u001b[39;49m\u001b[43msort\u001b[49m\n\u001b[0;32m    519\u001b[0m \u001b[43m\u001b[49m\u001b[43m)\u001b[49m\n\u001b[0;32m    520\u001b[0m \u001b[38;5;28;01mreturn\u001b[39;00m unstacker\u001b[38;5;241m.\u001b[39mget_result(\n\u001b[0;32m    521\u001b[0m     obj\u001b[38;5;241m.\u001b[39m_values, value_columns\u001b[38;5;241m=\u001b[39m\u001b[38;5;28;01mNone\u001b[39;00m, fill_value\u001b[38;5;241m=\u001b[39mfill_value\n\u001b[0;32m    522\u001b[0m )\n",
      "File \u001b[1;32mc:\\Users\\Cooper\\miniconda3\\envs\\bro\\Lib\\site-packages\\pandas\\core\\reshape\\reshape.py:154\u001b[0m, in \u001b[0;36m_Unstacker.__init__\u001b[1;34m(self, index, level, constructor, sort)\u001b[0m\n\u001b[0;32m    146\u001b[0m \u001b[38;5;28;01mif\u001b[39;00m num_cells \u001b[38;5;241m>\u001b[39m np\u001b[38;5;241m.\u001b[39miinfo(np\u001b[38;5;241m.\u001b[39mint32)\u001b[38;5;241m.\u001b[39mmax:\n\u001b[0;32m    147\u001b[0m     warnings\u001b[38;5;241m.\u001b[39mwarn(\n\u001b[0;32m    148\u001b[0m         \u001b[38;5;124mf\u001b[39m\u001b[38;5;124m\"\u001b[39m\u001b[38;5;124mThe following operation may generate \u001b[39m\u001b[38;5;132;01m{\u001b[39;00mnum_cells\u001b[38;5;132;01m}\u001b[39;00m\u001b[38;5;124m cells \u001b[39m\u001b[38;5;124m\"\u001b[39m\n\u001b[0;32m    149\u001b[0m         \u001b[38;5;124mf\u001b[39m\u001b[38;5;124m\"\u001b[39m\u001b[38;5;124min the resulting pandas object.\u001b[39m\u001b[38;5;124m\"\u001b[39m,\n\u001b[0;32m    150\u001b[0m         PerformanceWarning,\n\u001b[0;32m    151\u001b[0m         stacklevel\u001b[38;5;241m=\u001b[39mfind_stack_level(),\n\u001b[0;32m    152\u001b[0m     )\n\u001b[1;32m--> 154\u001b[0m \u001b[38;5;28;43mself\u001b[39;49m\u001b[38;5;241;43m.\u001b[39;49m\u001b[43m_make_selectors\u001b[49m\u001b[43m(\u001b[49m\u001b[43m)\u001b[49m\n",
      "File \u001b[1;32mc:\\Users\\Cooper\\miniconda3\\envs\\bro\\Lib\\site-packages\\pandas\\core\\reshape\\reshape.py:210\u001b[0m, in \u001b[0;36m_Unstacker._make_selectors\u001b[1;34m(self)\u001b[0m\n\u001b[0;32m    207\u001b[0m mask\u001b[38;5;241m.\u001b[39mput(selector, \u001b[38;5;28;01mTrue\u001b[39;00m)\n\u001b[0;32m    209\u001b[0m \u001b[38;5;28;01mif\u001b[39;00m mask\u001b[38;5;241m.\u001b[39msum() \u001b[38;5;241m<\u001b[39m \u001b[38;5;28mlen\u001b[39m(\u001b[38;5;28mself\u001b[39m\u001b[38;5;241m.\u001b[39mindex):\n\u001b[1;32m--> 210\u001b[0m     \u001b[38;5;28;01mraise\u001b[39;00m \u001b[38;5;167;01mValueError\u001b[39;00m(\u001b[38;5;124m\"\u001b[39m\u001b[38;5;124mIndex contains duplicate entries, cannot reshape\u001b[39m\u001b[38;5;124m\"\u001b[39m)\n\u001b[0;32m    212\u001b[0m \u001b[38;5;28mself\u001b[39m\u001b[38;5;241m.\u001b[39mgroup_index \u001b[38;5;241m=\u001b[39m comp_index\n\u001b[0;32m    213\u001b[0m \u001b[38;5;28mself\u001b[39m\u001b[38;5;241m.\u001b[39mmask \u001b[38;5;241m=\u001b[39m mask\n",
      "\u001b[1;31mValueError\u001b[0m: Index contains duplicate entries, cannot reshape"
     ]
    }
   ],
   "source": [
    "tdf = (\n",
    "    valid[(valid[\"PLAYERS\"] == 2) & (valid[\"SEASON\"] == 11)]\n",
    "    .drop(columns=[\"SUID\", \"CHARACTER\", \"PLAYERS\", \"SEASON\", \"MAP\"])\n",
    "    .sort_values(by=[\"UID\", \"PLACE\"])\n",
    "    .copy()\n",
    "    .reset_index(drop=True)\n",
    ")\n",
    "\n",
    "pdf = (\n",
    "    tdf.pivot(index=\"UID\", columns=\"PLACE\", values=\"NAME\")\n",
    "    .reset_index()\n",
    "    .rename(columns={1: \"1st\", 2: \"2nd\", 3: \"3rd\", 4: \"4th\"})\n",
    "    .merge(tdf[[\"UID\", \"DATE\"]], on=\"UID\", how=\"inner\", validate=\"1:m\")\n",
    "    .groupby(\"UID\")\n",
    "    .first()\n",
    "    .set_index(\"DATE\")\n",
    "    .reset_index()\n",
    "    .rename(columns={\"DATE\": \"date\"})\n",
    ")\n",
    "\n",
    "exp_elo = MultiElo(score_function_base=2)\n",
    "tracker = Tracker(elo_rater=exp_elo)\n",
    "tracker.process_data(pdf)\n",
    "\n",
    "rdf = tracker.get_current_ratings()"
   ]
  },
  {
   "cell_type": "code",
   "execution_count": 73,
   "metadata": {},
   "outputs": [
    {
     "data": {
      "text/html": [
       "<div>\n",
       "<style scoped>\n",
       "    .dataframe tbody tr th:only-of-type {\n",
       "        vertical-align: middle;\n",
       "    }\n",
       "\n",
       "    .dataframe tbody tr th {\n",
       "        vertical-align: top;\n",
       "    }\n",
       "\n",
       "    .dataframe thead th {\n",
       "        text-align: right;\n",
       "    }\n",
       "</style>\n",
       "<table border=\"1\" class=\"dataframe\">\n",
       "  <thead>\n",
       "    <tr style=\"text-align: right;\">\n",
       "      <th></th>\n",
       "      <th>UID</th>\n",
       "      <th>NAME</th>\n",
       "      <th>PLACE</th>\n",
       "      <th>DATE</th>\n",
       "    </tr>\n",
       "  </thead>\n",
       "  <tbody>\n",
       "  </tbody>\n",
       "</table>\n",
       "</div>"
      ],
      "text/plain": [
       "Empty DataFrame\n",
       "Columns: [UID, NAME, PLACE, DATE]\n",
       "Index: []"
      ]
     },
     "execution_count": 73,
     "metadata": {},
     "output_type": "execute_result"
    }
   ],
   "source": [
    "tdf = (\n",
    "    valid[(valid[\"PLAYERS\"] == 4) & (valid[\"SEASON\"] == 11)]\n",
    "    .drop(columns=[\"SUID\", \"CHARACTER\", \"PLAYERS\", \"SEASON\", \"MAP\"])\n",
    "    .sort_values(by=[\"UID\", \"PLACE\"])\n",
    "    .copy()\n",
    "    .reset_index(drop=True)\n",
    ")\n",
    "\n",
    "msk = tdf.duplicated([\"UID\", \"PLACE\"], keep=False)\n",
    "\n",
    "tdf[msk]"
   ]
  },
  {
   "cell_type": "code",
   "execution_count": 58,
   "metadata": {},
   "outputs": [
    {
     "data": {
      "text/html": [
       "<div>\n",
       "<style scoped>\n",
       "    .dataframe tbody tr th:only-of-type {\n",
       "        vertical-align: middle;\n",
       "    }\n",
       "\n",
       "    .dataframe tbody tr th {\n",
       "        vertical-align: top;\n",
       "    }\n",
       "\n",
       "    .dataframe thead th {\n",
       "        text-align: right;\n",
       "    }\n",
       "</style>\n",
       "<table border=\"1\" class=\"dataframe\">\n",
       "  <thead>\n",
       "    <tr style=\"text-align: right;\">\n",
       "      <th></th>\n",
       "      <th>rank</th>\n",
       "      <th>player_id</th>\n",
       "      <th>n_games</th>\n",
       "      <th>rating</th>\n",
       "    </tr>\n",
       "  </thead>\n",
       "  <tbody>\n",
       "    <tr>\n",
       "      <th>0</th>\n",
       "      <td>1</td>\n",
       "      <td>Cooper</td>\n",
       "      <td>83</td>\n",
       "      <td>1317.581044</td>\n",
       "    </tr>\n",
       "    <tr>\n",
       "      <th>1</th>\n",
       "      <td>2</td>\n",
       "      <td>Regan</td>\n",
       "      <td>31</td>\n",
       "      <td>1142.717810</td>\n",
       "    </tr>\n",
       "    <tr>\n",
       "      <th>2</th>\n",
       "      <td>3</td>\n",
       "      <td>Konnor</td>\n",
       "      <td>12</td>\n",
       "      <td>1066.531828</td>\n",
       "    </tr>\n",
       "    <tr>\n",
       "      <th>3</th>\n",
       "      <td>4</td>\n",
       "      <td>Matt</td>\n",
       "      <td>37</td>\n",
       "      <td>1044.775443</td>\n",
       "    </tr>\n",
       "    <tr>\n",
       "      <th>4</th>\n",
       "      <td>5</td>\n",
       "      <td>Cole</td>\n",
       "      <td>6</td>\n",
       "      <td>1041.329273</td>\n",
       "    </tr>\n",
       "    <tr>\n",
       "      <th>5</th>\n",
       "      <td>6</td>\n",
       "      <td>Chandler</td>\n",
       "      <td>2</td>\n",
       "      <td>1026.038232</td>\n",
       "    </tr>\n",
       "    <tr>\n",
       "      <th>6</th>\n",
       "      <td>7</td>\n",
       "      <td>Luke</td>\n",
       "      <td>8</td>\n",
       "      <td>1004.190102</td>\n",
       "    </tr>\n",
       "    <tr>\n",
       "      <th>7</th>\n",
       "      <td>8</td>\n",
       "      <td>Connor</td>\n",
       "      <td>3</td>\n",
       "      <td>987.405418</td>\n",
       "    </tr>\n",
       "    <tr>\n",
       "      <th>8</th>\n",
       "      <td>9</td>\n",
       "      <td>Blake</td>\n",
       "      <td>4</td>\n",
       "      <td>983.050793</td>\n",
       "    </tr>\n",
       "    <tr>\n",
       "      <th>9</th>\n",
       "      <td>10</td>\n",
       "      <td>Randy</td>\n",
       "      <td>1</td>\n",
       "      <td>979.696009</td>\n",
       "    </tr>\n",
       "    <tr>\n",
       "      <th>10</th>\n",
       "      <td>11</td>\n",
       "      <td>Jake</td>\n",
       "      <td>1</td>\n",
       "      <td>978.308200</td>\n",
       "    </tr>\n",
       "    <tr>\n",
       "      <th>11</th>\n",
       "      <td>12</td>\n",
       "      <td>Mikey</td>\n",
       "      <td>3</td>\n",
       "      <td>976.867539</td>\n",
       "    </tr>\n",
       "    <tr>\n",
       "      <th>12</th>\n",
       "      <td>13</td>\n",
       "      <td>Robert</td>\n",
       "      <td>5</td>\n",
       "      <td>958.006004</td>\n",
       "    </tr>\n",
       "    <tr>\n",
       "      <th>13</th>\n",
       "      <td>14</td>\n",
       "      <td>Antonio</td>\n",
       "      <td>4</td>\n",
       "      <td>953.409392</td>\n",
       "    </tr>\n",
       "    <tr>\n",
       "      <th>14</th>\n",
       "      <td>15</td>\n",
       "      <td>Domingo</td>\n",
       "      <td>5</td>\n",
       "      <td>942.931880</td>\n",
       "    </tr>\n",
       "    <tr>\n",
       "      <th>15</th>\n",
       "      <td>16</td>\n",
       "      <td>Triston</td>\n",
       "      <td>12</td>\n",
       "      <td>902.926718</td>\n",
       "    </tr>\n",
       "    <tr>\n",
       "      <th>16</th>\n",
       "      <td>17</td>\n",
       "      <td>Colton</td>\n",
       "      <td>12</td>\n",
       "      <td>887.616323</td>\n",
       "    </tr>\n",
       "    <tr>\n",
       "      <th>17</th>\n",
       "      <td>18</td>\n",
       "      <td>Garrett</td>\n",
       "      <td>32</td>\n",
       "      <td>806.617994</td>\n",
       "    </tr>\n",
       "  </tbody>\n",
       "</table>\n",
       "</div>"
      ],
      "text/plain": [
       "    rank player_id  n_games       rating\n",
       "0      1    Cooper       83  1317.581044\n",
       "1      2     Regan       31  1142.717810\n",
       "2      3    Konnor       12  1066.531828\n",
       "3      4      Matt       37  1044.775443\n",
       "4      5      Cole        6  1041.329273\n",
       "5      6  Chandler        2  1026.038232\n",
       "6      7      Luke        8  1004.190102\n",
       "7      8    Connor        3   987.405418\n",
       "8      9     Blake        4   983.050793\n",
       "9     10     Randy        1   979.696009\n",
       "10    11      Jake        1   978.308200\n",
       "11    12     Mikey        3   976.867539\n",
       "12    13    Robert        5   958.006004\n",
       "13    14   Antonio        4   953.409392\n",
       "14    15   Domingo        5   942.931880\n",
       "15    16   Triston       12   902.926718\n",
       "16    17    Colton       12   887.616323\n",
       "17    18   Garrett       32   806.617994"
      ]
     },
     "execution_count": 58,
     "metadata": {},
     "output_type": "execute_result"
    }
   ],
   "source": [
    "# filter_df = rdf[rdf[\"n_games\"] > 1].copy()\n",
    "\n",
    "filter_df = rdf.copy()\n",
    "\n",
    "filter_df"
   ]
  },
  {
   "cell_type": "code",
   "execution_count": 59,
   "metadata": {},
   "outputs": [
    {
     "data": {
      "text/html": [
       "\n",
       "<style>\n",
       "  #altair-viz-dfc7343255264f519decf317d44d4421.vega-embed {\n",
       "    width: 100%;\n",
       "    display: flex;\n",
       "  }\n",
       "\n",
       "  #altair-viz-dfc7343255264f519decf317d44d4421.vega-embed details,\n",
       "  #altair-viz-dfc7343255264f519decf317d44d4421.vega-embed details summary {\n",
       "    position: relative;\n",
       "  }\n",
       "</style>\n",
       "<div id=\"altair-viz-dfc7343255264f519decf317d44d4421\"></div>\n",
       "<script type=\"text/javascript\">\n",
       "  var VEGA_DEBUG = (typeof VEGA_DEBUG == \"undefined\") ? {} : VEGA_DEBUG;\n",
       "  (function(spec, embedOpt){\n",
       "    let outputDiv = document.currentScript.previousElementSibling;\n",
       "    if (outputDiv.id !== \"altair-viz-dfc7343255264f519decf317d44d4421\") {\n",
       "      outputDiv = document.getElementById(\"altair-viz-dfc7343255264f519decf317d44d4421\");\n",
       "    }\n",
       "    const paths = {\n",
       "      \"vega\": \"https://cdn.jsdelivr.net/npm/vega@5?noext\",\n",
       "      \"vega-lib\": \"https://cdn.jsdelivr.net/npm/vega-lib?noext\",\n",
       "      \"vega-lite\": \"https://cdn.jsdelivr.net/npm/vega-lite@5.17.0?noext\",\n",
       "      \"vega-embed\": \"https://cdn.jsdelivr.net/npm/vega-embed@6?noext\",\n",
       "    };\n",
       "\n",
       "    function maybeLoadScript(lib, version) {\n",
       "      var key = `${lib.replace(\"-\", \"\")}_version`;\n",
       "      return (VEGA_DEBUG[key] == version) ?\n",
       "        Promise.resolve(paths[lib]) :\n",
       "        new Promise(function(resolve, reject) {\n",
       "          var s = document.createElement('script');\n",
       "          document.getElementsByTagName(\"head\")[0].appendChild(s);\n",
       "          s.async = true;\n",
       "          s.onload = () => {\n",
       "            VEGA_DEBUG[key] = version;\n",
       "            return resolve(paths[lib]);\n",
       "          };\n",
       "          s.onerror = () => reject(`Error loading script: ${paths[lib]}`);\n",
       "          s.src = paths[lib];\n",
       "        });\n",
       "    }\n",
       "\n",
       "    function showError(err) {\n",
       "      outputDiv.innerHTML = `<div class=\"error\" style=\"color:red;\">${err}</div>`;\n",
       "      throw err;\n",
       "    }\n",
       "\n",
       "    function displayChart(vegaEmbed) {\n",
       "      vegaEmbed(outputDiv, spec, embedOpt)\n",
       "        .catch(err => showError(`Javascript Error: ${err.message}<br>This usually means there's a typo in your chart specification. See the javascript console for the full traceback.`));\n",
       "    }\n",
       "\n",
       "    if(typeof define === \"function\" && define.amd) {\n",
       "      requirejs.config({paths});\n",
       "      require([\"vega-embed\"], displayChart, err => showError(`Error loading script: ${err.message}`));\n",
       "    } else {\n",
       "      maybeLoadScript(\"vega\", \"5\")\n",
       "        .then(() => maybeLoadScript(\"vega-lite\", \"5.17.0\"))\n",
       "        .then(() => maybeLoadScript(\"vega-embed\", \"6\"))\n",
       "        .catch(showError)\n",
       "        .then(() => displayChart(vegaEmbed));\n",
       "    }\n",
       "  })({\"config\": {\"view\": {\"continuousWidth\": 300, \"continuousHeight\": 300}}, \"data\": {\"name\": \"data-ee1026fdbf232ad7256d04203ef49335\"}, \"mark\": {\"type\": \"line\", \"point\": true}, \"encoding\": {\"color\": {\"field\": \"player_id\", \"type\": \"nominal\"}, \"x\": {\"field\": \"date\", \"type\": \"temporal\"}, \"y\": {\"field\": \"rating\", \"scale\": {\"zero\": false}, \"type\": \"quantitative\"}}, \"height\": 500, \"title\": \"Season 11 ELO\", \"width\": 1000, \"$schema\": \"https://vega.github.io/schema/vega-lite/v5.17.0.json\", \"datasets\": {\"data-ee1026fdbf232ad7256d04203ef49335\": [{\"player_id\": \"Cooper\", \"date\": \"2024-06-22\", \"rating\": 1026.6666666666667}, {\"player_id\": \"Cooper\", \"date\": \"2024-06-22\", \"rating\": 1051.5365725934319}, {\"player_id\": \"Cooper\", \"date\": \"2024-06-22\", \"rating\": 1042.1644546934422}, {\"player_id\": \"Cooper\", \"date\": \"2024-06-22\", \"rating\": 1033.6324813101285}, {\"player_id\": \"Cooper\", \"date\": \"2024-06-24\", \"rating\": 1058.2404636897618}, {\"player_id\": \"Cooper\", \"date\": \"2024-06-24\", \"rating\": 1081.3641571752055}, {\"player_id\": \"Cooper\", \"date\": \"2024-06-24\", \"rating\": 1102.563304794612}, {\"player_id\": \"Cooper\", \"date\": \"2024-06-27\", \"rating\": 1090.9883006544012}, {\"player_id\": \"Cooper\", \"date\": \"2024-06-27\", \"rating\": 1111.6719327218732}, {\"player_id\": \"Cooper\", \"date\": \"2024-06-27\", \"rating\": 1132.4359807552023}, {\"player_id\": \"Cooper\", \"date\": \"2024-06-27\", \"rating\": 1118.3398328802832}, {\"player_id\": \"Cooper\", \"date\": \"2024-06-27\", \"rating\": 1138.0087107449071}, {\"player_id\": \"Cooper\", \"date\": \"2024-06-28\", \"rating\": 1154.4068960173634}, {\"player_id\": \"Cooper\", \"date\": \"2024-06-28\", \"rating\": 1139.9429058143414}, {\"player_id\": \"Cooper\", \"date\": \"2024-06-28\", \"rating\": 1127.129285714405}, {\"player_id\": \"Cooper\", \"date\": \"2024-06-28\", \"rating\": 1115.4511396323735}, {\"player_id\": \"Cooper\", \"date\": \"2024-06-28\", \"rating\": 1136.845968688033}, {\"player_id\": \"Cooper\", \"date\": \"2024-06-28\", \"rating\": 1124.5204691280644}, {\"player_id\": \"Cooper\", \"date\": \"2024-06-29\", \"rating\": 1145.83640210294}, {\"player_id\": \"Cooper\", \"date\": \"2024-06-29\", \"rating\": 1162.4468248812352}, {\"player_id\": \"Cooper\", \"date\": \"2024-06-29\", \"rating\": 1177.9407235871493}, {\"player_id\": \"Cooper\", \"date\": \"2024-06-29\", \"rating\": 1195.7936494206679}, {\"player_id\": \"Cooper\", \"date\": \"2024-06-29\", \"rating\": 1212.3853145719102}, {\"player_id\": \"Cooper\", \"date\": \"2024-06-29\", \"rating\": 1227.8838685051307}, {\"player_id\": \"Cooper\", \"date\": \"2024-06-29\", \"rating\": 1242.4319977451994}, {\"player_id\": \"Cooper\", \"date\": \"2024-06-29\", \"rating\": 1224.1504190199287}, {\"player_id\": \"Cooper\", \"date\": \"2024-06-29\", \"rating\": 1239.1512002137672}, {\"player_id\": \"Cooper\", \"date\": \"2024-07-01\", \"rating\": 1221.7484923131422}, {\"player_id\": \"Cooper\", \"date\": \"2024-07-01\", \"rating\": 1205.5622601367877}, {\"player_id\": \"Cooper\", \"date\": \"2024-07-01\", \"rating\": 1221.0338821159453}, {\"player_id\": \"Cooper\", \"date\": \"2024-07-01\", \"rating\": 1203.3795961884832}, {\"player_id\": \"Cooper\", \"date\": \"2024-07-02\", \"rating\": 1187.1283968787186}, {\"player_id\": \"Cooper\", \"date\": \"2024-07-02\", \"rating\": 1204.1669538798135}, {\"player_id\": \"Cooper\", \"date\": \"2024-07-02\", \"rating\": 1188.0740560232937}, {\"player_id\": \"Cooper\", \"date\": \"2024-07-03\", \"rating\": 1173.2598638390225}, {\"player_id\": \"Cooper\", \"date\": \"2024-07-03\", \"rating\": 1191.667906253027}, {\"player_id\": \"Cooper\", \"date\": \"2024-07-04\", \"rating\": 1162.5302301641113}, {\"player_id\": \"Cooper\", \"date\": \"2024-07-04\", \"rating\": 1151.7642992597184}, {\"player_id\": \"Cooper\", \"date\": \"2024-07-04\", \"rating\": 1173.9732722215376}, {\"player_id\": \"Cooper\", \"date\": \"2024-07-05\", \"rating\": 1186.3714717706848}, {\"player_id\": \"Cooper\", \"date\": \"2024-07-05\", \"rating\": 1198.1889340443333}, {\"player_id\": \"Cooper\", \"date\": \"2024-07-06\", \"rating\": 1209.4826489052653}, {\"player_id\": \"Cooper\", \"date\": \"2024-07-06\", \"rating\": 1220.2458923799757}, {\"player_id\": \"Cooper\", \"date\": \"2024-07-06\", \"rating\": 1230.5526772656785}, {\"player_id\": \"Cooper\", \"date\": \"2024-07-06\", \"rating\": 1242.5752578546312}, {\"player_id\": \"Cooper\", \"date\": \"2024-07-06\", \"rating\": 1227.1985753749132}, {\"player_id\": \"Cooper\", \"date\": \"2024-07-06\", \"rating\": 1240.361530311649}, {\"player_id\": \"Cooper\", \"date\": \"2024-07-07\", \"rating\": 1223.2344914158361}, {\"player_id\": \"Cooper\", \"date\": \"2024-07-07\", \"rating\": 1239.370879289763}, {\"player_id\": \"Cooper\", \"date\": \"2024-07-08\", \"rating\": 1257.5352658947877}, {\"player_id\": \"Cooper\", \"date\": \"2024-07-08\", \"rating\": 1242.2772379929304}, {\"player_id\": \"Cooper\", \"date\": \"2024-07-08\", \"rating\": 1260.274772623269}, {\"player_id\": \"Cooper\", \"date\": \"2024-07-09\", \"rating\": 1274.1604021241405}, {\"player_id\": \"Cooper\", \"date\": \"2024-07-09\", \"rating\": 1287.2864849216953}, {\"player_id\": \"Cooper\", \"date\": \"2024-07-09\", \"rating\": 1253.4658708569962}, {\"player_id\": \"Cooper\", \"date\": \"2024-07-10\", \"rating\": 1266.7630944330983}, {\"player_id\": \"Cooper\", \"date\": \"2024-07-10\", \"rating\": 1237.6947895967949}, {\"player_id\": \"Cooper\", \"date\": \"2024-07-10\", \"rating\": 1258.9689086255648}, {\"player_id\": \"Cooper\", \"date\": \"2024-07-10\", \"rating\": 1278.444364593979}, {\"player_id\": \"Cooper\", \"date\": \"2024-07-10\", \"rating\": 1296.3909121469142}, {\"player_id\": \"Cooper\", \"date\": \"2024-07-10\", \"rating\": 1312.9917992057522}, {\"player_id\": \"Cooper\", \"date\": \"2024-07-10\", \"rating\": 1328.457293531841}, {\"player_id\": \"Cooper\", \"date\": \"2024-07-11\", \"rating\": 1339.9455779099906}, {\"player_id\": \"Cooper\", \"date\": \"2024-07-11\", \"rating\": 1350.940124181012}, {\"player_id\": \"Cooper\", \"date\": \"2024-07-11\", \"rating\": 1360.9675363257045}, {\"player_id\": \"Cooper\", \"date\": \"2024-07-11\", \"rating\": 1370.542457797384}, {\"player_id\": \"Cooper\", \"date\": \"2024-07-12\", \"rating\": 1381.608542241959}, {\"player_id\": \"Cooper\", \"date\": \"2024-07-12\", \"rating\": 1360.1224463666442}, {\"player_id\": \"Cooper\", \"date\": \"2024-07-12\", \"rating\": 1369.8888498193778}, {\"player_id\": \"Cooper\", \"date\": \"2024-07-12\", \"rating\": 1379.3420149141327}, {\"player_id\": \"Cooper\", \"date\": \"2024-07-13\", \"rating\": 1357.981733961438}, {\"player_id\": \"Cooper\", \"date\": \"2024-07-13\", \"rating\": 1337.4749698322582}, {\"player_id\": \"Cooper\", \"date\": \"2024-07-13\", \"rating\": 1349.983057327336}, {\"player_id\": \"Cooper\", \"date\": \"2024-07-13\", \"rating\": 1360.7062395577375}, {\"player_id\": \"Cooper\", \"date\": \"2024-07-13\", \"rating\": 1338.5063245788108}, {\"player_id\": \"Cooper\", \"date\": \"2024-07-13\", \"rating\": 1347.4131294403269}, {\"player_id\": \"Cooper\", \"date\": \"2024-07-13\", \"rating\": 1325.154247839645}, {\"player_id\": \"Cooper\", \"date\": \"2024-07-15\", \"rating\": 1307.6964430713365}, {\"player_id\": \"Cooper\", \"date\": \"2024-07-15\", \"rating\": 1291.4677691791494}, {\"player_id\": \"Cooper\", \"date\": \"2024-07-15\", \"rating\": 1276.261778751737}, {\"player_id\": \"Cooper\", \"date\": \"2024-07-16\", \"rating\": 1290.2503938221198}, {\"player_id\": \"Cooper\", \"date\": \"2024-07-16\", \"rating\": 1301.8116365673154}, {\"player_id\": \"Cooper\", \"date\": \"2024-07-17\", \"rating\": 1317.5810437815805}, {\"player_id\": \"Blake\", \"date\": \"2024-06-22\", \"rating\": 994.6666666666666}, {\"player_id\": \"Blake\", \"date\": \"2024-06-22\", \"rating\": 974.4767275437415}, {\"player_id\": \"Blake\", \"date\": \"2024-06-22\", \"rating\": 1004.1103195076355}, {\"player_id\": \"Blake\", \"date\": \"2024-06-22\", \"rating\": 983.0507926925128}, {\"player_id\": \"Connor\", \"date\": \"2024-06-22\", \"rating\": 978.6666666666666}, {\"player_id\": \"Connor\", \"date\": \"2024-07-11\", \"rating\": 982.3078665376738}, {\"player_id\": \"Connor\", \"date\": \"2024-07-16\", \"rating\": 987.4054177909715}, {\"player_id\": \"Cole\", \"date\": \"2024-06-22\", \"rating\": 995.32003319616}, {\"player_id\": \"Cole\", \"date\": \"2024-06-22\", \"rating\": 975.0585591322558}, {\"player_id\": \"Cole\", \"date\": \"2024-06-22\", \"rating\": 1004.6500593306922}, {\"player_id\": \"Cole\", \"date\": \"2024-07-13\", \"rating\": 1038.4806293862712}, {\"player_id\": \"Cole\", \"date\": \"2024-07-16\", \"rating\": 1036.0393749487282}, {\"player_id\": \"Cole\", \"date\": \"2024-07-17\", \"rating\": 1041.3292726366456}, {\"player_id\": \"Regan\", \"date\": \"2024-06-24\", \"rating\": 995.6960088101833}, {\"player_id\": \"Regan\", \"date\": \"2024-06-27\", \"rating\": 1025.6760536513493}, {\"player_id\": \"Regan\", \"date\": \"2024-06-27\", \"rating\": 1006.1434126240822}, {\"player_id\": \"Regan\", \"date\": \"2024-06-29\", \"rating\": 1031.8865084708495}, {\"player_id\": \"Regan\", \"date\": \"2024-07-01\", \"rating\": 1063.2793003367174}, {\"player_id\": \"Regan\", \"date\": \"2024-07-01\", \"rating\": 1092.1657612598678}, {\"player_id\": \"Regan\", \"date\": \"2024-07-02\", \"rating\": 1116.5977606633755}, {\"player_id\": \"Regan\", \"date\": \"2024-07-02\", \"rating\": 1107.1679839715305}, {\"player_id\": \"Regan\", \"date\": \"2024-07-02\", \"rating\": 1130.5419767145108}, {\"player_id\": \"Regan\", \"date\": \"2024-07-03\", \"rating\": 1152.1715905269582}, {\"player_id\": \"Regan\", \"date\": \"2024-07-03\", \"rating\": 1140.2045951516018}, {\"player_id\": \"Regan\", \"date\": \"2024-07-07\", \"rating\": 1162.3054099665562}, {\"player_id\": \"Regan\", \"date\": \"2024-07-07\", \"rating\": 1150.873929129852}, {\"player_id\": \"Regan\", \"date\": \"2024-07-08\", \"rating\": 1128.5138917355673}, {\"player_id\": \"Regan\", \"date\": \"2024-07-08\", \"rating\": 1156.0186222057155}, {\"player_id\": \"Regan\", \"date\": \"2024-07-08\", \"rating\": 1149.242087133709}, {\"player_id\": \"Regan\", \"date\": \"2024-07-09\", \"rating\": 1173.6122513901319}, {\"player_id\": \"Regan\", \"date\": \"2024-07-10\", \"rating\": 1168.6269820908194}, {\"player_id\": \"Regan\", \"date\": \"2024-07-10\", \"rating\": 1148.1020169247329}, {\"player_id\": \"Regan\", \"date\": \"2024-07-10\", \"rating\": 1145.3786292451693}, {\"player_id\": \"Regan\", \"date\": \"2024-07-10\", \"rating\": 1126.8315014357952}, {\"player_id\": \"Regan\", \"date\": \"2024-07-10\", \"rating\": 1125.8003289874646}, {\"player_id\": \"Regan\", \"date\": \"2024-07-10\", \"rating\": 1124.745460568612}, {\"player_id\": \"Regan\", \"date\": \"2024-07-11\", \"rating\": 1117.5884486671744}, {\"player_id\": \"Regan\", \"date\": \"2024-07-11\", \"rating\": 1110.8777018506025}, {\"player_id\": \"Regan\", \"date\": \"2024-07-12\", \"rating\": 1091.9127221274503}, {\"player_id\": \"Regan\", \"date\": \"2024-07-12\", \"rating\": 1122.175861307185}, {\"player_id\": \"Regan\", \"date\": \"2024-07-15\", \"rating\": 1153.1111466083275}, {\"player_id\": \"Regan\", \"date\": \"2024-07-15\", \"rating\": 1133.5806263660304}, {\"player_id\": \"Regan\", \"date\": \"2024-07-15\", \"rating\": 1163.7771148318436}, {\"player_id\": \"Regan\", \"date\": \"2024-07-17\", \"rating\": 1142.7178099296611}, {\"player_id\": \"Randy\", \"date\": \"2024-06-24\", \"rating\": 979.6960088101833}, {\"player_id\": \"Triston\", \"date\": \"2024-06-24\", \"rating\": 996.4381532572781}, {\"player_id\": \"Triston\", \"date\": \"2024-06-28\", \"rating\": 976.936800355371}, {\"player_id\": \"Triston\", \"date\": \"2024-06-28\", \"rating\": 962.3658819588134}, {\"player_id\": \"Triston\", \"date\": \"2024-06-28\", \"rating\": 949.0424528394601}, {\"player_id\": \"Triston\", \"date\": \"2024-06-28\", \"rating\": 936.7845187073864}, {\"player_id\": \"Triston\", \"date\": \"2024-06-28\", \"rating\": 925.3979415548145}, {\"player_id\": \"Triston\", \"date\": \"2024-07-05\", \"rating\": 924.5129842398413}, {\"player_id\": \"Triston\", \"date\": \"2024-07-05\", \"rating\": 923.5644494779938}, {\"player_id\": \"Triston\", \"date\": \"2024-07-06\", \"rating\": 912.218294180572}, {\"player_id\": \"Triston\", \"date\": \"2024-07-09\", \"rating\": 921.6687439888483}, {\"player_id\": \"Triston\", \"date\": \"2024-07-13\", \"rating\": 912.0467058983834}, {\"player_id\": \"Triston\", \"date\": \"2024-07-16\", \"rating\": 902.9267175907307}, {\"player_id\": \"Garrett\", \"date\": \"2024-06-24\", \"rating\": 980.4381532572781}, {\"player_id\": \"Garrett\", \"date\": \"2024-06-24\", \"rating\": 962.7189891560922}, {\"player_id\": \"Garrett\", \"date\": \"2024-06-28\", \"rating\": 961.9178990449944}, {\"player_id\": \"Garrett\", \"date\": \"2024-06-28\", \"rating\": 947.9146552129004}, {\"player_id\": \"Garrett\", \"date\": \"2024-06-29\", \"rating\": 952.299717637215}, {\"player_id\": \"Garrett\", \"date\": \"2024-06-29\", \"rating\": 941.009475312479}, {\"player_id\": \"Garrett\", \"date\": \"2024-06-29\", \"rating\": 930.4177039411379}, {\"player_id\": \"Garrett\", \"date\": \"2024-06-29\", \"rating\": 920.4295443658627}, {\"player_id\": \"Garrett\", \"date\": \"2024-06-29\", \"rating\": 910.9668665681853}, {\"player_id\": \"Garrett\", \"date\": \"2024-06-29\", \"rating\": 901.9651400183828}, {\"player_id\": \"Garrett\", \"date\": \"2024-06-29\", \"rating\": 893.7139030270654}, {\"player_id\": \"Garrett\", \"date\": \"2024-07-01\", \"rating\": 901.3455127954982}, {\"player_id\": \"Garrett\", \"date\": \"2024-07-01\", \"rating\": 892.354731902385}, {\"player_id\": \"Garrett\", \"date\": \"2024-07-02\", \"rating\": 884.1739318086419}, {\"player_id\": \"Garrett\", \"date\": \"2024-07-02\", \"rating\": 876.5651514993921}, {\"player_id\": \"Garrett\", \"date\": \"2024-07-02\", \"rating\": 869.2840566129315}, {\"player_id\": \"Garrett\", \"date\": \"2024-07-03\", \"rating\": 862.4686349847555}, {\"player_id\": \"Garrett\", \"date\": \"2024-07-03\", \"rating\": 856.0275879461074}, {\"player_id\": \"Garrett\", \"date\": \"2024-07-05\", \"rating\": 844.5143457119332}, {\"player_id\": \"Garrett\", \"date\": \"2024-07-05\", \"rating\": 833.6454182001321}, {\"player_id\": \"Garrett\", \"date\": \"2024-07-06\", \"rating\": 839.330258803098}, {\"player_id\": \"Garrett\", \"date\": \"2024-07-06\", \"rating\": 844.419568810425}, {\"player_id\": \"Garrett\", \"date\": \"2024-07-06\", \"rating\": 832.9478764614412}, {\"player_id\": \"Garrett\", \"date\": \"2024-07-07\", \"rating\": 827.9741005422997}, {\"player_id\": \"Garrett\", \"date\": \"2024-07-07\", \"rating\": 823.2691935050769}, {\"player_id\": \"Garrett\", \"date\": \"2024-07-09\", \"rating\": 818.6213527789929}, {\"player_id\": \"Garrett\", \"date\": \"2024-07-09\", \"rating\": 830.0542265009849}, {\"player_id\": \"Garrett\", \"date\": \"2024-07-10\", \"rating\": 824.6235970359302}, {\"player_id\": \"Garrett\", \"date\": \"2024-07-11\", \"rating\": 820.2923245592183}, {\"player_id\": \"Garrett\", \"date\": \"2024-07-11\", \"rating\": 816.0085251047689}, {\"player_id\": \"Garrett\", \"date\": \"2024-07-12\", \"rating\": 811.2817830083875}, {\"player_id\": \"Garrett\", \"date\": \"2024-07-12\", \"rating\": 806.6179944802772}, {\"player_id\": \"Domingo\", \"date\": \"2024-06-24\", \"rating\": 996.5200164817795}, {\"player_id\": \"Domingo\", \"date\": \"2024-07-11\", \"rating\": 982.8514044660798}, {\"player_id\": \"Domingo\", \"date\": \"2024-07-11\", \"rating\": 969.7186316770841}, {\"player_id\": \"Domingo\", \"date\": \"2024-07-13\", \"rating\": 958.0879766004317}, {\"player_id\": \"Domingo\", \"date\": \"2024-07-13\", \"rating\": 942.9318797210129}, {\"player_id\": \"Colton\", \"date\": \"2024-06-27\", \"rating\": 981.5949592990447}, {\"player_id\": \"Colton\", \"date\": \"2024-06-27\", \"rating\": 964.0779013383952}, {\"player_id\": \"Colton\", \"date\": \"2024-06-27\", \"rating\": 948.5461523799623}, {\"player_id\": \"Colton\", \"date\": \"2024-06-28\", \"rating\": 932.9490572186039}, {\"player_id\": \"Colton\", \"date\": \"2024-06-29\", \"rating\": 919.4736404828686}, {\"player_id\": \"Colton\", \"date\": \"2024-06-29\", \"rating\": 922.9198489763437}, {\"player_id\": \"Colton\", \"date\": \"2024-07-06\", \"rating\": 905.941293512446}, {\"player_id\": \"Colton\", \"date\": \"2024-07-06\", \"rating\": 890.0887400304085}, {\"player_id\": \"Colton\", \"date\": \"2024-07-06\", \"rating\": 891.2536474936894}, {\"player_id\": \"Colton\", \"date\": \"2024-07-06\", \"rating\": 880.5442390135012}, {\"player_id\": \"Colton\", \"date\": \"2024-07-13\", \"rating\": 886.7935310314037}, {\"player_id\": \"Colton\", \"date\": \"2024-07-14\", \"rating\": 887.6163230756142}, {\"player_id\": \"Matt\", \"date\": \"2024-06-27\", \"rating\": 996.8334258931775}, {\"player_id\": \"Matt\", \"date\": \"2024-06-27\", \"rating\": 1026.4613227265295}, {\"player_id\": \"Matt\", \"date\": \"2024-06-28\", \"rating\": 1054.9285567616455}, {\"player_id\": \"Matt\", \"date\": \"2024-06-28\", \"rating\": 1046.0889291034728}, {\"player_id\": \"Matt\", \"date\": \"2024-06-28\", \"rating\": 1073.473467599967}, {\"player_id\": \"Matt\", \"date\": \"2024-06-28\", \"rating\": 1098.4750428013517}, {\"player_id\": \"Matt\", \"date\": \"2024-06-28\", \"rating\": 1089.3381478777658}, {\"player_id\": \"Matt\", \"date\": \"2024-06-28\", \"rating\": 1113.0502245903065}, {\"player_id\": \"Matt\", \"date\": \"2024-06-29\", \"rating\": 1087.3492291911161}, {\"player_id\": \"Matt\", \"date\": \"2024-06-29\", \"rating\": 1080.7865456823336}, {\"player_id\": \"Matt\", \"date\": \"2024-06-29\", \"rating\": 1074.7866519024324}, {\"player_id\": \"Matt\", \"date\": \"2024-06-29\", \"rating\": 1069.276257544487}, {\"player_id\": \"Matt\", \"date\": \"2024-06-29\", \"rating\": 1064.1908061020956}, {\"player_id\": \"Matt\", \"date\": \"2024-06-29\", \"rating\": 1091.4741113771688}, {\"player_id\": \"Matt\", \"date\": \"2024-06-29\", \"rating\": 1084.7245671746477}, {\"player_id\": \"Matt\", \"date\": \"2024-07-01\", \"rating\": 1061.6213354270574}, {\"player_id\": \"Matt\", \"date\": \"2024-07-01\", \"rating\": 1088.2664022476326}, {\"player_id\": \"Matt\", \"date\": \"2024-07-04\", \"rating\": 1084.1407152329848}, {\"player_id\": \"Matt\", \"date\": \"2024-07-04\", \"rating\": 1112.4270194626404}, {\"player_id\": \"Matt\", \"date\": \"2024-07-04\", \"rating\": 1106.1705527992144}, {\"player_id\": \"Matt\", \"date\": \"2024-07-06\", \"rating\": 1134.1907812605812}, {\"player_id\": \"Matt\", \"date\": \"2024-07-09\", \"rating\": 1124.9529924857936}, {\"player_id\": \"Matt\", \"date\": \"2024-07-09\", \"rating\": 1100.3940359662467}, {\"player_id\": \"Matt\", \"date\": \"2024-07-10\", \"rating\": 1092.5274418551992}, {\"player_id\": \"Matt\", \"date\": \"2024-07-10\", \"rating\": 1126.5810159908153}, {\"player_id\": \"Matt\", \"date\": \"2024-07-10\", \"rating\": 1125.8318621281317}, {\"player_id\": \"Matt\", \"date\": \"2024-07-10\", \"rating\": 1109.0797938392811}, {\"player_id\": \"Matt\", \"date\": \"2024-07-10\", \"rating\": 1109.68037409572}, {\"player_id\": \"Matt\", \"date\": \"2024-07-10\", \"rating\": 1094.1106594852126}, {\"player_id\": \"Matt\", \"date\": \"2024-07-10\", \"rating\": 1079.7000335779762}, {\"player_id\": \"Matt\", \"date\": \"2024-07-12\", \"rating\": 1074.6603722216241}, {\"player_id\": \"Matt\", \"date\": \"2024-07-12\", \"rating\": 1069.8709956549797}, {\"player_id\": \"Matt\", \"date\": \"2024-07-13\", \"rating\": 1054.2016673926275}, {\"player_id\": \"Matt\", \"date\": \"2024-07-13\", \"rating\": 1040.0417277649585}, {\"player_id\": \"Matt\", \"date\": \"2024-07-13\", \"rating\": 1027.2764073438348}, {\"player_id\": \"Matt\", \"date\": \"2024-07-13\", \"rating\": 1012.894523706535}, {\"player_id\": \"Matt\", \"date\": \"2024-07-13\", \"rating\": 1044.7754433976816}, {\"player_id\": \"Konnor\", \"date\": \"2024-06-27\", \"rating\": 998.768592993938}, {\"player_id\": \"Konnor\", \"date\": \"2024-07-04\", \"rating\": 1025.6452842471108}, {\"player_id\": \"Konnor\", \"date\": \"2024-07-08\", \"rating\": 1029.840935036371}, {\"player_id\": \"Konnor\", \"date\": \"2024-07-08\", \"rating\": 1017.5942324680801}, {\"player_id\": \"Konnor\", \"date\": \"2024-07-08\", \"rating\": 1006.3732329097481}, {\"player_id\": \"Konnor\", \"date\": \"2024-07-13\", \"rating\": 1043.402842124795}, {\"player_id\": \"Konnor\", \"date\": \"2024-07-13\", \"rating\": 1078.0695458816438}, {\"player_id\": \"Konnor\", \"date\": \"2024-07-13\", \"rating\": 1078.3267788076898}, {\"player_id\": \"Konnor\", \"date\": \"2024-07-15\", \"rating\": 1064.8492982748558}, {\"player_id\": \"Konnor\", \"date\": \"2024-07-15\", \"rating\": 1100.60849240934}, {\"player_id\": \"Konnor\", \"date\": \"2024-07-15\", \"rating\": 1085.617994370939}, {\"player_id\": \"Konnor\", \"date\": \"2024-07-16\", \"rating\": 1066.5318280472586}, {\"player_id\": \"Luke\", \"date\": \"2024-06-27\", \"rating\": 998.165561067688}, {\"player_id\": \"Luke\", \"date\": \"2024-06-28\", \"rating\": 1026.506541627768}, {\"player_id\": \"Luke\", \"date\": \"2024-07-04\", \"rating\": 1059.7699047313317}, {\"player_id\": \"Luke\", \"date\": \"2024-07-04\", \"rating\": 1042.249531406069}, {\"player_id\": \"Luke\", \"date\": \"2024-07-04\", \"rating\": 1026.2970251076758}, {\"player_id\": \"Luke\", \"date\": \"2024-07-04\", \"rating\": 1018.6504473691868}, {\"player_id\": \"Luke\", \"date\": \"2024-07-06\", \"rating\": 1006.0069013875382}, {\"player_id\": \"Luke\", \"date\": \"2024-07-06\", \"rating\": 1004.1901017482243}, {\"player_id\": \"Robert\", \"date\": \"2024-06-27\", \"rating\": 982.165561067688}, {\"player_id\": \"Robert\", \"date\": \"2024-06-29\", \"rating\": 978.1142655779223}, {\"player_id\": \"Robert\", \"date\": \"2024-07-04\", \"rating\": 958.8841520632385}, {\"player_id\": \"Robert\", \"date\": \"2024-07-12\", \"rating\": 966.783047341816}, {\"player_id\": \"Robert\", \"date\": \"2024-07-12\", \"rating\": 958.006004037396}, {\"player_id\": \"Jake\", \"date\": \"2024-06-29\", \"rating\": 978.3081996429983}, {\"player_id\": \"Antonio\", \"date\": \"2024-06-29\", \"rating\": 996.86499395744}, {\"player_id\": \"Antonio\", \"date\": \"2024-06-29\", \"rating\": 977.924886758051}, {\"player_id\": \"Antonio\", \"date\": \"2024-07-06\", \"rating\": 976.6117146492865}, {\"player_id\": \"Antonio\", \"date\": \"2024-07-14\", \"rating\": 953.4093916322197}, {\"player_id\": \"Mikey\", \"date\": \"2024-07-01\", \"rating\": 986.0099160347571}, {\"player_id\": \"Mikey\", \"date\": \"2024-07-01\", \"rating\": 973.3096872879613}, {\"player_id\": \"Mikey\", \"date\": \"2024-07-11\", \"rating\": 976.8675386052776}, {\"player_id\": \"Chandler\", \"date\": \"2024-07-13\", \"rating\": 1003.6587014068981}, {\"player_id\": \"Chandler\", \"date\": \"2024-07-14\", \"rating\": 1026.0382323797544}]}}, {\"mode\": \"vega-lite\"});\n",
       "</script>"
      ],
      "text/plain": [
       "alt.Chart(...)"
      ]
     },
     "execution_count": 59,
     "metadata": {},
     "output_type": "execute_result"
    }
   ],
   "source": [
    "import altair as alt\n",
    "\n",
    "track_df = tracker.get_history_df()\n",
    "\n",
    "track_df = track_df[track_df[\"player_id\"].isin(filter_df[\"player_id\"])].reset_index(\n",
    "    drop=True\n",
    ")\n",
    "\n",
    "alt.Chart(track_df).mark_line(point=True).encode(\n",
    "    x=\"date:T\",\n",
    "    y=alt.Y(\"rating:Q\", scale=alt.Scale(zero=False)),\n",
    "    color=\"player_id:N\",\n",
    ").properties(width=1000, height=500, title=\"Season 11 ELO\")"
   ]
  },
  {
   "cell_type": "code",
   "execution_count": 61,
   "metadata": {},
   "outputs": [
    {
     "data": {
      "text/html": [
       "<div>\n",
       "<style scoped>\n",
       "    .dataframe tbody tr th:only-of-type {\n",
       "        vertical-align: middle;\n",
       "    }\n",
       "\n",
       "    .dataframe tbody tr th {\n",
       "        vertical-align: top;\n",
       "    }\n",
       "\n",
       "    .dataframe thead th {\n",
       "        text-align: right;\n",
       "    }\n",
       "</style>\n",
       "<table border=\"1\" class=\"dataframe\">\n",
       "  <thead>\n",
       "    <tr style=\"text-align: right;\">\n",
       "      <th></th>\n",
       "      <th>player_id</th>\n",
       "      <th>date</th>\n",
       "      <th>rating</th>\n",
       "    </tr>\n",
       "  </thead>\n",
       "  <tbody>\n",
       "    <tr>\n",
       "      <th>0</th>\n",
       "      <td>Cooper</td>\n",
       "      <td>2024-06-22</td>\n",
       "      <td>1026.666667</td>\n",
       "    </tr>\n",
       "    <tr>\n",
       "      <th>1</th>\n",
       "      <td>Cooper</td>\n",
       "      <td>2024-06-22</td>\n",
       "      <td>1051.536573</td>\n",
       "    </tr>\n",
       "    <tr>\n",
       "      <th>2</th>\n",
       "      <td>Cooper</td>\n",
       "      <td>2024-06-22</td>\n",
       "      <td>1042.164455</td>\n",
       "    </tr>\n",
       "    <tr>\n",
       "      <th>3</th>\n",
       "      <td>Cooper</td>\n",
       "      <td>2024-06-22</td>\n",
       "      <td>1033.632481</td>\n",
       "    </tr>\n",
       "    <tr>\n",
       "      <th>4</th>\n",
       "      <td>Cooper</td>\n",
       "      <td>2024-06-24</td>\n",
       "      <td>1058.240464</td>\n",
       "    </tr>\n",
       "  </tbody>\n",
       "</table>\n",
       "</div>"
      ],
      "text/plain": [
       "  player_id        date       rating\n",
       "0    Cooper  2024-06-22  1026.666667\n",
       "1    Cooper  2024-06-22  1051.536573\n",
       "2    Cooper  2024-06-22  1042.164455\n",
       "3    Cooper  2024-06-22  1033.632481\n",
       "4    Cooper  2024-06-24  1058.240464"
      ]
     },
     "execution_count": 61,
     "metadata": {},
     "output_type": "execute_result"
    }
   ],
   "source": [
    "track_df.head()"
   ]
  },
  {
   "cell_type": "code",
   "execution_count": 41,
   "metadata": {},
   "outputs": [],
   "source": [
    "import plotly.express as px"
   ]
  },
  {
   "cell_type": "code",
   "execution_count": 63,
   "metadata": {},
   "outputs": [
    {
     "data": {
      "application/vnd.plotly.v1+json": {
       "config": {
        "plotlyServerURL": "https://plot.ly"
       },
       "data": [
        {
         "hovertemplate": "player_id=Cooper<br>date=%{x}<br>rating=%{y}<extra></extra>",
         "legendgroup": "Cooper",
         "line": {
          "color": "#636efa",
          "dash": "solid"
         },
         "marker": {
          "symbol": "circle"
         },
         "mode": "lines+markers",
         "name": "Cooper",
         "orientation": "v",
         "showlegend": true,
         "type": "scatter",
         "x": [
          "2024-06-22",
          "2024-06-22",
          "2024-06-22",
          "2024-06-22",
          "2024-06-24",
          "2024-06-24",
          "2024-06-24",
          "2024-06-27",
          "2024-06-27",
          "2024-06-27",
          "2024-06-27",
          "2024-06-27",
          "2024-06-28",
          "2024-06-28",
          "2024-06-28",
          "2024-06-28",
          "2024-06-28",
          "2024-06-28",
          "2024-06-29",
          "2024-06-29",
          "2024-06-29",
          "2024-06-29",
          "2024-06-29",
          "2024-06-29",
          "2024-06-29",
          "2024-06-29",
          "2024-06-29",
          "2024-07-01",
          "2024-07-01",
          "2024-07-01",
          "2024-07-01",
          "2024-07-02",
          "2024-07-02",
          "2024-07-02",
          "2024-07-03",
          "2024-07-03",
          "2024-07-04",
          "2024-07-04",
          "2024-07-04",
          "2024-07-05",
          "2024-07-05",
          "2024-07-06",
          "2024-07-06",
          "2024-07-06",
          "2024-07-06",
          "2024-07-06",
          "2024-07-06",
          "2024-07-07",
          "2024-07-07",
          "2024-07-08",
          "2024-07-08",
          "2024-07-08",
          "2024-07-09",
          "2024-07-09",
          "2024-07-09",
          "2024-07-10",
          "2024-07-10",
          "2024-07-10",
          "2024-07-10",
          "2024-07-10",
          "2024-07-10",
          "2024-07-10",
          "2024-07-11",
          "2024-07-11",
          "2024-07-11",
          "2024-07-11",
          "2024-07-12",
          "2024-07-12",
          "2024-07-12",
          "2024-07-12",
          "2024-07-13",
          "2024-07-13",
          "2024-07-13",
          "2024-07-13",
          "2024-07-13",
          "2024-07-13",
          "2024-07-13",
          "2024-07-15",
          "2024-07-15",
          "2024-07-15",
          "2024-07-16",
          "2024-07-16",
          "2024-07-17"
         ],
         "xaxis": "x",
         "y": [
          1026.6666666666667,
          1051.5365725934319,
          1042.1644546934422,
          1033.6324813101285,
          1058.2404636897618,
          1081.3641571752055,
          1102.563304794612,
          1090.9883006544012,
          1111.6719327218732,
          1132.4359807552023,
          1118.3398328802832,
          1138.0087107449071,
          1154.4068960173634,
          1139.9429058143414,
          1127.129285714405,
          1115.4511396323735,
          1136.845968688033,
          1124.5204691280644,
          1145.83640210294,
          1162.4468248812352,
          1177.9407235871493,
          1195.7936494206679,
          1212.3853145719102,
          1227.8838685051307,
          1242.4319977451994,
          1224.1504190199287,
          1239.1512002137672,
          1221.7484923131422,
          1205.5622601367877,
          1221.0338821159453,
          1203.3795961884832,
          1187.1283968787186,
          1204.1669538798135,
          1188.0740560232937,
          1173.2598638390225,
          1191.667906253027,
          1162.5302301641113,
          1151.7642992597184,
          1173.9732722215376,
          1186.3714717706848,
          1198.1889340443333,
          1209.4826489052653,
          1220.2458923799757,
          1230.5526772656785,
          1242.5752578546312,
          1227.1985753749132,
          1240.361530311649,
          1223.2344914158361,
          1239.370879289763,
          1257.5352658947877,
          1242.2772379929304,
          1260.274772623269,
          1274.1604021241405,
          1287.2864849216953,
          1253.4658708569962,
          1266.7630944330983,
          1237.6947895967949,
          1258.9689086255648,
          1278.444364593979,
          1296.3909121469142,
          1312.9917992057522,
          1328.457293531841,
          1339.9455779099906,
          1350.940124181012,
          1360.9675363257045,
          1370.542457797384,
          1381.608542241959,
          1360.1224463666442,
          1369.8888498193778,
          1379.3420149141327,
          1357.981733961438,
          1337.4749698322582,
          1349.983057327336,
          1360.7062395577375,
          1338.5063245788108,
          1347.4131294403269,
          1325.154247839645,
          1307.6964430713365,
          1291.4677691791494,
          1276.261778751737,
          1290.2503938221198,
          1301.8116365673154,
          1317.5810437815805
         ],
         "yaxis": "y"
        },
        {
         "hovertemplate": "player_id=Blake<br>date=%{x}<br>rating=%{y}<extra></extra>",
         "legendgroup": "Blake",
         "line": {
          "color": "#EF553B",
          "dash": "solid"
         },
         "marker": {
          "symbol": "circle"
         },
         "mode": "lines+markers",
         "name": "Blake",
         "orientation": "v",
         "showlegend": true,
         "type": "scatter",
         "x": [
          "2024-06-22",
          "2024-06-22",
          "2024-06-22",
          "2024-06-22"
         ],
         "xaxis": "x",
         "y": [
          994.6666666666666,
          974.4767275437415,
          1004.1103195076355,
          983.0507926925128
         ],
         "yaxis": "y"
        },
        {
         "hovertemplate": "player_id=Connor<br>date=%{x}<br>rating=%{y}<extra></extra>",
         "legendgroup": "Connor",
         "line": {
          "color": "#00cc96",
          "dash": "solid"
         },
         "marker": {
          "symbol": "circle"
         },
         "mode": "lines+markers",
         "name": "Connor",
         "orientation": "v",
         "showlegend": true,
         "type": "scatter",
         "x": [
          "2024-06-22",
          "2024-07-11",
          "2024-07-16"
         ],
         "xaxis": "x",
         "y": [
          978.6666666666666,
          982.3078665376738,
          987.4054177909715
         ],
         "yaxis": "y"
        },
        {
         "hovertemplate": "player_id=Cole<br>date=%{x}<br>rating=%{y}<extra></extra>",
         "legendgroup": "Cole",
         "line": {
          "color": "#ab63fa",
          "dash": "solid"
         },
         "marker": {
          "symbol": "circle"
         },
         "mode": "lines+markers",
         "name": "Cole",
         "orientation": "v",
         "showlegend": true,
         "type": "scatter",
         "x": [
          "2024-06-22",
          "2024-06-22",
          "2024-06-22",
          "2024-07-13",
          "2024-07-16",
          "2024-07-17"
         ],
         "xaxis": "x",
         "y": [
          995.32003319616,
          975.0585591322558,
          1004.6500593306922,
          1038.4806293862712,
          1036.0393749487282,
          1041.3292726366456
         ],
         "yaxis": "y"
        },
        {
         "hovertemplate": "player_id=Regan<br>date=%{x}<br>rating=%{y}<extra></extra>",
         "legendgroup": "Regan",
         "line": {
          "color": "#FFA15A",
          "dash": "solid"
         },
         "marker": {
          "symbol": "circle"
         },
         "mode": "lines+markers",
         "name": "Regan",
         "orientation": "v",
         "showlegend": true,
         "type": "scatter",
         "x": [
          "2024-06-24",
          "2024-06-27",
          "2024-06-27",
          "2024-06-29",
          "2024-07-01",
          "2024-07-01",
          "2024-07-02",
          "2024-07-02",
          "2024-07-02",
          "2024-07-03",
          "2024-07-03",
          "2024-07-07",
          "2024-07-07",
          "2024-07-08",
          "2024-07-08",
          "2024-07-08",
          "2024-07-09",
          "2024-07-10",
          "2024-07-10",
          "2024-07-10",
          "2024-07-10",
          "2024-07-10",
          "2024-07-10",
          "2024-07-11",
          "2024-07-11",
          "2024-07-12",
          "2024-07-12",
          "2024-07-15",
          "2024-07-15",
          "2024-07-15",
          "2024-07-17"
         ],
         "xaxis": "x",
         "y": [
          995.6960088101833,
          1025.6760536513493,
          1006.1434126240822,
          1031.8865084708495,
          1063.2793003367174,
          1092.1657612598678,
          1116.5977606633755,
          1107.1679839715305,
          1130.5419767145108,
          1152.1715905269582,
          1140.2045951516018,
          1162.3054099665562,
          1150.873929129852,
          1128.5138917355673,
          1156.0186222057155,
          1149.242087133709,
          1173.6122513901319,
          1168.6269820908194,
          1148.1020169247329,
          1145.3786292451693,
          1126.8315014357952,
          1125.8003289874646,
          1124.745460568612,
          1117.5884486671744,
          1110.8777018506025,
          1091.9127221274503,
          1122.175861307185,
          1153.1111466083275,
          1133.5806263660304,
          1163.7771148318436,
          1142.7178099296611
         ],
         "yaxis": "y"
        },
        {
         "hovertemplate": "player_id=Randy<br>date=%{x}<br>rating=%{y}<extra></extra>",
         "legendgroup": "Randy",
         "line": {
          "color": "#19d3f3",
          "dash": "solid"
         },
         "marker": {
          "symbol": "circle"
         },
         "mode": "lines+markers",
         "name": "Randy",
         "orientation": "v",
         "showlegend": true,
         "type": "scatter",
         "x": [
          "2024-06-24"
         ],
         "xaxis": "x",
         "y": [
          979.6960088101833
         ],
         "yaxis": "y"
        },
        {
         "hovertemplate": "player_id=Triston<br>date=%{x}<br>rating=%{y}<extra></extra>",
         "legendgroup": "Triston",
         "line": {
          "color": "#FF6692",
          "dash": "solid"
         },
         "marker": {
          "symbol": "circle"
         },
         "mode": "lines+markers",
         "name": "Triston",
         "orientation": "v",
         "showlegend": true,
         "type": "scatter",
         "x": [
          "2024-06-24",
          "2024-06-28",
          "2024-06-28",
          "2024-06-28",
          "2024-06-28",
          "2024-06-28",
          "2024-07-05",
          "2024-07-05",
          "2024-07-06",
          "2024-07-09",
          "2024-07-13",
          "2024-07-16"
         ],
         "xaxis": "x",
         "y": [
          996.4381532572781,
          976.936800355371,
          962.3658819588134,
          949.0424528394601,
          936.7845187073864,
          925.3979415548145,
          924.5129842398413,
          923.5644494779938,
          912.218294180572,
          921.6687439888483,
          912.0467058983834,
          902.9267175907307
         ],
         "yaxis": "y"
        },
        {
         "hovertemplate": "player_id=Garrett<br>date=%{x}<br>rating=%{y}<extra></extra>",
         "legendgroup": "Garrett",
         "line": {
          "color": "#B6E880",
          "dash": "solid"
         },
         "marker": {
          "symbol": "circle"
         },
         "mode": "lines+markers",
         "name": "Garrett",
         "orientation": "v",
         "showlegend": true,
         "type": "scatter",
         "x": [
          "2024-06-24",
          "2024-06-24",
          "2024-06-28",
          "2024-06-28",
          "2024-06-29",
          "2024-06-29",
          "2024-06-29",
          "2024-06-29",
          "2024-06-29",
          "2024-06-29",
          "2024-06-29",
          "2024-07-01",
          "2024-07-01",
          "2024-07-02",
          "2024-07-02",
          "2024-07-02",
          "2024-07-03",
          "2024-07-03",
          "2024-07-05",
          "2024-07-05",
          "2024-07-06",
          "2024-07-06",
          "2024-07-06",
          "2024-07-07",
          "2024-07-07",
          "2024-07-09",
          "2024-07-09",
          "2024-07-10",
          "2024-07-11",
          "2024-07-11",
          "2024-07-12",
          "2024-07-12"
         ],
         "xaxis": "x",
         "y": [
          980.4381532572781,
          962.7189891560922,
          961.9178990449944,
          947.9146552129004,
          952.299717637215,
          941.009475312479,
          930.4177039411379,
          920.4295443658627,
          910.9668665681853,
          901.9651400183828,
          893.7139030270654,
          901.3455127954982,
          892.354731902385,
          884.1739318086419,
          876.5651514993921,
          869.2840566129315,
          862.4686349847555,
          856.0275879461074,
          844.5143457119332,
          833.6454182001321,
          839.330258803098,
          844.419568810425,
          832.9478764614412,
          827.9741005422997,
          823.2691935050769,
          818.6213527789929,
          830.0542265009849,
          824.6235970359302,
          820.2923245592183,
          816.0085251047689,
          811.2817830083875,
          806.6179944802772
         ],
         "yaxis": "y"
        },
        {
         "hovertemplate": "player_id=Domingo<br>date=%{x}<br>rating=%{y}<extra></extra>",
         "legendgroup": "Domingo",
         "line": {
          "color": "#FF97FF",
          "dash": "solid"
         },
         "marker": {
          "symbol": "circle"
         },
         "mode": "lines+markers",
         "name": "Domingo",
         "orientation": "v",
         "showlegend": true,
         "type": "scatter",
         "x": [
          "2024-06-24",
          "2024-07-11",
          "2024-07-11",
          "2024-07-13",
          "2024-07-13"
         ],
         "xaxis": "x",
         "y": [
          996.5200164817795,
          982.8514044660798,
          969.7186316770841,
          958.0879766004317,
          942.9318797210129
         ],
         "yaxis": "y"
        },
        {
         "hovertemplate": "player_id=Colton<br>date=%{x}<br>rating=%{y}<extra></extra>",
         "legendgroup": "Colton",
         "line": {
          "color": "#FECB52",
          "dash": "solid"
         },
         "marker": {
          "symbol": "circle"
         },
         "mode": "lines+markers",
         "name": "Colton",
         "orientation": "v",
         "showlegend": true,
         "type": "scatter",
         "x": [
          "2024-06-27",
          "2024-06-27",
          "2024-06-27",
          "2024-06-28",
          "2024-06-29",
          "2024-06-29",
          "2024-07-06",
          "2024-07-06",
          "2024-07-06",
          "2024-07-06",
          "2024-07-13",
          "2024-07-14"
         ],
         "xaxis": "x",
         "y": [
          981.5949592990447,
          964.0779013383952,
          948.5461523799623,
          932.9490572186039,
          919.4736404828686,
          922.9198489763437,
          905.941293512446,
          890.0887400304085,
          891.2536474936894,
          880.5442390135012,
          886.7935310314037,
          887.6163230756142
         ],
         "yaxis": "y"
        },
        {
         "hovertemplate": "player_id=Matt<br>date=%{x}<br>rating=%{y}<extra></extra>",
         "legendgroup": "Matt",
         "line": {
          "color": "#636efa",
          "dash": "solid"
         },
         "marker": {
          "symbol": "circle"
         },
         "mode": "lines+markers",
         "name": "Matt",
         "orientation": "v",
         "showlegend": true,
         "type": "scatter",
         "x": [
          "2024-06-27",
          "2024-06-27",
          "2024-06-28",
          "2024-06-28",
          "2024-06-28",
          "2024-06-28",
          "2024-06-28",
          "2024-06-28",
          "2024-06-29",
          "2024-06-29",
          "2024-06-29",
          "2024-06-29",
          "2024-06-29",
          "2024-06-29",
          "2024-06-29",
          "2024-07-01",
          "2024-07-01",
          "2024-07-04",
          "2024-07-04",
          "2024-07-04",
          "2024-07-06",
          "2024-07-09",
          "2024-07-09",
          "2024-07-10",
          "2024-07-10",
          "2024-07-10",
          "2024-07-10",
          "2024-07-10",
          "2024-07-10",
          "2024-07-10",
          "2024-07-12",
          "2024-07-12",
          "2024-07-13",
          "2024-07-13",
          "2024-07-13",
          "2024-07-13",
          "2024-07-13"
         ],
         "xaxis": "x",
         "y": [
          996.8334258931775,
          1026.4613227265295,
          1054.9285567616455,
          1046.0889291034728,
          1073.473467599967,
          1098.4750428013517,
          1089.3381478777658,
          1113.0502245903065,
          1087.3492291911161,
          1080.7865456823336,
          1074.7866519024324,
          1069.276257544487,
          1064.1908061020956,
          1091.4741113771688,
          1084.7245671746477,
          1061.6213354270574,
          1088.2664022476326,
          1084.1407152329848,
          1112.4270194626404,
          1106.1705527992144,
          1134.1907812605812,
          1124.9529924857936,
          1100.3940359662467,
          1092.5274418551992,
          1126.5810159908153,
          1125.8318621281317,
          1109.0797938392811,
          1109.68037409572,
          1094.1106594852126,
          1079.7000335779762,
          1074.6603722216241,
          1069.8709956549797,
          1054.2016673926275,
          1040.0417277649585,
          1027.2764073438348,
          1012.894523706535,
          1044.7754433976816
         ],
         "yaxis": "y"
        },
        {
         "hovertemplate": "player_id=Konnor<br>date=%{x}<br>rating=%{y}<extra></extra>",
         "legendgroup": "Konnor",
         "line": {
          "color": "#EF553B",
          "dash": "solid"
         },
         "marker": {
          "symbol": "circle"
         },
         "mode": "lines+markers",
         "name": "Konnor",
         "orientation": "v",
         "showlegend": true,
         "type": "scatter",
         "x": [
          "2024-06-27",
          "2024-07-04",
          "2024-07-08",
          "2024-07-08",
          "2024-07-08",
          "2024-07-13",
          "2024-07-13",
          "2024-07-13",
          "2024-07-15",
          "2024-07-15",
          "2024-07-15",
          "2024-07-16"
         ],
         "xaxis": "x",
         "y": [
          998.768592993938,
          1025.6452842471108,
          1029.840935036371,
          1017.5942324680801,
          1006.3732329097481,
          1043.402842124795,
          1078.0695458816438,
          1078.3267788076898,
          1064.8492982748558,
          1100.60849240934,
          1085.617994370939,
          1066.5318280472586
         ],
         "yaxis": "y"
        },
        {
         "hovertemplate": "player_id=Luke<br>date=%{x}<br>rating=%{y}<extra></extra>",
         "legendgroup": "Luke",
         "line": {
          "color": "#00cc96",
          "dash": "solid"
         },
         "marker": {
          "symbol": "circle"
         },
         "mode": "lines+markers",
         "name": "Luke",
         "orientation": "v",
         "showlegend": true,
         "type": "scatter",
         "x": [
          "2024-06-27",
          "2024-06-28",
          "2024-07-04",
          "2024-07-04",
          "2024-07-04",
          "2024-07-04",
          "2024-07-06",
          "2024-07-06"
         ],
         "xaxis": "x",
         "y": [
          998.165561067688,
          1026.506541627768,
          1059.7699047313317,
          1042.249531406069,
          1026.2970251076758,
          1018.6504473691868,
          1006.0069013875382,
          1004.1901017482243
         ],
         "yaxis": "y"
        },
        {
         "hovertemplate": "player_id=Robert<br>date=%{x}<br>rating=%{y}<extra></extra>",
         "legendgroup": "Robert",
         "line": {
          "color": "#ab63fa",
          "dash": "solid"
         },
         "marker": {
          "symbol": "circle"
         },
         "mode": "lines+markers",
         "name": "Robert",
         "orientation": "v",
         "showlegend": true,
         "type": "scatter",
         "x": [
          "2024-06-27",
          "2024-06-29",
          "2024-07-04",
          "2024-07-12",
          "2024-07-12"
         ],
         "xaxis": "x",
         "y": [
          982.165561067688,
          978.1142655779223,
          958.8841520632385,
          966.783047341816,
          958.006004037396
         ],
         "yaxis": "y"
        },
        {
         "hovertemplate": "player_id=Jake<br>date=%{x}<br>rating=%{y}<extra></extra>",
         "legendgroup": "Jake",
         "line": {
          "color": "#FFA15A",
          "dash": "solid"
         },
         "marker": {
          "symbol": "circle"
         },
         "mode": "lines+markers",
         "name": "Jake",
         "orientation": "v",
         "showlegend": true,
         "type": "scatter",
         "x": [
          "2024-06-29"
         ],
         "xaxis": "x",
         "y": [
          978.3081996429983
         ],
         "yaxis": "y"
        },
        {
         "hovertemplate": "player_id=Antonio<br>date=%{x}<br>rating=%{y}<extra></extra>",
         "legendgroup": "Antonio",
         "line": {
          "color": "#19d3f3",
          "dash": "solid"
         },
         "marker": {
          "symbol": "circle"
         },
         "mode": "lines+markers",
         "name": "Antonio",
         "orientation": "v",
         "showlegend": true,
         "type": "scatter",
         "x": [
          "2024-06-29",
          "2024-06-29",
          "2024-07-06",
          "2024-07-14"
         ],
         "xaxis": "x",
         "y": [
          996.86499395744,
          977.924886758051,
          976.6117146492865,
          953.4093916322197
         ],
         "yaxis": "y"
        },
        {
         "hovertemplate": "player_id=Mikey<br>date=%{x}<br>rating=%{y}<extra></extra>",
         "legendgroup": "Mikey",
         "line": {
          "color": "#FF6692",
          "dash": "solid"
         },
         "marker": {
          "symbol": "circle"
         },
         "mode": "lines+markers",
         "name": "Mikey",
         "orientation": "v",
         "showlegend": true,
         "type": "scatter",
         "x": [
          "2024-07-01",
          "2024-07-01",
          "2024-07-11"
         ],
         "xaxis": "x",
         "y": [
          986.0099160347571,
          973.3096872879613,
          976.8675386052776
         ],
         "yaxis": "y"
        },
        {
         "hovertemplate": "player_id=Chandler<br>date=%{x}<br>rating=%{y}<extra></extra>",
         "legendgroup": "Chandler",
         "line": {
          "color": "#B6E880",
          "dash": "solid"
         },
         "marker": {
          "symbol": "circle"
         },
         "mode": "lines+markers",
         "name": "Chandler",
         "orientation": "v",
         "showlegend": true,
         "type": "scatter",
         "x": [
          "2024-07-13",
          "2024-07-14"
         ],
         "xaxis": "x",
         "y": [
          1003.6587014068981,
          1026.0382323797544
         ],
         "yaxis": "y"
        }
       ],
       "layout": {
        "height": 800,
        "legend": {
         "title": {
          "text": "player_id"
         },
         "tracegroupgap": 0
        },
        "margin": {
         "t": 60
        },
        "template": {
         "data": {
          "bar": [
           {
            "error_x": {
             "color": "#2a3f5f"
            },
            "error_y": {
             "color": "#2a3f5f"
            },
            "marker": {
             "line": {
              "color": "#E5ECF6",
              "width": 0.5
             },
             "pattern": {
              "fillmode": "overlay",
              "size": 10,
              "solidity": 0.2
             }
            },
            "type": "bar"
           }
          ],
          "barpolar": [
           {
            "marker": {
             "line": {
              "color": "#E5ECF6",
              "width": 0.5
             },
             "pattern": {
              "fillmode": "overlay",
              "size": 10,
              "solidity": 0.2
             }
            },
            "type": "barpolar"
           }
          ],
          "carpet": [
           {
            "aaxis": {
             "endlinecolor": "#2a3f5f",
             "gridcolor": "white",
             "linecolor": "white",
             "minorgridcolor": "white",
             "startlinecolor": "#2a3f5f"
            },
            "baxis": {
             "endlinecolor": "#2a3f5f",
             "gridcolor": "white",
             "linecolor": "white",
             "minorgridcolor": "white",
             "startlinecolor": "#2a3f5f"
            },
            "type": "carpet"
           }
          ],
          "choropleth": [
           {
            "colorbar": {
             "outlinewidth": 0,
             "ticks": ""
            },
            "type": "choropleth"
           }
          ],
          "contour": [
           {
            "colorbar": {
             "outlinewidth": 0,
             "ticks": ""
            },
            "colorscale": [
             [
              0,
              "#0d0887"
             ],
             [
              0.1111111111111111,
              "#46039f"
             ],
             [
              0.2222222222222222,
              "#7201a8"
             ],
             [
              0.3333333333333333,
              "#9c179e"
             ],
             [
              0.4444444444444444,
              "#bd3786"
             ],
             [
              0.5555555555555556,
              "#d8576b"
             ],
             [
              0.6666666666666666,
              "#ed7953"
             ],
             [
              0.7777777777777778,
              "#fb9f3a"
             ],
             [
              0.8888888888888888,
              "#fdca26"
             ],
             [
              1,
              "#f0f921"
             ]
            ],
            "type": "contour"
           }
          ],
          "contourcarpet": [
           {
            "colorbar": {
             "outlinewidth": 0,
             "ticks": ""
            },
            "type": "contourcarpet"
           }
          ],
          "heatmap": [
           {
            "colorbar": {
             "outlinewidth": 0,
             "ticks": ""
            },
            "colorscale": [
             [
              0,
              "#0d0887"
             ],
             [
              0.1111111111111111,
              "#46039f"
             ],
             [
              0.2222222222222222,
              "#7201a8"
             ],
             [
              0.3333333333333333,
              "#9c179e"
             ],
             [
              0.4444444444444444,
              "#bd3786"
             ],
             [
              0.5555555555555556,
              "#d8576b"
             ],
             [
              0.6666666666666666,
              "#ed7953"
             ],
             [
              0.7777777777777778,
              "#fb9f3a"
             ],
             [
              0.8888888888888888,
              "#fdca26"
             ],
             [
              1,
              "#f0f921"
             ]
            ],
            "type": "heatmap"
           }
          ],
          "heatmapgl": [
           {
            "colorbar": {
             "outlinewidth": 0,
             "ticks": ""
            },
            "colorscale": [
             [
              0,
              "#0d0887"
             ],
             [
              0.1111111111111111,
              "#46039f"
             ],
             [
              0.2222222222222222,
              "#7201a8"
             ],
             [
              0.3333333333333333,
              "#9c179e"
             ],
             [
              0.4444444444444444,
              "#bd3786"
             ],
             [
              0.5555555555555556,
              "#d8576b"
             ],
             [
              0.6666666666666666,
              "#ed7953"
             ],
             [
              0.7777777777777778,
              "#fb9f3a"
             ],
             [
              0.8888888888888888,
              "#fdca26"
             ],
             [
              1,
              "#f0f921"
             ]
            ],
            "type": "heatmapgl"
           }
          ],
          "histogram": [
           {
            "marker": {
             "pattern": {
              "fillmode": "overlay",
              "size": 10,
              "solidity": 0.2
             }
            },
            "type": "histogram"
           }
          ],
          "histogram2d": [
           {
            "colorbar": {
             "outlinewidth": 0,
             "ticks": ""
            },
            "colorscale": [
             [
              0,
              "#0d0887"
             ],
             [
              0.1111111111111111,
              "#46039f"
             ],
             [
              0.2222222222222222,
              "#7201a8"
             ],
             [
              0.3333333333333333,
              "#9c179e"
             ],
             [
              0.4444444444444444,
              "#bd3786"
             ],
             [
              0.5555555555555556,
              "#d8576b"
             ],
             [
              0.6666666666666666,
              "#ed7953"
             ],
             [
              0.7777777777777778,
              "#fb9f3a"
             ],
             [
              0.8888888888888888,
              "#fdca26"
             ],
             [
              1,
              "#f0f921"
             ]
            ],
            "type": "histogram2d"
           }
          ],
          "histogram2dcontour": [
           {
            "colorbar": {
             "outlinewidth": 0,
             "ticks": ""
            },
            "colorscale": [
             [
              0,
              "#0d0887"
             ],
             [
              0.1111111111111111,
              "#46039f"
             ],
             [
              0.2222222222222222,
              "#7201a8"
             ],
             [
              0.3333333333333333,
              "#9c179e"
             ],
             [
              0.4444444444444444,
              "#bd3786"
             ],
             [
              0.5555555555555556,
              "#d8576b"
             ],
             [
              0.6666666666666666,
              "#ed7953"
             ],
             [
              0.7777777777777778,
              "#fb9f3a"
             ],
             [
              0.8888888888888888,
              "#fdca26"
             ],
             [
              1,
              "#f0f921"
             ]
            ],
            "type": "histogram2dcontour"
           }
          ],
          "mesh3d": [
           {
            "colorbar": {
             "outlinewidth": 0,
             "ticks": ""
            },
            "type": "mesh3d"
           }
          ],
          "parcoords": [
           {
            "line": {
             "colorbar": {
              "outlinewidth": 0,
              "ticks": ""
             }
            },
            "type": "parcoords"
           }
          ],
          "pie": [
           {
            "automargin": true,
            "type": "pie"
           }
          ],
          "scatter": [
           {
            "fillpattern": {
             "fillmode": "overlay",
             "size": 10,
             "solidity": 0.2
            },
            "type": "scatter"
           }
          ],
          "scatter3d": [
           {
            "line": {
             "colorbar": {
              "outlinewidth": 0,
              "ticks": ""
             }
            },
            "marker": {
             "colorbar": {
              "outlinewidth": 0,
              "ticks": ""
             }
            },
            "type": "scatter3d"
           }
          ],
          "scattercarpet": [
           {
            "marker": {
             "colorbar": {
              "outlinewidth": 0,
              "ticks": ""
             }
            },
            "type": "scattercarpet"
           }
          ],
          "scattergeo": [
           {
            "marker": {
             "colorbar": {
              "outlinewidth": 0,
              "ticks": ""
             }
            },
            "type": "scattergeo"
           }
          ],
          "scattergl": [
           {
            "marker": {
             "colorbar": {
              "outlinewidth": 0,
              "ticks": ""
             }
            },
            "type": "scattergl"
           }
          ],
          "scattermapbox": [
           {
            "marker": {
             "colorbar": {
              "outlinewidth": 0,
              "ticks": ""
             }
            },
            "type": "scattermapbox"
           }
          ],
          "scatterpolar": [
           {
            "marker": {
             "colorbar": {
              "outlinewidth": 0,
              "ticks": ""
             }
            },
            "type": "scatterpolar"
           }
          ],
          "scatterpolargl": [
           {
            "marker": {
             "colorbar": {
              "outlinewidth": 0,
              "ticks": ""
             }
            },
            "type": "scatterpolargl"
           }
          ],
          "scatterternary": [
           {
            "marker": {
             "colorbar": {
              "outlinewidth": 0,
              "ticks": ""
             }
            },
            "type": "scatterternary"
           }
          ],
          "surface": [
           {
            "colorbar": {
             "outlinewidth": 0,
             "ticks": ""
            },
            "colorscale": [
             [
              0,
              "#0d0887"
             ],
             [
              0.1111111111111111,
              "#46039f"
             ],
             [
              0.2222222222222222,
              "#7201a8"
             ],
             [
              0.3333333333333333,
              "#9c179e"
             ],
             [
              0.4444444444444444,
              "#bd3786"
             ],
             [
              0.5555555555555556,
              "#d8576b"
             ],
             [
              0.6666666666666666,
              "#ed7953"
             ],
             [
              0.7777777777777778,
              "#fb9f3a"
             ],
             [
              0.8888888888888888,
              "#fdca26"
             ],
             [
              1,
              "#f0f921"
             ]
            ],
            "type": "surface"
           }
          ],
          "table": [
           {
            "cells": {
             "fill": {
              "color": "#EBF0F8"
             },
             "line": {
              "color": "white"
             }
            },
            "header": {
             "fill": {
              "color": "#C8D4E3"
             },
             "line": {
              "color": "white"
             }
            },
            "type": "table"
           }
          ]
         },
         "layout": {
          "annotationdefaults": {
           "arrowcolor": "#2a3f5f",
           "arrowhead": 0,
           "arrowwidth": 1
          },
          "autotypenumbers": "strict",
          "coloraxis": {
           "colorbar": {
            "outlinewidth": 0,
            "ticks": ""
           }
          },
          "colorscale": {
           "diverging": [
            [
             0,
             "#8e0152"
            ],
            [
             0.1,
             "#c51b7d"
            ],
            [
             0.2,
             "#de77ae"
            ],
            [
             0.3,
             "#f1b6da"
            ],
            [
             0.4,
             "#fde0ef"
            ],
            [
             0.5,
             "#f7f7f7"
            ],
            [
             0.6,
             "#e6f5d0"
            ],
            [
             0.7,
             "#b8e186"
            ],
            [
             0.8,
             "#7fbc41"
            ],
            [
             0.9,
             "#4d9221"
            ],
            [
             1,
             "#276419"
            ]
           ],
           "sequential": [
            [
             0,
             "#0d0887"
            ],
            [
             0.1111111111111111,
             "#46039f"
            ],
            [
             0.2222222222222222,
             "#7201a8"
            ],
            [
             0.3333333333333333,
             "#9c179e"
            ],
            [
             0.4444444444444444,
             "#bd3786"
            ],
            [
             0.5555555555555556,
             "#d8576b"
            ],
            [
             0.6666666666666666,
             "#ed7953"
            ],
            [
             0.7777777777777778,
             "#fb9f3a"
            ],
            [
             0.8888888888888888,
             "#fdca26"
            ],
            [
             1,
             "#f0f921"
            ]
           ],
           "sequentialminus": [
            [
             0,
             "#0d0887"
            ],
            [
             0.1111111111111111,
             "#46039f"
            ],
            [
             0.2222222222222222,
             "#7201a8"
            ],
            [
             0.3333333333333333,
             "#9c179e"
            ],
            [
             0.4444444444444444,
             "#bd3786"
            ],
            [
             0.5555555555555556,
             "#d8576b"
            ],
            [
             0.6666666666666666,
             "#ed7953"
            ],
            [
             0.7777777777777778,
             "#fb9f3a"
            ],
            [
             0.8888888888888888,
             "#fdca26"
            ],
            [
             1,
             "#f0f921"
            ]
           ]
          },
          "colorway": [
           "#636efa",
           "#EF553B",
           "#00cc96",
           "#ab63fa",
           "#FFA15A",
           "#19d3f3",
           "#FF6692",
           "#B6E880",
           "#FF97FF",
           "#FECB52"
          ],
          "font": {
           "color": "#2a3f5f"
          },
          "geo": {
           "bgcolor": "white",
           "lakecolor": "white",
           "landcolor": "#E5ECF6",
           "showlakes": true,
           "showland": true,
           "subunitcolor": "white"
          },
          "hoverlabel": {
           "align": "left"
          },
          "hovermode": "closest",
          "mapbox": {
           "style": "light"
          },
          "paper_bgcolor": "white",
          "plot_bgcolor": "#E5ECF6",
          "polar": {
           "angularaxis": {
            "gridcolor": "white",
            "linecolor": "white",
            "ticks": ""
           },
           "bgcolor": "#E5ECF6",
           "radialaxis": {
            "gridcolor": "white",
            "linecolor": "white",
            "ticks": ""
           }
          },
          "scene": {
           "xaxis": {
            "backgroundcolor": "#E5ECF6",
            "gridcolor": "white",
            "gridwidth": 2,
            "linecolor": "white",
            "showbackground": true,
            "ticks": "",
            "zerolinecolor": "white"
           },
           "yaxis": {
            "backgroundcolor": "#E5ECF6",
            "gridcolor": "white",
            "gridwidth": 2,
            "linecolor": "white",
            "showbackground": true,
            "ticks": "",
            "zerolinecolor": "white"
           },
           "zaxis": {
            "backgroundcolor": "#E5ECF6",
            "gridcolor": "white",
            "gridwidth": 2,
            "linecolor": "white",
            "showbackground": true,
            "ticks": "",
            "zerolinecolor": "white"
           }
          },
          "shapedefaults": {
           "line": {
            "color": "#2a3f5f"
           }
          },
          "ternary": {
           "aaxis": {
            "gridcolor": "white",
            "linecolor": "white",
            "ticks": ""
           },
           "baxis": {
            "gridcolor": "white",
            "linecolor": "white",
            "ticks": ""
           },
           "bgcolor": "#E5ECF6",
           "caxis": {
            "gridcolor": "white",
            "linecolor": "white",
            "ticks": ""
           }
          },
          "title": {
           "x": 0.05
          },
          "xaxis": {
           "automargin": true,
           "gridcolor": "white",
           "linecolor": "white",
           "ticks": "",
           "title": {
            "standoff": 15
           },
           "zerolinecolor": "white",
           "zerolinewidth": 2
          },
          "yaxis": {
           "automargin": true,
           "gridcolor": "white",
           "linecolor": "white",
           "ticks": "",
           "title": {
            "standoff": 15
           },
           "zerolinecolor": "white",
           "zerolinewidth": 2
          }
         }
        },
        "xaxis": {
         "anchor": "y",
         "domain": [
          0,
          1
         ],
         "title": {
          "text": "date"
         }
        },
        "yaxis": {
         "anchor": "x",
         "domain": [
          0,
          1
         ],
         "title": {
          "text": "rating"
         }
        }
       }
      }
     },
     "metadata": {},
     "output_type": "display_data"
    }
   ],
   "source": [
    "fig = px.line(data_frame=track_df, x=\"date\", y=\"rating\", color=\"player_id\", height=800, markers=True)"
   ]
  },
  {
   "cell_type": "code",
   "execution_count": 40,
   "metadata": {},
   "outputs": [],
   "source": [
    "track_df.to_clipboard()"
   ]
  }
 ],
 "metadata": {
  "kernelspec": {
   "display_name": "bro",
   "language": "python",
   "name": "python3"
  },
  "language_info": {
   "codemirror_mode": {
    "name": "ipython",
    "version": 3
   },
   "file_extension": ".py",
   "mimetype": "text/x-python",
   "name": "python",
   "nbconvert_exporter": "python",
   "pygments_lexer": "ipython3",
   "version": "3.11.8"
  }
 },
 "nbformat": 4,
 "nbformat_minor": 2
}
