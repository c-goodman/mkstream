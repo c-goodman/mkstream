{
 "cells": [
  {
   "cell_type": "code",
   "execution_count": 1,
   "metadata": {},
   "outputs": [],
   "source": [
    "import os\n",
    "import pandas as pd\n",
    "from dotenv import load_dotenv\n",
    "\n",
    "from mktools.get_data import load_data_pd\n",
    "from mktools.stats import calculate_octets\n",
    "\n",
    "load_dotenv()\n",
    "\n",
    "# Load Data from the Google Sheet\n",
    "df = load_data_pd(\n",
    "    sheet_name=\"data\",\n",
    "    sheet_id=os.environ[\"SHEET_ID\"],\n",
    "    usecols=[\n",
    "        \"UID\",\n",
    "        \"SUID\",\n",
    "        \"NAME\",\n",
    "        \"CHARACTER\",\n",
    "        \"MAP\",\n",
    "        \"PLACE\",\n",
    "        \"PLAYERS\",\n",
    "        \"DATE\",\n",
    "        \"SEASON\",\n",
    "    ],\n",
    ")"
   ]
  }
 ],
 "metadata": {
  "kernelspec": {
   "display_name": "bro",
   "language": "python",
   "name": "python3"
  },
  "language_info": {
   "codemirror_mode": {
    "name": "ipython",
    "version": 3
   },
   "file_extension": ".py",
   "mimetype": "text/x-python",
   "name": "python",
   "nbconvert_exporter": "python",
   "pygments_lexer": "ipython3",
   "version": "3.11.8"
  }
 },
 "nbformat": 4,
 "nbformat_minor": 2
}
