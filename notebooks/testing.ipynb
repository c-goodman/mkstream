{
 "cells": [
  {
   "cell_type": "code",
   "execution_count": 1,
   "metadata": {},
   "outputs": [],
   "source": [
    "import os\n",
    "import pandas as pd\n",
    "from dotenv import load_dotenv\n",
    "\n",
    "from mktools.get_data import load_data_pd\n",
    "from mktools.stats import calculate_octets\n",
    "\n",
    "load_dotenv()\n",
    "\n",
    "# Load Data from the Google Sheet\n",
    "df = load_data_pd(\n",
    "    sheet_name=\"data\",\n",
    "    sheet_id=os.environ[\"SHEET_ID\"],\n",
    "    usecols=[\n",
    "        \"UID\",\n",
    "        \"SUID\",\n",
    "        \"NAME\",\n",
    "        \"CHARACTER\",\n",
    "        \"MAP\",\n",
    "        \"PLACE\",\n",
    "        \"PLAYERS\",\n",
    "        \"DATE\",\n",
    "        \"SEASON\",\n",
    "    ],\n",
    ")"
   ]
  },
  {
   "cell_type": "code",
   "execution_count": 2,
   "metadata": {},
   "outputs": [
    {
     "data": {
      "text/html": [
       "<div>\n",
       "<style scoped>\n",
       "    .dataframe tbody tr th:only-of-type {\n",
       "        vertical-align: middle;\n",
       "    }\n",
       "\n",
       "    .dataframe tbody tr th {\n",
       "        vertical-align: top;\n",
       "    }\n",
       "\n",
       "    .dataframe thead th {\n",
       "        text-align: right;\n",
       "    }\n",
       "</style>\n",
       "<table border=\"1\" class=\"dataframe\">\n",
       "  <thead>\n",
       "    <tr style=\"text-align: right;\">\n",
       "      <th></th>\n",
       "      <th>NAME</th>\n",
       "      <th>UID</th>\n",
       "      <th>SUID</th>\n",
       "      <th>CHARACTER</th>\n",
       "      <th>MAP</th>\n",
       "      <th>PLACE</th>\n",
       "      <th>PLAYERS</th>\n",
       "      <th>DATE</th>\n",
       "      <th>SEASON</th>\n",
       "    </tr>\n",
       "  </thead>\n",
       "  <tbody>\n",
       "    <tr>\n",
       "      <th>13</th>\n",
       "      <td>Cooper</td>\n",
       "      <td>5806</td>\n",
       "      <td>33</td>\n",
       "      <td>Mario</td>\n",
       "      <td>Frappe Snowland</td>\n",
       "      <td>4</td>\n",
       "      <td>4</td>\n",
       "      <td>2024-06-05</td>\n",
       "      <td>10</td>\n",
       "    </tr>\n",
       "  </tbody>\n",
       "</table>\n",
       "</div>"
      ],
      "text/plain": [
       "      NAME   UID  SUID CHARACTER              MAP  PLACE  PLAYERS        DATE  \\\n",
       "13  Cooper  5806    33     Mario  Frappe Snowland      4        4  2024-06-05   \n",
       "\n",
       "    SEASON  \n",
       "13      10  "
      ]
     },
     "execution_count": 2,
     "metadata": {},
     "output_type": "execute_result"
    }
   ],
   "source": [
    "gb = df[(df[\"PLACE\"] == 4) & (df[\"UID\"] < 5846)].groupby(\"NAME\").last().reset_index()\n",
    "\n",
    "gb[gb[\"NAME\"] == \"Cooper\"]"
   ]
  }
 ],
 "metadata": {
  "kernelspec": {
   "display_name": "bro",
   "language": "python",
   "name": "python3"
  },
  "language_info": {
   "codemirror_mode": {
    "name": "ipython",
    "version": 3
   },
   "file_extension": ".py",
   "mimetype": "text/x-python",
   "name": "python",
   "nbconvert_exporter": "python",
   "pygments_lexer": "ipython3",
   "version": "3.11.8"
  }
 },
 "nbformat": 4,
 "nbformat_minor": 2
}
