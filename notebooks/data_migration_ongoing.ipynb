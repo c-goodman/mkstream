{
 "cells": [
  {
   "cell_type": "code",
   "execution_count": null,
   "metadata": {},
   "outputs": [],
   "source": [
    "import os\n",
    "import numpy as np\n",
    "import pandas as pd\n",
    "from dotenv import load_dotenv\n",
    "from multielo import MultiElo, Tracker\n",
    "from mktools.get_data import load_data_pd\n",
    "from mktools.validate_data import validate_bad_uids\n",
    "from mktools.form_data import fill_new_session\n",
    "import plotly.express as px\n",
    "from alive_progress import alive_it\n",
    "from bs4 import BeautifulSoup\n",
    "from typing import Literal\n",
    "\n",
    "# Load Variables from .env file\n",
    "load_dotenv()\n",
    "\n",
    "# LAST_FORM_DATA_DATE = pd.Timestamp('1/27/2025 23:40:20').tz_localize(\"US/Eastern\").tz_convert(\"UTC\")\n",
    "\n",
    "# LAST_FORM_DATA_DATE"
   ]
  },
  {
   "cell_type": "code",
   "execution_count": null,
   "metadata": {},
   "outputs": [],
   "source": [
    "migrated_data = pd.read_csv(\n",
    "    r\"C:\\Users\\Cooper\\sandbox\\mkstream\\form_data_migration\\form_data_valid.csv\"\n",
    ").drop(columns=[\"SUID_WINDOW_START\", \"SUID_WINDOW_END\"])\n",
    "\n",
    "migrated_data[\"TIMESTAMP\"] = pd.to_datetime(\n",
    "    migrated_data[\"TIMESTAMP\"], utc=True\n",
    ").dt.tz_convert(\"US/Eastern\")"
   ]
  },
  {
   "cell_type": "code",
   "execution_count": null,
   "metadata": {},
   "outputs": [],
   "source": [
    "pd.Timestamp('2024-07-09 08:40:00').tz_localize(\"US/Eastern\")"
   ]
  },
  {
   "cell_type": "code",
   "execution_count": null,
   "metadata": {},
   "outputs": [],
   "source": [
    "pd.Timestamp(\"2025-01-29 03:58:15\").tz_localize(\"US/Eastern\")"
   ]
  },
  {
   "cell_type": "code",
   "execution_count": null,
   "metadata": {},
   "outputs": [],
   "source": [
    "# # Temporarily remove bad data can remove later\n",
    "# migrated_data = migrated_data[\n",
    "#     ~migrated_data[\"TIMESTAMP\"].isin(\n",
    "#         [\n",
    "#             pd.Timestamp(\"2024-07-09 08:40:00\").tz_localize(\"US/Eastern\"),\n",
    "#             pd.Timestamp(\"2024-07-09 08:35:00\").tz_localize(\"US/Eastern\"),\n",
    "#         ]\n",
    "#     )\n",
    "# ]"
   ]
  },
  {
   "cell_type": "code",
   "execution_count": null,
   "metadata": {},
   "outputs": [],
   "source": [
    "LAST_FORM_DATA_DATE = migrated_data[\"TIMESTAMP\"].max()\n",
    "\n",
    "LAST_FORM_DATA_DATE"
   ]
  },
  {
   "cell_type": "code",
   "execution_count": null,
   "metadata": {},
   "outputs": [],
   "source": [
    "form_df = load_data_pd(sheet_name=\"form_data\", sheet_id=os.environ[\"SHEET_ID\"])\n",
    "\n",
    "form_df = form_df.drop(\n",
    "    columns=[\n",
    "        x\n",
    "        for x in form_df.columns\n",
    "        if x.__contains__(\"Unnamed\") or x.__contains__(\"Score\")\n",
    "    ]\n",
    ")\n",
    "\n",
    "form_df[\"Timestamp\"] = pd.to_datetime(form_df[\"Timestamp\"]).dt.tz_localize(\"US/Eastern\")\n",
    "\n",
    "form_df.columns = [\n",
    "    x.replace(\" \", \"_\").replace(\"[\", \"\").replace(\"]\", \"\") if x.__contains__(\"[\") else x\n",
    "    for x in form_df.columns\n",
    "]"
   ]
  },
  {
   "cell_type": "code",
   "execution_count": null,
   "metadata": {},
   "outputs": [],
   "source": [
    "new_df = (\n",
    "    form_df[form_df[\"Timestamp\"] > LAST_FORM_DATA_DATE].copy().reset_index(drop=True)\n",
    ")\n",
    "\n",
    "new_df"
   ]
  },
  {
   "cell_type": "code",
   "execution_count": null,
   "metadata": {},
   "outputs": [],
   "source": [
    "if new_df.shape[0] == 0:\n",
    "    raise IndexError(\"No new records to update\")"
   ]
  },
  {
   "cell_type": "code",
   "execution_count": null,
   "metadata": {},
   "outputs": [],
   "source": [
    "def transform_form_data(\n",
    "    df: pd.DataFrame, game_type_replace_string: Literal[\"_2_\", \"_3_\", \"_4_\"]\n",
    ") -> pd.DataFrame:\n",
    "\n",
    "    if df.shape[0] > 0:\n",
    "        idf = df.copy()\n",
    "\n",
    "        idf_out = idf.dropna(axis=1, how=\"all\").reset_index(drop=True)\n",
    "\n",
    "        idf_out.columns = [\n",
    "            (\n",
    "                x.replace(game_type_replace_string, \"_\")\n",
    "                if x.__contains__(game_type_replace_string)\n",
    "                else x.upper()\n",
    "            )\n",
    "            for x in idf_out.columns\n",
    "        ]\n",
    "\n",
    "        idf_out[\"TIMESTAMP\"] = pd.to_datetime(idf_out[\"TIMESTAMP\"])\n",
    "\n",
    "        return idf_out\n",
    "    else:\n",
    "        return pd.DataFrame()"
   ]
  },
  {
   "cell_type": "code",
   "execution_count": null,
   "metadata": {},
   "outputs": [],
   "source": [
    "dfs = []\n",
    "\n",
    "for game_type in [2, 3, 4]:\n",
    "    tdf = new_df[new_df[\"PLAYERS\"] == game_type].copy().reset_index(drop=True)\n",
    "\n",
    "    dfs.append(tdf)\n",
    "\n",
    "two_p = dfs[0]\n",
    "three_p = dfs[1]\n",
    "four_p = dfs[2]\n",
    "\n",
    "two_p_out = transform_form_data(df=two_p, game_type_replace_string=\"_2_\")\n",
    "three_p_out = transform_form_data(df=three_p, game_type_replace_string=\"_3_\")\n",
    "four_p_out = transform_form_data(df=four_p, game_type_replace_string=\"_4_\")\n",
    "\n",
    "cat_df = (\n",
    "    pd.concat([two_p_out, three_p_out, four_p_out])\n",
    "    .sort_values(by=\"TIMESTAMP\")\n",
    "    .reset_index(drop=True)\n",
    "    .reset_index()\n",
    ")[\n",
    "    [\n",
    "        \"TIMESTAMP\",\n",
    "        \"NEW_SESSION\",\n",
    "        \"MAP\",\n",
    "        \"PLAYERS\",\n",
    "        \"PLAYERS_1ST\",\n",
    "        \"PLAYERS_2ND\",\n",
    "        \"PLAYERS_3RD\",\n",
    "        \"PLAYERS_4TH\",\n",
    "        \"CHARACTERS_1ST\",\n",
    "        \"CHARACTERS_2ND\",\n",
    "        \"CHARACTERS_3RD\",\n",
    "        \"CHARACTERS_4TH\",\n",
    "    ]\n",
    "]\n",
    "\n",
    "cat_df"
   ]
  },
  {
   "cell_type": "code",
   "execution_count": null,
   "metadata": {},
   "outputs": [],
   "source": [
    "season_initial = load_data_pd(\n",
    "    sheet_name=\"data_main\",\n",
    "    sheet_id=os.environ[\"SHEET_ID\"],\n",
    "    usecols=[\n",
    "        \"DATE\",\n",
    "        \"SEASON\",\n",
    "    ],\n",
    ")\n",
    "\n",
    "season_initial[\"DATE\"] = pd.to_datetime(season_initial[\"DATE\"]).dt.tz_localize(\n",
    "    \"US/Eastern\"\n",
    ")\n",
    "\n",
    "season_gb = (\n",
    "    season_initial[season_initial[\"DATE\"] > LAST_FORM_DATA_DATE]\n",
    "    .groupby([\"DATE\"])[[\"SEASON\"]]\n",
    "    .first()\n",
    "    .reset_index()\n",
    "    .rename(columns={\"DATE\": \"TIMESTAMP\"})\n",
    ")\n",
    "\n",
    "season_gb.tail()"
   ]
  },
  {
   "cell_type": "code",
   "execution_count": null,
   "metadata": {},
   "outputs": [],
   "source": [
    "season_gb"
   ]
  },
  {
   "cell_type": "code",
   "execution_count": null,
   "metadata": {},
   "outputs": [],
   "source": [
    "new_data_ready = pd.merge(\n",
    "    cat_df, season_gb, on=\"TIMESTAMP\", how=\"inner\", validate=\"1:1\"\n",
    ")\n",
    "\n",
    "# Double check that no records were dropped in the merge\n",
    "assert new_data_ready.shape[0] == cat_df.shape[0]"
   ]
  },
  {
   "cell_type": "code",
   "execution_count": null,
   "metadata": {},
   "outputs": [],
   "source": [
    "cat_df"
   ]
  },
  {
   "cell_type": "code",
   "execution_count": null,
   "metadata": {},
   "outputs": [],
   "source": [
    "new_data_ready"
   ]
  },
  {
   "cell_type": "code",
   "execution_count": null,
   "metadata": {},
   "outputs": [],
   "source": [
    "migrated_data.tail()"
   ]
  },
  {
   "cell_type": "code",
   "execution_count": null,
   "metadata": {},
   "outputs": [],
   "source": [
    "new_data_ready.head()"
   ]
  },
  {
   "cell_type": "code",
   "execution_count": null,
   "metadata": {},
   "outputs": [],
   "source": [
    "data_concat = (\n",
    "    pd.concat([migrated_data, new_data_ready])\n",
    "    .sort_values(by=\"TIMESTAMP\")\n",
    "    .reset_index(drop=True)\n",
    ")\n",
    "\n",
    "data_concat"
   ]
  },
  {
   "cell_type": "code",
   "execution_count": null,
   "metadata": {},
   "outputs": [],
   "source": [
    "assert data_concat[\"TIMESTAMP\"].is_unique\n",
    "assert data_concat[\"TIMESTAMP\"].is_monotonic_increasing"
   ]
  },
  {
   "cell_type": "code",
   "execution_count": null,
   "metadata": {},
   "outputs": [],
   "source": [
    "data_concat_filled = fill_new_session(\n",
    "    df=data_concat, timestamp_column_name=\"TIMESTAMP\", drop_window_start_column=False\n",
    ")\n",
    "\n",
    "# # Convert back to EST for Postgres\n",
    "# data_concat_filled[\"TIMESTAMP\"] = data_concat_filled[\"TIMESTAMP\"].dt.tz_convert(\n",
    "#     \"US/Eastern\"\n",
    "# )\n",
    "\n",
    "data_concat_filled"
   ]
  },
  {
   "cell_type": "code",
   "execution_count": null,
   "metadata": {},
   "outputs": [],
   "source": [
    "new_session_df = data_concat_filled.copy()\n",
    "\n",
    "new_session_df[\"temp_session\"] = np.where(new_session_df[\"NEW_SESSION\"] == \"YES\", 1, 0)\n",
    "\n",
    "new_session_df[\"SUID\"] = new_session_df[\"temp_session\"].cumsum()"
   ]
  },
  {
   "cell_type": "code",
   "execution_count": null,
   "metadata": {},
   "outputs": [],
   "source": [
    "new_session_df"
   ]
  },
  {
   "cell_type": "code",
   "execution_count": null,
   "metadata": {},
   "outputs": [],
   "source": [
    "temp_df = new_session_df.copy()\n",
    "\n",
    "holder = []\n",
    "\n",
    "for suid in temp_df[\"SUID\"].unique():\n",
    "\n",
    "    temp = temp_df[temp_df[\"SUID\"] == suid].copy()\n",
    "\n",
    "    temp_first_game = temp[temp[\"NEW_SESSION\"] == \"YES\"].copy().reset_index(drop=True)\n",
    "\n",
    "    temp[\"window_start\"] = temp_first_game[\"window_start\"][0]\n",
    "    temp[\"window_end\"] = (\n",
    "        temp_first_game[\"window_start\"][0]\n",
    "        + pd.Timedelta(days=1)\n",
    "        - pd.Timedelta(nanoseconds=1)\n",
    "    )\n",
    "\n",
    "    holder.append(temp)\n",
    "\n",
    "temp_out = pd.concat(holder).sort_values(by=[\"TIMESTAMP\"]).reset_index(drop=True)\n",
    "\n",
    "\n",
    "temp_out.tail(20)"
   ]
  },
  {
   "cell_type": "code",
   "execution_count": null,
   "metadata": {},
   "outputs": [],
   "source": [
    "out_df = (\n",
    "    temp_out[\n",
    "        [\n",
    "            \"TIMESTAMP\",\n",
    "            \"NEW_SESSION\",\n",
    "            \"SUID\",\n",
    "            \"MAP\",\n",
    "            \"PLAYERS\",\n",
    "            \"PLAYERS_1ST\",\n",
    "            \"PLAYERS_2ND\",\n",
    "            \"PLAYERS_3RD\",\n",
    "            \"PLAYERS_4TH\",\n",
    "            \"CHARACTERS_1ST\",\n",
    "            \"CHARACTERS_2ND\",\n",
    "            \"CHARACTERS_3RD\",\n",
    "            \"CHARACTERS_4TH\",\n",
    "            \"SEASON\",\n",
    "            \"window_start\",\n",
    "            \"window_end\",\n",
    "        ]\n",
    "    ]\n",
    "    .copy()\n",
    "    .rename(\n",
    "        columns={\n",
    "            \"window_start\": \"SUID_WINDOW_START\",\n",
    "            \"window_end\": \"SUID_WINDOW_END\",\n",
    "        }\n",
    "    )\n",
    ")\n",
    "\n",
    "out_df"
   ]
  },
  {
   "cell_type": "code",
   "execution_count": null,
   "metadata": {},
   "outputs": [],
   "source": [
    "out_df.tail(20)"
   ]
  },
  {
   "cell_type": "code",
   "execution_count": null,
   "metadata": {},
   "outputs": [],
   "source": [
    "new_records = out_df[out_df[\"TIMESTAMP\"].isin(new_df[\"Timestamp\"])].reset_index(drop=True)\n",
    "\n",
    "new_records"
   ]
  },
  {
   "cell_type": "code",
   "execution_count": null,
   "metadata": {},
   "outputs": [],
   "source": [
    "out_df.to_csv(\n",
    "    rf\"C:\\Users\\Cooper\\sandbox\\mkstream\\form_data_migration\\form_data_valid.csv\",\n",
    "    index=False,\n",
    ")\n",
    "\n",
    "new_records.to_csv(\n",
    "    rf\"C:\\Users\\Cooper\\sandbox\\mkstream\\form_data_migration\\form_data_valid_new_records.csv\",\n",
    "    index=False,\n",
    ")"
   ]
  }
 ],
 "metadata": {
  "kernelspec": {
   "display_name": "bro",
   "language": "python",
   "name": "python3"
  },
  "language_info": {
   "codemirror_mode": {
    "name": "ipython",
    "version": 3
   },
   "file_extension": ".py",
   "mimetype": "text/x-python",
   "name": "python",
   "nbconvert_exporter": "python",
   "pygments_lexer": "ipython3",
   "version": "3.11.8"
  }
 },
 "nbformat": 4,
 "nbformat_minor": 2
}
