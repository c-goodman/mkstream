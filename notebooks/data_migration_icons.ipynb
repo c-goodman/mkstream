{
 "cells": [
  {
   "cell_type": "code",
   "execution_count": 7,
   "metadata": {},
   "outputs": [],
   "source": [
    "import os\n",
    "import pandas as pd\n",
    "\n",
    "mk_assets_path = r\"\\\\wsl$\\Ubuntu\\root\\learn\\mk\\public\"\n",
    "mk_maps_path = rf\"{mk_assets_path}\\maps\"\n",
    "mk_characters_path = rf\"{mk_assets_path}\\characters\"\n",
    "\n",
    "migrated_data = pd.read_csv(\n",
    "    r\"C:\\Users\\Cooper\\sandbox\\mkstream\\form_data_migration\\form_data_valid.csv\"\n",
    ")"
   ]
  },
  {
   "cell_type": "markdown",
   "metadata": {},
   "source": [
    "## Maps"
   ]
  },
  {
   "cell_type": "code",
   "execution_count": null,
   "metadata": {},
   "outputs": [],
   "source": [
    "map_icons = [f\"/maps/{x}\" for x in os.listdir(mk_maps_path)]\n",
    "\n",
    "map_paths_sorted = pd.Series(map_icons).sort_values().reset_index(drop=True)\n",
    "\n",
    "map_names_sorted = (\n",
    "    pd.Series(\n",
    "        [\n",
    "            \"Wario Stadium\",\n",
    "            \"D.K.'s Jungle\",\n",
    "            \"Sherbet Land\",\n",
    "            \"Koopa Troopa Beach\",\n",
    "            \"Yoshi Valley\",\n",
    "            \"Banshee Boardwalk\",\n",
    "            \"Royal Raceway\",\n",
    "            \"Kalimari Desert\",\n",
    "            \"Bowser's Castle\",\n",
    "            \"Toad's Turnpike\",\n",
    "            \"Frappe Snowland\",\n",
    "            \"Choco Mountain\",\n",
    "            \"Mario Raceway\",\n",
    "            \"Moo Moo Farm\",\n",
    "            \"Luigi Raceway\",\n",
    "            \"Rainbow Road\",\n",
    "        ]\n",
    "    )\n",
    "    .sort_values()\n",
    "    .reset_index(drop=True)\n",
    ")\n",
    "\n",
    "maps_df = pd.DataFrame(\n",
    "    {\n",
    "        \"MAP\": map_names_sorted,\n",
    "        \"IMAGE_URL\": map_paths_sorted,\n",
    "    }\n",
    ")\n",
    "\n",
    "maps_df"
   ]
  },
  {
   "cell_type": "code",
   "execution_count": null,
   "metadata": {},
   "outputs": [],
   "source": [
    "maps_df.to_csv(\n",
    "    rf\"C:\\Users\\Cooper\\sandbox\\mkstream\\form_data_migration\\maps_valid.csv\",\n",
    "    index=False,\n",
    ")"
   ]
  },
  {
   "cell_type": "markdown",
   "metadata": {},
   "source": [
    "## Characters"
   ]
  },
  {
   "cell_type": "code",
   "execution_count": 8,
   "metadata": {},
   "outputs": [
    {
     "data": {
      "text/plain": [
       "array(['Toad', 'Mario', 'Yoshi', 'Peach', 'Luigi', 'Bowser', 'D.K.',\n",
       "       'Wario', nan], dtype=object)"
      ]
     },
     "execution_count": 8,
     "metadata": {},
     "output_type": "execute_result"
    }
   ],
   "source": [
    "migrated_data[\"CHARACTERS_1ST\"].unique()"
   ]
  },
  {
   "cell_type": "code",
   "execution_count": 10,
   "metadata": {},
   "outputs": [
    {
     "data": {
      "text/html": [
       "<div>\n",
       "<style scoped>\n",
       "    .dataframe tbody tr th:only-of-type {\n",
       "        vertical-align: middle;\n",
       "    }\n",
       "\n",
       "    .dataframe tbody tr th {\n",
       "        vertical-align: top;\n",
       "    }\n",
       "\n",
       "    .dataframe thead th {\n",
       "        text-align: right;\n",
       "    }\n",
       "</style>\n",
       "<table border=\"1\" class=\"dataframe\">\n",
       "  <thead>\n",
       "    <tr style=\"text-align: right;\">\n",
       "      <th></th>\n",
       "      <th>TIMESTAMP</th>\n",
       "      <th>NEW_SESSION</th>\n",
       "      <th>SUID</th>\n",
       "      <th>MAP</th>\n",
       "      <th>PLAYERS</th>\n",
       "      <th>PLAYERS_1ST</th>\n",
       "      <th>PLAYERS_2ND</th>\n",
       "      <th>PLAYERS_3RD</th>\n",
       "      <th>PLAYERS_4TH</th>\n",
       "      <th>CHARACTERS_1ST</th>\n",
       "      <th>CHARACTERS_2ND</th>\n",
       "      <th>CHARACTERS_3RD</th>\n",
       "      <th>CHARACTERS_4TH</th>\n",
       "      <th>SEASON</th>\n",
       "    </tr>\n",
       "  </thead>\n",
       "  <tbody>\n",
       "    <tr>\n",
       "      <th>216</th>\n",
       "      <td>2024-07-09 08:40:00-04:00</td>\n",
       "      <td>NO</td>\n",
       "      <td>19</td>\n",
       "      <td>Wario Stadium</td>\n",
       "      <td>3</td>\n",
       "      <td>NaN</td>\n",
       "      <td>Triston</td>\n",
       "      <td>Cooper</td>\n",
       "      <td>NaN</td>\n",
       "      <td>NaN</td>\n",
       "      <td>Yoshi</td>\n",
       "      <td>D.K.</td>\n",
       "      <td>NaN</td>\n",
       "      <td>11</td>\n",
       "    </tr>\n",
       "  </tbody>\n",
       "</table>\n",
       "</div>"
      ],
      "text/plain": [
       "                     TIMESTAMP NEW_SESSION  SUID            MAP  PLAYERS  \\\n",
       "216  2024-07-09 08:40:00-04:00          NO    19  Wario Stadium        3   \n",
       "\n",
       "    PLAYERS_1ST PLAYERS_2ND PLAYERS_3RD PLAYERS_4TH CHARACTERS_1ST  \\\n",
       "216         NaN     Triston      Cooper         NaN            NaN   \n",
       "\n",
       "    CHARACTERS_2ND CHARACTERS_3RD CHARACTERS_4TH  SEASON  \n",
       "216          Yoshi           D.K.            NaN      11  "
      ]
     },
     "execution_count": 10,
     "metadata": {},
     "output_type": "execute_result"
    }
   ],
   "source": [
    "migrated_data[migrated_data[\"CHARACTERS_1ST\"].isna()]"
   ]
  },
  {
   "cell_type": "code",
   "execution_count": 11,
   "metadata": {},
   "outputs": [
    {
     "data": {
      "text/html": [
       "<div>\n",
       "<style scoped>\n",
       "    .dataframe tbody tr th:only-of-type {\n",
       "        vertical-align: middle;\n",
       "    }\n",
       "\n",
       "    .dataframe tbody tr th {\n",
       "        vertical-align: top;\n",
       "    }\n",
       "\n",
       "    .dataframe thead th {\n",
       "        text-align: right;\n",
       "    }\n",
       "</style>\n",
       "<table border=\"1\" class=\"dataframe\">\n",
       "  <thead>\n",
       "    <tr style=\"text-align: right;\">\n",
       "      <th></th>\n",
       "      <th>TIMESTAMP</th>\n",
       "      <th>NEW_SESSION</th>\n",
       "      <th>SUID</th>\n",
       "      <th>MAP</th>\n",
       "      <th>PLAYERS</th>\n",
       "      <th>PLAYERS_1ST</th>\n",
       "      <th>PLAYERS_2ND</th>\n",
       "      <th>PLAYERS_3RD</th>\n",
       "      <th>PLAYERS_4TH</th>\n",
       "      <th>CHARACTERS_1ST</th>\n",
       "      <th>CHARACTERS_2ND</th>\n",
       "      <th>CHARACTERS_3RD</th>\n",
       "      <th>CHARACTERS_4TH</th>\n",
       "      <th>SEASON</th>\n",
       "    </tr>\n",
       "  </thead>\n",
       "  <tbody>\n",
       "    <tr>\n",
       "      <th>215</th>\n",
       "      <td>2024-07-09 08:35:00-04:00</td>\n",
       "      <td>NO</td>\n",
       "      <td>19</td>\n",
       "      <td>Banshee Boardwalk</td>\n",
       "      <td>3</td>\n",
       "      <td>Regan</td>\n",
       "      <td>NaN</td>\n",
       "      <td>NaN</td>\n",
       "      <td>NaN</td>\n",
       "      <td>Peach</td>\n",
       "      <td>NaN</td>\n",
       "      <td>NaN</td>\n",
       "      <td>NaN</td>\n",
       "      <td>11</td>\n",
       "    </tr>\n",
       "  </tbody>\n",
       "</table>\n",
       "</div>"
      ],
      "text/plain": [
       "                     TIMESTAMP NEW_SESSION  SUID                MAP  PLAYERS  \\\n",
       "215  2024-07-09 08:35:00-04:00          NO    19  Banshee Boardwalk        3   \n",
       "\n",
       "    PLAYERS_1ST PLAYERS_2ND PLAYERS_3RD PLAYERS_4TH CHARACTERS_1ST  \\\n",
       "215       Regan         NaN         NaN         NaN          Peach   \n",
       "\n",
       "    CHARACTERS_2ND CHARACTERS_3RD CHARACTERS_4TH  SEASON  \n",
       "215            NaN            NaN            NaN      11  "
      ]
     },
     "execution_count": 11,
     "metadata": {},
     "output_type": "execute_result"
    }
   ],
   "source": [
    "migrated_data[migrated_data[\"CHARACTERS_2ND\"].isna()]"
   ]
  },
  {
   "cell_type": "markdown",
   "metadata": {},
   "source": [
    "### Icons"
   ]
  },
  {
   "cell_type": "code",
   "execution_count": 6,
   "metadata": {},
   "outputs": [
    {
     "data": {
      "text/plain": [
       "0    /characters/icons/MK64_icon_Bowser.png\n",
       "1        /characters/icons/MK64_icon_DK.png\n",
       "2     /characters/icons/MK64_icon_Luigi.png\n",
       "3     /characters/icons/MK64_icon_Mario.png\n",
       "4     /characters/icons/MK64_icon_Peach.png\n",
       "5      /characters/icons/MK64_icon_Toad.png\n",
       "6     /characters/icons/MK64_icon_Wario.png\n",
       "7     /characters/icons/MK64_icon_Yoshi.png\n",
       "dtype: object"
      ]
     },
     "execution_count": 6,
     "metadata": {},
     "output_type": "execute_result"
    }
   ],
   "source": [
    "# Ignore the `/characters/icons/MK64_icon_Q.png` question mark icon\n",
    "character_icons = [\n",
    "    rf\"/characters/icons/{x}\"\n",
    "    for x in os.listdir(rf\"{mk_characters_path}/icons\")\n",
    "    if not x.__contains__(\"Q\")\n",
    "]\n",
    "\n",
    "character_icons_paths_sorted = (\n",
    "    pd.Series(character_icons).sort_values().reset_index(drop=True)\n",
    ")\n",
    "\n",
    "character_icons_paths_sorted"
   ]
  }
 ],
 "metadata": {
  "kernelspec": {
   "display_name": "bro",
   "language": "python",
   "name": "python3"
  },
  "language_info": {
   "codemirror_mode": {
    "name": "ipython",
    "version": 3
   },
   "file_extension": ".py",
   "mimetype": "text/x-python",
   "name": "python",
   "nbconvert_exporter": "python",
   "pygments_lexer": "ipython3",
   "version": "3.11.8"
  }
 },
 "nbformat": 4,
 "nbformat_minor": 2
}
