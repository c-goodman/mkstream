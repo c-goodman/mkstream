{
 "cells": [
  {
   "cell_type": "code",
   "execution_count": 25,
   "metadata": {},
   "outputs": [],
   "source": [
    "import os\n",
    "import pandas as pd\n",
    "import numpy as np\n",
    "\n",
    "mk_assets_path = r\"\\\\wsl$\\Ubuntu\\root\\learn\\mk\\public\"\n",
    "mk_maps_path = rf\"{mk_assets_path}\\maps\"\n",
    "mk_characters_path = rf\"{mk_assets_path}\\characters\"\n",
    "\n",
    "migrated_data = pd.read_csv(\n",
    "    r\"C:\\Users\\Cooper\\sandbox\\mkstream\\form_data_migration\\form_data_valid.csv\"\n",
    ")"
   ]
  },
  {
   "cell_type": "markdown",
   "metadata": {},
   "source": [
    "## Maps"
   ]
  },
  {
   "cell_type": "code",
   "execution_count": null,
   "metadata": {},
   "outputs": [],
   "source": [
    "map_icons = [f\"/maps/{x}\" for x in os.listdir(mk_maps_path)]\n",
    "\n",
    "map_paths_sorted = pd.Series(map_icons).sort_values().reset_index(drop=True)\n",
    "\n",
    "map_names_sorted = (\n",
    "    pd.Series(\n",
    "        [\n",
    "            \"Wario Stadium\",\n",
    "            \"D.K.'s Jungle\",\n",
    "            \"Sherbet Land\",\n",
    "            \"Koopa Troopa Beach\",\n",
    "            \"Yoshi Valley\",\n",
    "            \"Banshee Boardwalk\",\n",
    "            \"Royal Raceway\",\n",
    "            \"Kalimari Desert\",\n",
    "            \"Bowser's Castle\",\n",
    "            \"Toad's Turnpike\",\n",
    "            \"Frappe Snowland\",\n",
    "            \"Choco Mountain\",\n",
    "            \"Mario Raceway\",\n",
    "            \"Moo Moo Farm\",\n",
    "            \"Luigi Raceway\",\n",
    "            \"Rainbow Road\",\n",
    "        ]\n",
    "    )\n",
    "    .sort_values()\n",
    "    .reset_index(drop=True)\n",
    ")\n",
    "\n",
    "maps_df = pd.DataFrame(\n",
    "    {\n",
    "        \"MAP\": map_names_sorted,\n",
    "        \"IMAGE_URL\": map_paths_sorted,\n",
    "    }\n",
    ")\n",
    "\n",
    "maps_df"
   ]
  },
  {
   "cell_type": "code",
   "execution_count": null,
   "metadata": {},
   "outputs": [],
   "source": [
    "maps_df.to_csv(\n",
    "    rf\"C:\\Users\\Cooper\\sandbox\\mkstream\\form_data_migration\\maps_valid.csv\",\n",
    "    index=False,\n",
    ")"
   ]
  },
  {
   "cell_type": "markdown",
   "metadata": {},
   "source": [
    "## Characters"
   ]
  },
  {
   "cell_type": "code",
   "execution_count": null,
   "metadata": {},
   "outputs": [],
   "source": [
    "migrated_data[\"CHARACTERS_1ST\"].unique()"
   ]
  },
  {
   "cell_type": "markdown",
   "metadata": {},
   "source": [
    "### Icons"
   ]
  },
  {
   "cell_type": "code",
   "execution_count": null,
   "metadata": {},
   "outputs": [],
   "source": [
    "# Ignore the `/characters/icons/MK64_icon_Q.png` question mark icon\n",
    "character_icons = [\n",
    "    rf\"/characters/icons/{x}\"\n",
    "    for x in os.listdir(rf\"{mk_characters_path}/icons\")\n",
    "    if not x.__contains__(\"Q\")\n",
    "]\n",
    "\n",
    "character_icons_paths_sorted = (\n",
    "    pd.Series(character_icons).sort_values().reset_index(drop=True)\n",
    ")\n",
    "\n",
    "character_icons_paths_sorted"
   ]
  },
  {
   "cell_type": "code",
   "execution_count": null,
   "metadata": {},
   "outputs": [],
   "source": [
    "character_portrait_won = [\n",
    "    rf\"/characters/portrait_won/{x}\"\n",
    "    for x in os.listdir(rf\"{mk_characters_path}/portrait_won\")\n",
    "    if not x.__contains__(\"Q\")\n",
    "]\n",
    "\n",
    "character_portrait_won_paths_sorted = (\n",
    "    pd.Series(character_portrait_won).sort_values().reset_index(drop=True)\n",
    ")\n",
    "\n",
    "character_portrait_won_paths_sorted"
   ]
  },
  {
   "cell_type": "code",
   "execution_count": null,
   "metadata": {},
   "outputs": [],
   "source": [
    "character_portrait_lost = [\n",
    "    rf\"/characters/portrait_lost/{x}\"\n",
    "    for x in os.listdir(rf\"{mk_characters_path}/portrait_lost\")\n",
    "    if not x.__contains__(\"Q\")\n",
    "]\n",
    "\n",
    "character_portrait_lost_paths_sorted = (\n",
    "    pd.Series(character_portrait_lost).sort_values().reset_index(drop=True)\n",
    ")\n",
    "\n",
    "character_portrait_lost_paths_sorted"
   ]
  },
  {
   "cell_type": "code",
   "execution_count": 20,
   "metadata": {},
   "outputs": [],
   "source": [
    "map_characters_sorted = (\n",
    "    pd.Series([\"Toad\", \"Mario\", \"Yoshi\", \"Peach\", \"Luigi\", \"Bowser\", \"D.K.\", \"Wario\"])\n",
    "    .sort_values()\n",
    "    .reset_index(drop=True)\n",
    ")"
   ]
  },
  {
   "cell_type": "code",
   "execution_count": null,
   "metadata": {},
   "outputs": [],
   "source": [
    "characters_df = pd.DataFrame(\n",
    "    {\n",
    "        \"CHARACTER\": map_characters_sorted,\n",
    "        \"IMAGE_URL_ICON\": character_icons_paths_sorted,\n",
    "        \"IMAGE_URL_PORTRAIT_WON\": character_portrait_won_paths_sorted,\n",
    "        \"IMAGE_URL_PORTRAIT_LOST\": character_portrait_lost_paths_sorted,\n",
    "    }\n",
    ")\n",
    "\n",
    "characters_df[\"TYPE\"] = \"\"\n",
    "\n",
    "characters_df[\"TYPE\"] = np.where(\n",
    "    characters_df[\"CHARACTER\"].isin([\"Bowser\", \"D.K.\", \"Wario\"]),\n",
    "    \"Heavy\",\n",
    "    characters_df[\"TYPE\"],\n",
    ")\n",
    "\n",
    "characters_df[\"TYPE\"] = np.where(\n",
    "    characters_df[\"CHARACTER\"].isin([\"Toad\", \"Yoshi\", \"Peach\"]),\n",
    "    \"Light\",\n",
    "    characters_df[\"TYPE\"],\n",
    ")\n",
    "\n",
    "characters_df[\"TYPE\"] = np.where(\n",
    "    characters_df[\"CHARACTER\"].isin([\"Mario\", \"Luigi\"]), \"Medium\", characters_df[\"TYPE\"]\n",
    ")\n",
    "\n",
    "characters_df"
   ]
  },
  {
   "cell_type": "code",
   "execution_count": 29,
   "metadata": {},
   "outputs": [],
   "source": [
    "characters_df.to_csv(\n",
    "    rf\"C:\\Users\\Cooper\\sandbox\\mkstream\\form_data_migration\\characters_valid.csv\",\n",
    "    index=False,\n",
    ")"
   ]
  }
 ],
 "metadata": {
  "kernelspec": {
   "display_name": "bro",
   "language": "python",
   "name": "python3"
  },
  "language_info": {
   "codemirror_mode": {
    "name": "ipython",
    "version": 3
   },
   "file_extension": ".py",
   "mimetype": "text/x-python",
   "name": "python",
   "nbconvert_exporter": "python",
   "pygments_lexer": "ipython3",
   "version": "3.11.8"
  }
 },
 "nbformat": 4,
 "nbformat_minor": 2
}
