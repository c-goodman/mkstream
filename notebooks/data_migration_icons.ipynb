{
 "cells": [
  {
   "cell_type": "code",
   "execution_count": 1,
   "metadata": {},
   "outputs": [],
   "source": [
    "import os\n",
    "import pandas as pd\n",
    "import numpy as np\n",
    "\n",
    "mk_assets_path = r\"\\\\wsl$\\Ubuntu\\root\\learn\\mk\\public\"\n",
    "mk_maps_path = rf\"{mk_assets_path}\\maps\"\n",
    "mk_characters_path = rf\"{mk_assets_path}\\characters\"\n",
    "\n",
    "migrated_data = pd.read_csv(\n",
    "    r\"C:\\Users\\Cooper\\sandbox\\mkstream\\form_data_migration\\form_data_valid.csv\"\n",
    ")"
   ]
  },
  {
   "cell_type": "markdown",
   "metadata": {},
   "source": [
    "## Maps"
   ]
  },
  {
   "cell_type": "code",
   "execution_count": null,
   "metadata": {},
   "outputs": [],
   "source": [
    "map_icons = [f\"/maps/{x}\" for x in os.listdir(mk_maps_path)]\n",
    "\n",
    "map_paths_sorted = pd.Series(map_icons).sort_values().reset_index(drop=True)\n",
    "\n",
    "map_names_sorted = (\n",
    "    pd.Series(\n",
    "        [\n",
    "            \"Wario Stadium\",\n",
    "            \"D.K.'s Jungle\",\n",
    "            \"Sherbet Land\",\n",
    "            \"Koopa Troopa Beach\",\n",
    "            \"Yoshi Valley\",\n",
    "            \"Banshee Boardwalk\",\n",
    "            \"Royal Raceway\",\n",
    "            \"Kalimari Desert\",\n",
    "            \"Bowser's Castle\",\n",
    "            \"Toad's Turnpike\",\n",
    "            \"Frappe Snowland\",\n",
    "            \"Choco Mountain\",\n",
    "            \"Mario Raceway\",\n",
    "            \"Moo Moo Farm\",\n",
    "            \"Luigi Raceway\",\n",
    "            \"Rainbow Road\",\n",
    "        ]\n",
    "    )\n",
    "    .sort_values()\n",
    "    .reset_index(drop=True)\n",
    ")\n",
    "\n",
    "maps_df = pd.DataFrame(\n",
    "    {\n",
    "        \"MAP\": map_names_sorted,\n",
    "        \"IMAGE_URL\": map_paths_sorted,\n",
    "    }\n",
    ")\n",
    "\n",
    "maps_df"
   ]
  },
  {
   "cell_type": "code",
   "execution_count": null,
   "metadata": {},
   "outputs": [],
   "source": [
    "maps_df.to_csv(\n",
    "    rf\"C:\\Users\\Cooper\\sandbox\\mkstream\\form_data_migration\\maps_valid.csv\",\n",
    "    index=False,\n",
    ")"
   ]
  },
  {
   "cell_type": "markdown",
   "metadata": {},
   "source": [
    "## Characters"
   ]
  },
  {
   "cell_type": "code",
   "execution_count": null,
   "metadata": {},
   "outputs": [],
   "source": [
    "migrated_data[\"CHARACTERS_1ST\"].unique()"
   ]
  },
  {
   "cell_type": "markdown",
   "metadata": {},
   "source": [
    "### Icons"
   ]
  },
  {
   "cell_type": "code",
   "execution_count": null,
   "metadata": {},
   "outputs": [],
   "source": [
    "# Ignore the `/characters/icons/MK64_icon_Q.png` question mark icon\n",
    "character_icons = [\n",
    "    rf\"/characters/icons/{x}\"\n",
    "    for x in os.listdir(rf\"{mk_characters_path}/icons\")\n",
    "    if not x.__contains__(\"Q\")\n",
    "]\n",
    "\n",
    "character_icons_paths_sorted = (\n",
    "    pd.Series(character_icons).sort_values().reset_index(drop=True)\n",
    ")\n",
    "\n",
    "character_icons_paths_sorted"
   ]
  },
  {
   "cell_type": "code",
   "execution_count": null,
   "metadata": {},
   "outputs": [],
   "source": [
    "character_portrait_won = [\n",
    "    rf\"/characters/portrait_won/{x}\"\n",
    "    for x in os.listdir(rf\"{mk_characters_path}/portrait_won\")\n",
    "    if not x.__contains__(\"Q\")\n",
    "]\n",
    "\n",
    "character_portrait_won_paths_sorted = (\n",
    "    pd.Series(character_portrait_won).sort_values().reset_index(drop=True)\n",
    ")\n",
    "\n",
    "character_portrait_won_paths_sorted"
   ]
  },
  {
   "cell_type": "code",
   "execution_count": null,
   "metadata": {},
   "outputs": [],
   "source": [
    "character_portrait_lost = [\n",
    "    rf\"/characters/portrait_lost/{x}\"\n",
    "    for x in os.listdir(rf\"{mk_characters_path}/portrait_lost\")\n",
    "    if not x.__contains__(\"Q\")\n",
    "]\n",
    "\n",
    "character_portrait_lost_paths_sorted = (\n",
    "    pd.Series(character_portrait_lost).sort_values().reset_index(drop=True)\n",
    ")\n",
    "\n",
    "character_portrait_lost_paths_sorted"
   ]
  },
  {
   "cell_type": "code",
   "execution_count": 20,
   "metadata": {},
   "outputs": [],
   "source": [
    "map_characters_sorted = (\n",
    "    pd.Series([\"Toad\", \"Mario\", \"Yoshi\", \"Peach\", \"Luigi\", \"Bowser\", \"D.K.\", \"Wario\"])\n",
    "    .sort_values()\n",
    "    .reset_index(drop=True)\n",
    ")"
   ]
  },
  {
   "cell_type": "code",
   "execution_count": null,
   "metadata": {},
   "outputs": [],
   "source": [
    "characters_df = pd.DataFrame(\n",
    "    {\n",
    "        \"CHARACTER\": map_characters_sorted,\n",
    "        \"IMAGE_URL_ICON\": character_icons_paths_sorted,\n",
    "        \"IMAGE_URL_PORTRAIT_WON\": character_portrait_won_paths_sorted,\n",
    "        \"IMAGE_URL_PORTRAIT_LOST\": character_portrait_lost_paths_sorted,\n",
    "    }\n",
    ")\n",
    "\n",
    "characters_df[\"TYPE\"] = \"\"\n",
    "\n",
    "characters_df[\"TYPE\"] = np.where(\n",
    "    characters_df[\"CHARACTER\"].isin([\"Bowser\", \"D.K.\", \"Wario\"]),\n",
    "    \"Heavy\",\n",
    "    characters_df[\"TYPE\"],\n",
    ")\n",
    "\n",
    "characters_df[\"TYPE\"] = np.where(\n",
    "    characters_df[\"CHARACTER\"].isin([\"Toad\", \"Yoshi\", \"Peach\"]),\n",
    "    \"Light\",\n",
    "    characters_df[\"TYPE\"],\n",
    ")\n",
    "\n",
    "characters_df[\"TYPE\"] = np.where(\n",
    "    characters_df[\"CHARACTER\"].isin([\"Mario\", \"Luigi\"]), \"Medium\", characters_df[\"TYPE\"]\n",
    ")\n",
    "\n",
    "characters_df"
   ]
  },
  {
   "cell_type": "code",
   "execution_count": 29,
   "metadata": {},
   "outputs": [],
   "source": [
    "characters_df.to_csv(\n",
    "    rf\"C:\\Users\\Cooper\\sandbox\\mkstream\\form_data_migration\\characters_valid.csv\",\n",
    "    index=False,\n",
    ")"
   ]
  },
  {
   "cell_type": "markdown",
   "metadata": {},
   "source": [
    "### Players"
   ]
  },
  {
   "cell_type": "code",
   "execution_count": 2,
   "metadata": {},
   "outputs": [
    {
     "data": {
      "text/plain": [
       "array(['Blake', 'Cooper', 'Matt', 'Cole', 'Regan', 'Luke', 'Konnor',\n",
       "       'Triston', 'Chandler', 'Mikey', 'Connor', 'Domingo', 'Anthony',\n",
       "       'Martin', 'Colton', 'Garrett', 'Robert', 'Antonio'], dtype=object)"
      ]
     },
     "execution_count": 2,
     "metadata": {},
     "output_type": "execute_result"
    }
   ],
   "source": [
    "migrated_data[\"PLAYERS_1ST\"].unique()"
   ]
  },
  {
   "cell_type": "code",
   "execution_count": 4,
   "metadata": {},
   "outputs": [
    {
     "data": {
      "text/plain": [
       "NAME\n",
       "Blake         5235\n",
       "Cooper        4980\n",
       "Cole          3386\n",
       "Regan         3280\n",
       "Connor        3128\n",
       "Matt          2421\n",
       "Triston       1060\n",
       "Domingo        927\n",
       "Luke           765\n",
       "Colton         745\n",
       "Garrett        730\n",
       "Konnor         668\n",
       "Jake           561\n",
       "Graber         481\n",
       "Robert         388\n",
       "Anthony        365\n",
       "Chandler       328\n",
       "Antonio        211\n",
       "Randy          139\n",
       "Sam            130\n",
       "Miller         111\n",
       "Ben             85\n",
       "Joey            64\n",
       "Hughes          59\n",
       "Caskey          53\n",
       "Andrew          45\n",
       "Martin          41\n",
       "Mikey           38\n",
       "Chloe           36\n",
       "Kayla           22\n",
       "Austin          18\n",
       "Coop W          16\n",
       "Kali            14\n",
       "Justin          13\n",
       "Duncan P        11\n",
       "Mitch            8\n",
       "RandyTwo         7\n",
       "Kieran           6\n",
       "Sudur            5\n",
       "RandyThree       3\n",
       "Billy            2\n",
       "Name: count, dtype: int64"
      ]
     },
     "execution_count": 4,
     "metadata": {},
     "output_type": "execute_result"
    }
   ],
   "source": [
    "# Load data_main from google sheet\n",
    "from mktools.get_data import load_data_pd\n",
    "\n",
    "\n",
    "data_main = load_data_pd(\n",
    "    sheet_name=\"data_main\",\n",
    "    sheet_id=os.environ[\"SHEET_ID\"],\n",
    "    usecols=[\n",
    "        \"UID\",\n",
    "        \"SUID\",\n",
    "        \"NAME\",\n",
    "        \"CHARACTER\",\n",
    "        \"MAP\",\n",
    "        \"PLACE\",\n",
    "        \"PLAYERS\",\n",
    "        \"DATE\",\n",
    "        \"SEASON\",\n",
    "    ],\n",
    ")\n",
    "\n",
    "data_main[\"NAME\"].astype(str).value_counts()"
   ]
  },
  {
   "cell_type": "code",
   "execution_count": 5,
   "metadata": {},
   "outputs": [
    {
     "data": {
      "text/plain": [
       "array(['Cole', 'Connor', 'Cooper', 'Triston', 'Blake', 'Matt', 'Jake',\n",
       "       'Joey', 'Regan', 'Chandler', 'Luke', 'Caskey', 'Duncan P',\n",
       "       'Graber', 'Anthony', 'Garrett', 'Konnor', 'Martin', 'Andrew',\n",
       "       'Miller', 'Kayla', 'Chloe', 'Ben', 'Sam', 'Robert', 'Colton',\n",
       "       'Mitch', 'Justin', 'Coop W', 'Randy', 'Domingo', 'Austin', 'Billy',\n",
       "       'Mikey', 'Hughes', 'Kieran', 'Kali', 'Antonio', 'RandyTwo',\n",
       "       'RandyThree', 'Sudur'], dtype=object)"
      ]
     },
     "execution_count": 5,
     "metadata": {},
     "output_type": "execute_result"
    }
   ],
   "source": [
    "data_main[\"NAME\"].unique()"
   ]
  },
  {
   "cell_type": "code",
   "execution_count": 9,
   "metadata": {},
   "outputs": [],
   "source": [
    "dm = data_main.copy()\n",
    "\n",
    "dm[\"NAME\"] = np.where(dm[\"NAME\"].str.contains(\"Randy\"), \"Randy\", dm[\"NAME\"])"
   ]
  },
  {
   "cell_type": "code",
   "execution_count": 21,
   "metadata": {},
   "outputs": [],
   "source": [
    "recent_sorted_names = (\n",
    "    dm[dm[\"SEASON\"].isin([15, 14, 13])][\"NAME\"]\n",
    "    .astype(str)\n",
    "    .str.strip()\n",
    "    .value_counts()\n",
    "    .reset_index()[\"NAME\"]\n",
    ")"
   ]
  },
  {
   "cell_type": "code",
   "execution_count": 22,
   "metadata": {},
   "outputs": [],
   "source": [
    "all_sorted_names = (\n",
    "    dm[\"NAME\"]\n",
    "    .astype(str)\n",
    "    .str.strip()\n",
    "    .value_counts()\n",
    "    .reset_index()[\"NAME\"]\n",
    ")"
   ]
  },
  {
   "cell_type": "code",
   "execution_count": 51,
   "metadata": {},
   "outputs": [],
   "source": [
    "missing_from_recent = set(all_sorted_names).symmetric_difference(set(recent_sorted_names))\n",
    "\n",
    "resorted_names = [*recent_sorted_names, *[x for x in missing_from_recent]]"
   ]
  },
  {
   "cell_type": "code",
   "execution_count": 52,
   "metadata": {},
   "outputs": [
    {
     "data": {
      "text/plain": [
       "['Cooper',\n",
       " 'Blake',\n",
       " 'Cole',\n",
       " 'Regan',\n",
       " 'Matt',\n",
       " 'Connor',\n",
       " 'Konnor',\n",
       " 'Garrett',\n",
       " 'Domingo',\n",
       " 'Colton',\n",
       " 'Luke',\n",
       " 'Antonio',\n",
       " 'Triston',\n",
       " 'Robert',\n",
       " 'Randy',\n",
       " 'Chandler',\n",
       " 'Sam',\n",
       " 'Hughes',\n",
       " 'Joey',\n",
       " 'Jake',\n",
       " 'Mikey',\n",
       " 'Martin',\n",
       " 'Kali',\n",
       " 'Sudur',\n",
       " 'Anthony',\n",
       " 'Kayla',\n",
       " 'Graber',\n",
       " 'Caskey',\n",
       " 'Justin',\n",
       " 'Kieran',\n",
       " 'Mitch',\n",
       " 'Ben',\n",
       " 'Billy',\n",
       " 'Coop W',\n",
       " 'Andrew',\n",
       " 'Duncan P',\n",
       " 'Austin',\n",
       " 'Miller',\n",
       " 'Chloe']"
      ]
     },
     "execution_count": 52,
     "metadata": {},
     "output_type": "execute_result"
    }
   ],
   "source": [
    "resorted_names"
   ]
  },
  {
   "cell_type": "code",
   "execution_count": 6,
   "metadata": {},
   "outputs": [
    {
     "data": {
      "text/html": [
       "<div>\n",
       "<style scoped>\n",
       "    .dataframe tbody tr th:only-of-type {\n",
       "        vertical-align: middle;\n",
       "    }\n",
       "\n",
       "    .dataframe tbody tr th {\n",
       "        vertical-align: top;\n",
       "    }\n",
       "\n",
       "    .dataframe thead th {\n",
       "        text-align: right;\n",
       "    }\n",
       "</style>\n",
       "<table border=\"1\" class=\"dataframe\">\n",
       "  <thead>\n",
       "    <tr style=\"text-align: right;\">\n",
       "      <th></th>\n",
       "      <th>NAME</th>\n",
       "      <th>count</th>\n",
       "    </tr>\n",
       "  </thead>\n",
       "  <tbody>\n",
       "    <tr>\n",
       "      <th>0</th>\n",
       "      <td>Blake</td>\n",
       "      <td>5235</td>\n",
       "    </tr>\n",
       "    <tr>\n",
       "      <th>1</th>\n",
       "      <td>Cooper</td>\n",
       "      <td>4980</td>\n",
       "    </tr>\n",
       "    <tr>\n",
       "      <th>2</th>\n",
       "      <td>Cole</td>\n",
       "      <td>3386</td>\n",
       "    </tr>\n",
       "    <tr>\n",
       "      <th>3</th>\n",
       "      <td>Regan</td>\n",
       "      <td>3280</td>\n",
       "    </tr>\n",
       "    <tr>\n",
       "      <th>4</th>\n",
       "      <td>Connor</td>\n",
       "      <td>3128</td>\n",
       "    </tr>\n",
       "    <tr>\n",
       "      <th>5</th>\n",
       "      <td>Matt</td>\n",
       "      <td>2421</td>\n",
       "    </tr>\n",
       "    <tr>\n",
       "      <th>6</th>\n",
       "      <td>Triston</td>\n",
       "      <td>1060</td>\n",
       "    </tr>\n",
       "    <tr>\n",
       "      <th>7</th>\n",
       "      <td>Domingo</td>\n",
       "      <td>927</td>\n",
       "    </tr>\n",
       "    <tr>\n",
       "      <th>8</th>\n",
       "      <td>Luke</td>\n",
       "      <td>765</td>\n",
       "    </tr>\n",
       "    <tr>\n",
       "      <th>9</th>\n",
       "      <td>Colton</td>\n",
       "      <td>745</td>\n",
       "    </tr>\n",
       "    <tr>\n",
       "      <th>10</th>\n",
       "      <td>Garrett</td>\n",
       "      <td>730</td>\n",
       "    </tr>\n",
       "    <tr>\n",
       "      <th>11</th>\n",
       "      <td>Konnor</td>\n",
       "      <td>668</td>\n",
       "    </tr>\n",
       "    <tr>\n",
       "      <th>12</th>\n",
       "      <td>Jake</td>\n",
       "      <td>561</td>\n",
       "    </tr>\n",
       "    <tr>\n",
       "      <th>13</th>\n",
       "      <td>Graber</td>\n",
       "      <td>481</td>\n",
       "    </tr>\n",
       "    <tr>\n",
       "      <th>14</th>\n",
       "      <td>Robert</td>\n",
       "      <td>388</td>\n",
       "    </tr>\n",
       "    <tr>\n",
       "      <th>15</th>\n",
       "      <td>Anthony</td>\n",
       "      <td>365</td>\n",
       "    </tr>\n",
       "    <tr>\n",
       "      <th>16</th>\n",
       "      <td>Chandler</td>\n",
       "      <td>328</td>\n",
       "    </tr>\n",
       "    <tr>\n",
       "      <th>17</th>\n",
       "      <td>Antonio</td>\n",
       "      <td>211</td>\n",
       "    </tr>\n",
       "    <tr>\n",
       "      <th>18</th>\n",
       "      <td>Randy</td>\n",
       "      <td>139</td>\n",
       "    </tr>\n",
       "    <tr>\n",
       "      <th>19</th>\n",
       "      <td>Sam</td>\n",
       "      <td>130</td>\n",
       "    </tr>\n",
       "    <tr>\n",
       "      <th>20</th>\n",
       "      <td>Miller</td>\n",
       "      <td>111</td>\n",
       "    </tr>\n",
       "    <tr>\n",
       "      <th>21</th>\n",
       "      <td>Ben</td>\n",
       "      <td>85</td>\n",
       "    </tr>\n",
       "    <tr>\n",
       "      <th>22</th>\n",
       "      <td>Joey</td>\n",
       "      <td>64</td>\n",
       "    </tr>\n",
       "    <tr>\n",
       "      <th>23</th>\n",
       "      <td>Hughes</td>\n",
       "      <td>59</td>\n",
       "    </tr>\n",
       "    <tr>\n",
       "      <th>24</th>\n",
       "      <td>Caskey</td>\n",
       "      <td>53</td>\n",
       "    </tr>\n",
       "    <tr>\n",
       "      <th>25</th>\n",
       "      <td>Andrew</td>\n",
       "      <td>45</td>\n",
       "    </tr>\n",
       "    <tr>\n",
       "      <th>26</th>\n",
       "      <td>Martin</td>\n",
       "      <td>41</td>\n",
       "    </tr>\n",
       "    <tr>\n",
       "      <th>27</th>\n",
       "      <td>Mikey</td>\n",
       "      <td>38</td>\n",
       "    </tr>\n",
       "    <tr>\n",
       "      <th>28</th>\n",
       "      <td>Chloe</td>\n",
       "      <td>36</td>\n",
       "    </tr>\n",
       "    <tr>\n",
       "      <th>29</th>\n",
       "      <td>Kayla</td>\n",
       "      <td>22</td>\n",
       "    </tr>\n",
       "    <tr>\n",
       "      <th>30</th>\n",
       "      <td>Austin</td>\n",
       "      <td>18</td>\n",
       "    </tr>\n",
       "    <tr>\n",
       "      <th>31</th>\n",
       "      <td>Coop W</td>\n",
       "      <td>16</td>\n",
       "    </tr>\n",
       "    <tr>\n",
       "      <th>32</th>\n",
       "      <td>Kali</td>\n",
       "      <td>14</td>\n",
       "    </tr>\n",
       "    <tr>\n",
       "      <th>33</th>\n",
       "      <td>Justin</td>\n",
       "      <td>13</td>\n",
       "    </tr>\n",
       "    <tr>\n",
       "      <th>34</th>\n",
       "      <td>Duncan P</td>\n",
       "      <td>11</td>\n",
       "    </tr>\n",
       "    <tr>\n",
       "      <th>35</th>\n",
       "      <td>Mitch</td>\n",
       "      <td>8</td>\n",
       "    </tr>\n",
       "    <tr>\n",
       "      <th>36</th>\n",
       "      <td>RandyTwo</td>\n",
       "      <td>7</td>\n",
       "    </tr>\n",
       "    <tr>\n",
       "      <th>37</th>\n",
       "      <td>Kieran</td>\n",
       "      <td>6</td>\n",
       "    </tr>\n",
       "    <tr>\n",
       "      <th>38</th>\n",
       "      <td>Sudur</td>\n",
       "      <td>5</td>\n",
       "    </tr>\n",
       "    <tr>\n",
       "      <th>39</th>\n",
       "      <td>RandyThree</td>\n",
       "      <td>3</td>\n",
       "    </tr>\n",
       "    <tr>\n",
       "      <th>40</th>\n",
       "      <td>Billy</td>\n",
       "      <td>2</td>\n",
       "    </tr>\n",
       "  </tbody>\n",
       "</table>\n",
       "</div>"
      ],
      "text/plain": [
       "          NAME  count\n",
       "0        Blake   5235\n",
       "1       Cooper   4980\n",
       "2         Cole   3386\n",
       "3        Regan   3280\n",
       "4       Connor   3128\n",
       "5         Matt   2421\n",
       "6      Triston   1060\n",
       "7      Domingo    927\n",
       "8         Luke    765\n",
       "9       Colton    745\n",
       "10     Garrett    730\n",
       "11      Konnor    668\n",
       "12        Jake    561\n",
       "13      Graber    481\n",
       "14      Robert    388\n",
       "15     Anthony    365\n",
       "16    Chandler    328\n",
       "17     Antonio    211\n",
       "18       Randy    139\n",
       "19         Sam    130\n",
       "20      Miller    111\n",
       "21         Ben     85\n",
       "22        Joey     64\n",
       "23      Hughes     59\n",
       "24      Caskey     53\n",
       "25      Andrew     45\n",
       "26      Martin     41\n",
       "27       Mikey     38\n",
       "28       Chloe     36\n",
       "29       Kayla     22\n",
       "30      Austin     18\n",
       "31      Coop W     16\n",
       "32        Kali     14\n",
       "33      Justin     13\n",
       "34    Duncan P     11\n",
       "35       Mitch      8\n",
       "36    RandyTwo      7\n",
       "37      Kieran      6\n",
       "38       Sudur      5\n",
       "39  RandyThree      3\n",
       "40       Billy      2"
      ]
     },
     "execution_count": 6,
     "metadata": {},
     "output_type": "execute_result"
    }
   ],
   "source": [
    "data_main[\"NAME\"].astype(str).value_counts().reset_index()"
   ]
  },
  {
   "cell_type": "code",
   "execution_count": 55,
   "metadata": {},
   "outputs": [
    {
     "data": {
      "text/plain": [
       "['Peach', 'Toad', 'Yoshi', 'Bowser', 'Luigi', 'Mario', 'Wario', 'D.K.']"
      ]
     },
     "execution_count": 55,
     "metadata": {},
     "output_type": "execute_result"
    }
   ],
   "source": [
    "data_main[\"CHARACTER\"].value_counts().reset_index()[\"CHARACTER\"].to_list()"
   ]
  },
  {
   "cell_type": "code",
   "execution_count": 56,
   "metadata": {},
   "outputs": [
    {
     "data": {
      "text/plain": [
       "['Wario Stadium',\n",
       " \"Toad's Turnpike\",\n",
       " 'Koopa Troopa Beach',\n",
       " 'Yoshi Valley',\n",
       " \"D.K.'s Jungle\",\n",
       " 'Sherbet Land',\n",
       " 'Royal Raceway',\n",
       " \"Bowser's Castle\",\n",
       " 'Kalimari Desert',\n",
       " 'Banshee Boardwalk',\n",
       " 'Frappe Snowland',\n",
       " 'Choco Mountain',\n",
       " 'Mario Raceway',\n",
       " 'Luigi Raceway',\n",
       " 'Moo Moo Farm']"
      ]
     },
     "execution_count": 56,
     "metadata": {},
     "output_type": "execute_result"
    }
   ],
   "source": [
    "data_main[\"MAP\"].value_counts().reset_index()[\"MAP\"].to_list()"
   ]
  },
  {
   "cell_type": "code",
   "execution_count": 57,
   "metadata": {},
   "outputs": [
    {
     "data": {
      "text/plain": [
       "{'Banshee Boardwalk',\n",
       " \"Bowser's Castle\",\n",
       " 'Choco Mountain',\n",
       " \"D.K.'s Jungle\",\n",
       " 'Frappe Snowland',\n",
       " 'Kalimari Desert',\n",
       " 'Koopa Troopa Beach',\n",
       " 'Luigi Raceway',\n",
       " 'Mario Raceway',\n",
       " 'Moo Moo Farm',\n",
       " 'Royal Raceway',\n",
       " 'Sherbet Land',\n",
       " \"Toad's Turnpike\",\n",
       " 'Wario Stadium',\n",
       " 'Yoshi Valley'}"
      ]
     },
     "execution_count": 57,
     "metadata": {},
     "output_type": "execute_result"
    }
   ],
   "source": [
    "set(['Wario Stadium',\n",
    " \"Toad's Turnpike\",\n",
    " 'Koopa Troopa Beach',\n",
    " 'Yoshi Valley',\n",
    " \"D.K.'s Jungle\",\n",
    " 'Sherbet Land',\n",
    " 'Royal Raceway',\n",
    " \"Bowser's Castle\",\n",
    " 'Kalimari Desert',\n",
    " 'Banshee Boardwalk',\n",
    " 'Frappe Snowland',\n",
    " 'Choco Mountain',\n",
    " 'Mario Raceway',\n",
    " 'Luigi Raceway',\n",
    " 'Moo Moo Farm'])"
   ]
  }
 ],
 "metadata": {
  "kernelspec": {
   "display_name": "bro",
   "language": "python",
   "name": "python3"
  },
  "language_info": {
   "codemirror_mode": {
    "name": "ipython",
    "version": 3
   },
   "file_extension": ".py",
   "mimetype": "text/x-python",
   "name": "python",
   "nbconvert_exporter": "python",
   "pygments_lexer": "ipython3",
   "version": "3.11.8"
  }
 },
 "nbformat": 4,
 "nbformat_minor": 2
}
