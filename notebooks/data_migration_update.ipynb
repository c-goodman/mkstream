{
 "cells": [
  {
   "cell_type": "code",
   "execution_count": null,
   "metadata": {},
   "outputs": [],
   "source": [
    "import os\n",
    "import numpy as np\n",
    "import pandas as pd\n",
    "from dotenv import load_dotenv\n",
    "from multielo import MultiElo, Tracker\n",
    "from mktools.get_data import load_data_pd\n",
    "from mktools.validate_data import validate_bad_uids\n",
    "from mktools.form_data import fill_new_session\n",
    "import plotly.express as px\n",
    "from alive_progress import alive_it\n",
    "from bs4 import BeautifulSoup\n",
    "from typing import Literal\n",
    "\n",
    "# Load Variables from .env file\n",
    "load_dotenv()"
   ]
  },
  {
   "cell_type": "markdown",
   "metadata": {},
   "source": [
    "## Data Main"
   ]
  },
  {
   "cell_type": "code",
   "execution_count": 18,
   "metadata": {},
   "outputs": [],
   "source": [
    "FIRST_FORM_DATA_DATE = pd.Timestamp('2024-07-17 19:15:48').tz_localize(\"US/Eastern\").tz_convert(\"UTC\")"
   ]
  },
  {
   "cell_type": "code",
   "execution_count": null,
   "metadata": {},
   "outputs": [],
   "source": [
    "FIRST_FORM_DATA_DATE"
   ]
  },
  {
   "cell_type": "code",
   "execution_count": null,
   "metadata": {},
   "outputs": [],
   "source": [
    "LAST_FORM_DATA_DATE = pd.Timestamp('1/27/2025 23:40:20').tz_localize(\"US/Eastern\").tz_convert(\"UTC\")\n",
    "\n",
    "LAST_FORM_DATA_DATE"
   ]
  },
  {
   "cell_type": "code",
   "execution_count": null,
   "metadata": {},
   "outputs": [],
   "source": [
    "# Load data_main from google sheet\n",
    "df = load_data_pd(\n",
    "    sheet_name=\"data_main\",\n",
    "    sheet_id=os.environ[\"SHEET_ID\"],\n",
    "    usecols=[\n",
    "        \"UID\",\n",
    "        \"SUID\",\n",
    "        \"NAME\",\n",
    "        \"CHARACTER\",\n",
    "        \"MAP\",\n",
    "        \"PLACE\",\n",
    "        \"PLAYERS\",\n",
    "        \"DATE\",\n",
    "        \"SEASON\",\n",
    "    ],\n",
    ")\n",
    "\n",
    "df[\"DATE\"] = (\n",
    "    pd.to_datetime(df[\"DATE\"]).dt.tz_localize(\"US/Eastern\").dt.tz_convert(\"UTC\")\n",
    ")\n",
    "\n",
    "df_filtered = (\n",
    "    df[(df[\"DATE\"] < FIRST_FORM_DATA_DATE) & (df[\"SEASON\"] >= 11)]\n",
    "    .copy()\n",
    "    .reset_index(drop=True)\n",
    ")\n",
    "\n",
    "df_filtered[\"DATE\"] = df_filtered[\"DATE\"] + pd.Timedelta(hours=8)\n",
    "\n",
    "assert all(df_filtered[\"DATE\"].dt.time == pd.to_datetime(\"12:00:00\").time())\n",
    "\n",
    "assert (\n",
    "    df_filtered[[\"SUID\", \"DATE\"]]\n",
    "    .value_counts()\n",
    "    .reset_index()\n",
    "    .sort_values(by=\"SUID\")[\"SUID\"]\n",
    "    .is_unique\n",
    ")\n",
    "\n",
    "df_filtered"
   ]
  },
  {
   "cell_type": "code",
   "execution_count": null,
   "metadata": {},
   "outputs": [],
   "source": [
    "df_filtered.groupby([\"SEASON\"]).agg(count=pd.NamedAgg(\"UID\", \"nunique\")).reset_index()"
   ]
  },
  {
   "cell_type": "code",
   "execution_count": 22,
   "metadata": {},
   "outputs": [],
   "source": [
    "# Find UIDs that will break ELO calculation\n",
    "invalid, valid = validate_bad_uids(df=df_filtered, return_valid=True)"
   ]
  },
  {
   "cell_type": "code",
   "execution_count": null,
   "metadata": {},
   "outputs": [],
   "source": [
    "invalid"
   ]
  },
  {
   "cell_type": "code",
   "execution_count": 24,
   "metadata": {},
   "outputs": [],
   "source": [
    "vdf = valid.copy()\n",
    "\n",
    "for uid in vdf[\"UID\"].unique():\n",
    "    tdf = vdf[vdf[\"UID\"] == uid].copy().reset_index(drop=True)\n",
    "\n",
    "    character_cond = tdf[\"CHARACTER\"].unique().shape[0] != tdf[\"PLAYERS\"].max()\n",
    "\n",
    "bad_dfs = []\n",
    "\n",
    "for uid in vdf[\"UID\"].unique():\n",
    "    tdf = vdf[vdf[\"UID\"] == uid].copy().reset_index(drop=True)\n",
    "\n",
    "    name_cond = tdf[\"NAME\"].unique().shape[0] != tdf[\"PLAYERS\"].max()\n",
    "    place_cond = tdf[\"PLACE\"].unique().shape[0] != tdf[\"PLAYERS\"].max()\n",
    "    character_cond = tdf[\"CHARACTER\"].unique().shape[0] != tdf[\"PLAYERS\"].max()\n",
    "\n",
    "    if name_cond & place_cond & character_cond:\n",
    "        print(\"bad name, place and character\")\n",
    "        tdf[\"REASON\"] = \"name_place_character\"\n",
    "        bad_dfs.append(tdf)\n",
    "\n",
    "    elif name_cond & place_cond & ~character_cond:\n",
    "        print(\"bad name and place\")\n",
    "        tdf[\"REASON\"] = \"name_place\"\n",
    "        bad_dfs.append(tdf)\n",
    "\n",
    "    elif name_cond & ~place_cond & character_cond:\n",
    "        print(\"bad name and character\")\n",
    "        tdf[\"REASON\"] = \"name_character\"\n",
    "        bad_dfs.append(tdf)\n",
    "\n",
    "    elif ~name_cond & place_cond & character_cond:\n",
    "        print(\"bad place and character\")\n",
    "        tdf[\"REASON\"] = \"place_character\"\n",
    "        bad_dfs.append(tdf)\n",
    "\n",
    "    elif name_cond:\n",
    "        print(\"bad name\")\n",
    "        tdf[\"REASON\"] = \"name\"\n",
    "        bad_dfs.append(tdf)\n",
    "\n",
    "    elif place_cond:\n",
    "        print(\"bad place\")\n",
    "        tdf[\"REASON\"] = \"place\"\n",
    "        bad_dfs.append(tdf)\n",
    "\n",
    "    elif character_cond:\n",
    "        print(\"bad character\")\n",
    "        tdf[\"REASON\"] = \"character\"\n",
    "        bad_dfs.append(tdf)\n",
    "\n",
    "# bad_name_data = pd.concat(bad_dfs).reset_index(drop=True)"
   ]
  },
  {
   "cell_type": "code",
   "execution_count": 25,
   "metadata": {},
   "outputs": [],
   "source": [
    "vdf = valid.copy()"
   ]
  },
  {
   "cell_type": "code",
   "execution_count": null,
   "metadata": {},
   "outputs": [],
   "source": [
    "vdf_pivot = vdf.pivot(\n",
    "    index=[\"SEASON\", \"SUID\", \"UID\", \"PLAYERS\", \"MAP\", \"DATE\"],\n",
    "    columns=[\n",
    "        \"PLACE\",\n",
    "    ],\n",
    "    values=[\"NAME\", \"CHARACTER\"],\n",
    ").reset_index()\n",
    "\n",
    "# Create index of tuples for flat columns index\n",
    "vdf_pivot.columns = vdf_pivot.columns.to_flat_index()\n",
    "# Join tuple items together to make flat columns\n",
    "vdf_pivot.columns = [f\"{x[0]}{x[1]}\" for x in vdf_pivot.columns]\n",
    "\n",
    "vdf_pivot.head()"
   ]
  },
  {
   "cell_type": "code",
   "execution_count": null,
   "metadata": {},
   "outputs": [],
   "source": [
    "# Rename pivoted columns\n",
    "vdf_rename = vdf_pivot.drop(columns=[\"UID\"]).rename(\n",
    "    columns={\n",
    "        \"DATE\": \"TIMESTAMP\",\n",
    "        \"NAME1\": \"PLAYERS_1ST\",\n",
    "        \"NAME2\": \"PLAYERS_2ND\",\n",
    "        \"NAME3\": \"PLAYERS_3RD\",\n",
    "        \"NAME4\": \"PLAYERS_4TH\",\n",
    "        \"CHARACTER1\": \"CHARACTERS_1ST\",\n",
    "        \"CHARACTER2\": \"CHARACTERS_2ND\",\n",
    "        \"CHARACTER3\": \"CHARACTERS_3RD\",\n",
    "        \"CHARACTER4\": \"CHARACTERS_4TH\",\n",
    "    }\n",
    ")\n",
    "\n",
    "# Add new session dummy column\n",
    "vdf_rename[\"NEW_SESSION\"] = \"NO\"\n",
    "\n",
    "tdf = vdf_rename.reset_index().copy()\n",
    "\n",
    "df_holder = []\n",
    "\n",
    "for suid in tdf[\"SUID\"].unique():\n",
    "\n",
    "    temp_df = tdf[tdf[\"SUID\"] == suid].copy().reset_index(drop=True)\n",
    "\n",
    "    first_session_timestamp = temp_df[\"TIMESTAMP\"][0]\n",
    "\n",
    "    temp_df[\"INCREMENT\"] = 5\n",
    "\n",
    "    temp_df[\"INCREMENT\"] = temp_df[\"INCREMENT\"].shift(fill_value=0).cumsum()\n",
    "\n",
    "    for idx, time in enumerate(temp_df[\"TIMESTAMP\"]):\n",
    "        temp_df.loc[idx, \"TIMESTAMP\"] = first_session_timestamp + pd.Timedelta(\n",
    "            minutes=temp_df[\"INCREMENT\"][idx]\n",
    "        )\n",
    "\n",
    "    df_holder.append(temp_df)\n",
    "\n",
    "tdf_concat = pd.concat(df_holder).reset_index(drop=True)\n",
    "\n",
    "tdf_sort = tdf_concat[\n",
    "    [\n",
    "        \"TIMESTAMP\",\n",
    "        \"NEW_SESSION\",\n",
    "        \"MAP\",\n",
    "        \"PLAYERS\",\n",
    "        \"PLAYERS_1ST\",\n",
    "        \"PLAYERS_2ND\",\n",
    "        \"PLAYERS_3RD\",\n",
    "        \"PLAYERS_4TH\",\n",
    "        \"CHARACTERS_1ST\",\n",
    "        \"CHARACTERS_2ND\",\n",
    "        \"CHARACTERS_3RD\",\n",
    "        \"CHARACTERS_4TH\",\n",
    "    ]\n",
    "].copy()\n",
    "\n",
    "tdf_sort"
   ]
  },
  {
   "cell_type": "markdown",
   "metadata": {},
   "source": [
    "## Form Data"
   ]
  },
  {
   "cell_type": "code",
   "execution_count": 28,
   "metadata": {},
   "outputs": [],
   "source": [
    "form_df = load_data_pd(sheet_name=\"form_data\", sheet_id=os.environ[\"SHEET_ID\"])\n",
    "\n",
    "form_df = form_df.drop(\n",
    "    columns=[\n",
    "        x\n",
    "        for x in form_df.columns\n",
    "        if x.__contains__(\"Unnamed\") or x.__contains__(\"Score\")\n",
    "    ]\n",
    ")\n",
    "\n",
    "form_df[\"Timestamp\"] = pd.to_datetime(form_df[\"Timestamp\"])\n",
    "\n",
    "form_df.columns = [\n",
    "    x.replace(\" \", \"_\").replace(\"[\", \"\").replace(\"]\", \"\") if x.__contains__(\"[\") else x\n",
    "    for x in form_df.columns\n",
    "]"
   ]
  },
  {
   "cell_type": "code",
   "execution_count": null,
   "metadata": {},
   "outputs": [],
   "source": [
    "def transform_form_data(\n",
    "    df: pd.DataFrame, game_type_replace_string: Literal[\"_2_\", \"_3_\", \"_4_\"]\n",
    ") -> pd.DataFrame:\n",
    "\n",
    "    idf = df.copy()\n",
    "\n",
    "    idf_out = (\n",
    "        idf.dropna(axis=1, how=\"all\")\n",
    "        .reset_index(drop=True)\n",
    "        .reset_index()\n",
    "        .rename(columns={\"index\": \"ID\"})\n",
    "    )\n",
    "\n",
    "    idf_out.columns = [\n",
    "        (\n",
    "            x.replace(game_type_replace_string, \"_\")\n",
    "            if x.__contains__(game_type_replace_string)\n",
    "            else x.upper()\n",
    "        )\n",
    "        for x in idf_out.columns\n",
    "    ]\n",
    "\n",
    "    idf_out[\"TIMESTAMP\"] = (\n",
    "        pd.to_datetime(idf_out[\"TIMESTAMP\"])\n",
    "        .dt.tz_localize(\"US/Eastern\")\n",
    "        .dt.tz_convert(\"UTC\")\n",
    "    )\n",
    "\n",
    "    idf_out[\"ID\"] = idf_out[\"ID\"] + 1\n",
    "\n",
    "    return idf_out\n",
    "\n",
    "\n",
    "dfs = []\n",
    "\n",
    "for game_type in [2, 3, 4]:\n",
    "    tdf = form_df[form_df[\"PLAYERS\"] == game_type].copy().reset_index(drop=True)\n",
    "\n",
    "    dfs.append(tdf)\n",
    "\n",
    "two_p = dfs[0]\n",
    "three_p = dfs[1]\n",
    "four_p = dfs[2]\n",
    "\n",
    "two_p_out = transform_form_data(df=two_p, game_type_replace_string=\"_2_\")\n",
    "three_p_out = transform_form_data(df=three_p, game_type_replace_string=\"_3_\")\n",
    "four_p_out = transform_form_data(df=four_p, game_type_replace_string=\"_4_\")\n",
    "\n",
    "cat_df = (\n",
    "    pd.concat([two_p_out, three_p_out, four_p_out])\n",
    "    .sort_values(by=\"TIMESTAMP\")\n",
    "    .drop(columns=[\"ID\"])\n",
    "    .reset_index(drop=True)\n",
    "    .reset_index()\n",
    "    .rename(columns={\"index\": \"ID\"})\n",
    ")[\n",
    "    [\n",
    "        \"ID\",\n",
    "        \"TIMESTAMP\",\n",
    "        \"NEW_SESSION\",\n",
    "        \"MAP\",\n",
    "        \"PLAYERS\",\n",
    "        \"PLAYERS_1ST\",\n",
    "        \"PLAYERS_2ND\",\n",
    "        \"PLAYERS_3RD\",\n",
    "        \"PLAYERS_4TH\",\n",
    "        \"CHARACTERS_1ST\",\n",
    "        \"CHARACTERS_2ND\",\n",
    "        \"CHARACTERS_3RD\",\n",
    "        \"CHARACTERS_4TH\",\n",
    "    ]\n",
    "]\n",
    "\n",
    "cat_df[\"ID\"] = cat_df[\"ID\"] + 1\n",
    "\n",
    "cat_df"
   ]
  },
  {
   "cell_type": "markdown",
   "metadata": {},
   "source": [
    "## Combine"
   ]
  },
  {
   "cell_type": "code",
   "execution_count": null,
   "metadata": {},
   "outputs": [],
   "source": [
    "season_gb = (\n",
    "    df.groupby([\"DATE\"])[[\"SEASON\"]]\n",
    "    .first()\n",
    "    .reset_index()\n",
    "    .rename(columns={\"DATE\": \"TIMESTAMP\"})\n",
    ")\n",
    "\n",
    "season_gb.tail()"
   ]
  },
  {
   "cell_type": "code",
   "execution_count": null,
   "metadata": {},
   "outputs": [],
   "source": [
    "form_data_initial = cat_df.drop(columns=[\"ID\"]).copy()\n",
    "\n",
    "form_data_ready = pd.merge(\n",
    "    form_data_initial, season_gb, on=\"TIMESTAMP\", how=\"inner\", validate=\"1:1\"\n",
    ")\n",
    "\n",
    "# Double check that no records were dropped in the merge\n",
    "assert form_data_ready.shape[0] == form_data_initial.shape[0]\n",
    "\n",
    "form_data_ready.head()"
   ]
  },
  {
   "cell_type": "code",
   "execution_count": null,
   "metadata": {},
   "outputs": [],
   "source": [
    "data_main_ready = tdf_sort.copy()\n",
    "\n",
    "data_main_ready[\"SEASON\"] = 11\n",
    "\n",
    "data_main_ready.tail()"
   ]
  },
  {
   "cell_type": "code",
   "execution_count": null,
   "metadata": {},
   "outputs": [],
   "source": [
    "data_concat = (\n",
    "    pd.concat([data_main_ready, form_data_ready])\n",
    "    .sort_values(by=\"TIMESTAMP\")\n",
    "    .reset_index(drop=True)\n",
    ")\n",
    "\n",
    "data_concat"
   ]
  },
  {
   "cell_type": "code",
   "execution_count": null,
   "metadata": {},
   "outputs": [],
   "source": [
    "data_concat[\"SEASON\"].value_counts()"
   ]
  },
  {
   "cell_type": "code",
   "execution_count": null,
   "metadata": {},
   "outputs": [],
   "source": [
    "data_concat[\"TIMESTAMP\"].is_unique"
   ]
  },
  {
   "cell_type": "code",
   "execution_count": null,
   "metadata": {},
   "outputs": [],
   "source": [
    "data_concat[\"TIMESTAMP\"].is_monotonic_increasing"
   ]
  },
  {
   "cell_type": "code",
   "execution_count": null,
   "metadata": {},
   "outputs": [],
   "source": [
    "data_concat[\"TIMESTAMP\"].is_monotonic_decreasing"
   ]
  },
  {
   "cell_type": "code",
   "execution_count": null,
   "metadata": {},
   "outputs": [],
   "source": [
    "data_concat_filled = fill_new_session(\n",
    "    df=data_concat, timestamp_column_name=\"TIMESTAMP\", drop_window_start_column=True\n",
    ")\n",
    "\n",
    "# Convert back to EST for Postgres\n",
    "data_concat_filled[\"TIMESTAMP\"] = data_concat_filled[\"TIMESTAMP\"].dt.tz_convert(\n",
    "    \"US/Eastern\"\n",
    ")\n",
    "\n",
    "data_concat_filled"
   ]
  },
  {
   "cell_type": "code",
   "execution_count": null,
   "metadata": {},
   "outputs": [],
   "source": [
    "data_concat_filled[[\"SEASON\", \"NEW_SESSION\"]].value_counts()"
   ]
  },
  {
   "cell_type": "code",
   "execution_count": null,
   "metadata": {},
   "outputs": [],
   "source": [
    "data_concat_filled[\"TIMESTAMP\"]"
   ]
  },
  {
   "cell_type": "code",
   "execution_count": 50,
   "metadata": {},
   "outputs": [],
   "source": [
    "new_session_df = data_concat_filled.copy()\n",
    "\n",
    "new_session_df[\"temp_session\"] = np.where(new_session_df[\"NEW_SESSION\"] == \"YES\", 1, 0)\n",
    "\n",
    "new_session_df[\"SUID\"] = new_session_df[\"temp_session\"].cumsum()"
   ]
  },
  {
   "cell_type": "code",
   "execution_count": null,
   "metadata": {},
   "outputs": [],
   "source": [
    "new_session_df.columns"
   ]
  },
  {
   "cell_type": "code",
   "execution_count": 55,
   "metadata": {},
   "outputs": [],
   "source": [
    "out_df = new_session_df[\n",
    "    [\n",
    "        \"TIMESTAMP\",\n",
    "        \"NEW_SESSION\",\n",
    "        \"SUID\",\n",
    "        \"MAP\",\n",
    "        \"PLAYERS\",\n",
    "        \"PLAYERS_1ST\",\n",
    "        \"PLAYERS_2ND\",\n",
    "        \"PLAYERS_3RD\",\n",
    "        \"PLAYERS_4TH\",\n",
    "        \"CHARACTERS_1ST\",\n",
    "        \"CHARACTERS_2ND\",\n",
    "        \"CHARACTERS_3RD\",\n",
    "        \"CHARACTERS_4TH\",\n",
    "        \"SEASON\",\n",
    "    ]\n",
    "].copy()"
   ]
  },
  {
   "cell_type": "code",
   "execution_count": 56,
   "metadata": {},
   "outputs": [],
   "source": [
    "out_df.to_csv(\n",
    "    rf\"C:\\Users\\Cooper\\sandbox\\mkstream\\form_data_migration\\form_data_valid.csv\",\n",
    "    index=False,\n",
    ")"
   ]
  },
  {
   "cell_type": "markdown",
   "metadata": {},
   "source": [
    "## images"
   ]
  },
  {
   "cell_type": "code",
   "execution_count": 60,
   "metadata": {},
   "outputs": [],
   "source": [
    "import os\n",
    "\n",
    "map_icons = [f\"/maps/{x}\" for x in os.listdir(rf\"\\\\wsl$\\Ubuntu\\root\\learn\\mk\\public\\maps\")]"
   ]
  },
  {
   "cell_type": "code",
   "execution_count": null,
   "metadata": {},
   "outputs": [],
   "source": [
    "pd.Series(out_df[\"MAP\"].unique()).to_list()"
   ]
  },
  {
   "cell_type": "code",
   "execution_count": null,
   "metadata": {},
   "outputs": [],
   "source": [
    "map_names_sorted = (\n",
    "    pd.Series(\n",
    "        [\n",
    "            \"Wario Stadium\",\n",
    "            \"D.K.'s Jungle\",\n",
    "            \"Sherbet Land\",\n",
    "            \"Koopa Troopa Beach\",\n",
    "            \"Yoshi Valley\",\n",
    "            \"Banshee Boardwalk\",\n",
    "            \"Royal Raceway\",\n",
    "            \"Kalimari Desert\",\n",
    "            \"Bowser's Castle\",\n",
    "            \"Toad's Turnpike\",\n",
    "            \"Frappe Snowland\",\n",
    "            \"Choco Mountain\",\n",
    "            \"Mario Raceway\",\n",
    "            \"Moo Moo Farm\",\n",
    "            \"Luigi Raceway\",\n",
    "            \"Rainbow Road\",\n",
    "        ]\n",
    "    )\n",
    "    .sort_values()\n",
    "    .reset_index(drop=True)\n",
    ")"
   ]
  },
  {
   "cell_type": "code",
   "execution_count": null,
   "metadata": {},
   "outputs": [],
   "source": [
    "map_paths_sorted = pd.Series(map_icons).sort_values().reset_index(drop=True)"
   ]
  },
  {
   "cell_type": "code",
   "execution_count": null,
   "metadata": {},
   "outputs": [],
   "source": [
    "maps_df = pd.DataFrame(\n",
    "    {\n",
    "        \"MAP\": map_names_sorted,\n",
    "        \"IMAGE_URL\": map_paths_sorted,\n",
    "    }\n",
    ")\n",
    "\n",
    "maps_df"
   ]
  },
  {
   "cell_type": "code",
   "execution_count": null,
   "metadata": {},
   "outputs": [],
   "source": [
    "maps_df.to_csv(\n",
    "    rf\"C:\\Users\\Cooper\\sandbox\\mkstream\\form_data_migration\\maps_valid.csv\",\n",
    "    index=False,\n",
    ")"
   ]
  }
 ],
 "metadata": {
  "kernelspec": {
   "display_name": "bro",
   "language": "python",
   "name": "python3"
  },
  "language_info": {
   "codemirror_mode": {
    "name": "ipython",
    "version": 3
   },
   "file_extension": ".py",
   "mimetype": "text/x-python",
   "name": "python",
   "nbconvert_exporter": "python",
   "pygments_lexer": "ipython3",
   "version": "3.11.8"
  }
 },
 "nbformat": 4,
 "nbformat_minor": 2
}
