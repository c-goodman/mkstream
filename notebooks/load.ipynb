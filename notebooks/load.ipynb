{
 "cells": [
  {
   "cell_type": "code",
   "execution_count": 1,
   "metadata": {},
   "outputs": [
    {
     "data": {
      "text/plain": [
       "True"
      ]
     },
     "execution_count": 1,
     "metadata": {},
     "output_type": "execute_result"
    }
   ],
   "source": [
    "import os\n",
    "import numpy as np\n",
    "import polars as pl\n",
    "import pandas as pd\n",
    "from plotly import express as px\n",
    "from datetime import datetime\n",
    "from dotenv import load_dotenv\n",
    "\n",
    "load_dotenv()"
   ]
  },
  {
   "cell_type": "code",
   "execution_count": 3,
   "metadata": {},
   "outputs": [],
   "source": [
    "def load_data(sheet_name: str, sheet_id: str) -> pl.DataFrame:\n",
    "    \"\"\"Load specified sheet from Google Drive.\n",
    "\n",
    "    Args:\n",
    "        sheet_name (str): Name of the table to be loaded\n",
    "        sheet_id (str): Google Drive Sheets ID Unique value stored in `.env` file.\n",
    "        Environment variable is accessible with `dotenv.load_dotenv()` and `os.environ[\"<YOUR_SHEET_ID>\"]`.\n",
    "\n",
    "    Returns:\n",
    "        pl.DataFrame: Polars DataFrame loaded from the specified Google Drive sheet.\n",
    "    \"\"\"\n",
    "\n",
    "    # Construct the Google Drive URL using `sheet_id` and `sheet_name`\n",
    "    url = f\"https://docs.google.com/spreadsheets/d/{sheet_id}/gviz/tq?tqx=out:csv&sheet={sheet_name}\"\n",
    "\n",
    "    # Load the data from the URL as a Polars DataFrame\n",
    "    # Fill Null values with `np.nan`\n",
    "    df = pl.read_csv(\n",
    "        url,\n",
    "        columns=[\"UID\", \"SUID\", \"NAME\", \"CHARACTER\", \"MAP\", \"PLACE\", \"PLAYERS\", \"DATE\"],\n",
    "    ).fill_nan(np.nan)\n",
    "\n",
    "    return df\n",
    "\n",
    "\n",
    "def load_data_pd(sheet_name: str, sheet_id: str) -> pd.DataFrame:\n",
    "    \"\"\"Load specified sheet from Google Drive.\n",
    "\n",
    "    Args:\n",
    "        sheet_name (str): Name of the table to be loaded\n",
    "        sheet_id (str): Google Drive Sheets ID Unique value stored in `.env` file.\n",
    "        Environment variable is accessible with `dotenv.load_dotenv()` and `os.environ[\"<YOUR_SHEET_ID>\"]`.\n",
    "\n",
    "    Returns:\n",
    "        pd.DataFrame: Pandas DataFrame loaded from the specified Google Drive sheet.\n",
    "    \"\"\"\n",
    "\n",
    "    # Construct the Google Drive URL using `sheet_id` and `sheet_name`\n",
    "    url = f\"https://docs.google.com/spreadsheets/d/{sheet_id}/gviz/tq?tqx=out:csv&sheet={sheet_name}\"\n",
    "\n",
    "    # Load the data from the URL as a Polars DataFrame\n",
    "    # Fill Null values with `np.nan`\n",
    "    df = pd.read_csv(\n",
    "        url,\n",
    "        usecols=[\n",
    "            \"UID\",\n",
    "            \"SUID\",\n",
    "            \"NAME\",\n",
    "            \"CHARACTER\",\n",
    "            \"MAP\",\n",
    "            \"PLACE\",\n",
    "            \"PLAYERS\",\n",
    "            \"DATE\",\n",
    "            \"SEASON\",\n",
    "        ],\n",
    "    ).fillna(np.nan)\n",
    "\n",
    "    return df"
   ]
  },
  {
   "cell_type": "code",
   "execution_count": 4,
   "metadata": {},
   "outputs": [],
   "source": [
    "# %%timeit\n",
    "panda_df = load_data_pd(sheet_name=\"data\", sheet_id=os.environ[\"SHEET_ID\"])"
   ]
  },
  {
   "cell_type": "code",
   "execution_count": 20,
   "metadata": {},
   "outputs": [
    {
     "data": {
      "text/plain": [
       "[10, 9, 8, 7, 6, 5, 4, 3, 2, 1, 0]"
      ]
     },
     "execution_count": 20,
     "metadata": {},
     "output_type": "execute_result"
    }
   ],
   "source": [
    "unique_seasons = (\n",
    "    pd.Series(panda_df[\"SEASON\"].unique()).sort_values(ascending=False).values.tolist()\n",
    ")\n",
    "\n",
    "unique_seasons"
   ]
  },
  {
   "cell_type": "code",
   "execution_count": 16,
   "metadata": {},
   "outputs": [
    {
     "data": {
      "text/html": [
       "<div>\n",
       "<style scoped>\n",
       "    .dataframe tbody tr th:only-of-type {\n",
       "        vertical-align: middle;\n",
       "    }\n",
       "\n",
       "    .dataframe tbody tr th {\n",
       "        vertical-align: top;\n",
       "    }\n",
       "\n",
       "    .dataframe thead th {\n",
       "        text-align: right;\n",
       "    }\n",
       "</style>\n",
       "<table border=\"1\" class=\"dataframe\">\n",
       "  <thead>\n",
       "    <tr style=\"text-align: right;\">\n",
       "      <th></th>\n",
       "      <th>PLACE</th>\n",
       "      <th>GAMES_PLAYED</th>\n",
       "    </tr>\n",
       "    <tr>\n",
       "      <th>NAME</th>\n",
       "      <th></th>\n",
       "      <th></th>\n",
       "    </tr>\n",
       "  </thead>\n",
       "  <tbody>\n",
       "    <tr>\n",
       "      <th>Blake</th>\n",
       "      <td>2.386364</td>\n",
       "      <td>44</td>\n",
       "    </tr>\n",
       "    <tr>\n",
       "      <th>Cole</th>\n",
       "      <td>2.272727</td>\n",
       "      <td>22</td>\n",
       "    </tr>\n",
       "    <tr>\n",
       "      <th>Connor</th>\n",
       "      <td>2.444444</td>\n",
       "      <td>27</td>\n",
       "    </tr>\n",
       "    <tr>\n",
       "      <th>Cooper</th>\n",
       "      <td>1.734940</td>\n",
       "      <td>83</td>\n",
       "    </tr>\n",
       "    <tr>\n",
       "      <th>Domingo</th>\n",
       "      <td>3.419355</td>\n",
       "      <td>31</td>\n",
       "    </tr>\n",
       "    <tr>\n",
       "      <th>Garrett</th>\n",
       "      <td>3.666667</td>\n",
       "      <td>9</td>\n",
       "    </tr>\n",
       "    <tr>\n",
       "      <th>Kieran</th>\n",
       "      <td>4.000000</td>\n",
       "      <td>2</td>\n",
       "    </tr>\n",
       "    <tr>\n",
       "      <th>Konnor</th>\n",
       "      <td>3.600000</td>\n",
       "      <td>5</td>\n",
       "    </tr>\n",
       "    <tr>\n",
       "      <th>Luke</th>\n",
       "      <td>2.500000</td>\n",
       "      <td>2</td>\n",
       "    </tr>\n",
       "    <tr>\n",
       "      <th>Matt</th>\n",
       "      <td>2.333333</td>\n",
       "      <td>27</td>\n",
       "    </tr>\n",
       "    <tr>\n",
       "      <th>Mikey</th>\n",
       "      <td>3.333333</td>\n",
       "      <td>3</td>\n",
       "    </tr>\n",
       "    <tr>\n",
       "      <th>Randy</th>\n",
       "      <td>3.833333</td>\n",
       "      <td>6</td>\n",
       "    </tr>\n",
       "    <tr>\n",
       "      <th>Regan</th>\n",
       "      <td>1.894737</td>\n",
       "      <td>38</td>\n",
       "    </tr>\n",
       "    <tr>\n",
       "      <th>Robert</th>\n",
       "      <td>3.000000</td>\n",
       "      <td>2</td>\n",
       "    </tr>\n",
       "    <tr>\n",
       "      <th>Sam</th>\n",
       "      <td>2.750000</td>\n",
       "      <td>4</td>\n",
       "    </tr>\n",
       "    <tr>\n",
       "      <th>Triston</th>\n",
       "      <td>3.875000</td>\n",
       "      <td>8</td>\n",
       "    </tr>\n",
       "  </tbody>\n",
       "</table>\n",
       "</div>"
      ],
      "text/plain": [
       "            PLACE  GAMES_PLAYED\n",
       "NAME                           \n",
       "Blake    2.386364            44\n",
       "Cole     2.272727            22\n",
       "Connor   2.444444            27\n",
       "Cooper   1.734940            83\n",
       "Domingo  3.419355            31\n",
       "Garrett  3.666667             9\n",
       "Kieran   4.000000             2\n",
       "Konnor   3.600000             5\n",
       "Luke     2.500000             2\n",
       "Matt     2.333333            27\n",
       "Mikey    3.333333             3\n",
       "Randy    3.833333             6\n",
       "Regan    1.894737            38\n",
       "Robert   3.000000             2\n",
       "Sam      2.750000             4\n",
       "Triston  3.875000             8"
      ]
     },
     "execution_count": 16,
     "metadata": {},
     "output_type": "execute_result"
    }
   ],
   "source": [
    "new_season_gb = (\n",
    "    panda_df[panda_df[\"SEASON\"] == panda_df[\"SEASON\"].max()]\n",
    "    .groupby([\"NAME\"])\n",
    "    .agg(\n",
    "        PLACE=pd.NamedAgg(column=\"PLACE\", aggfunc=\"mean\"),\n",
    "        GAMES_PLAYED=pd.NamedAgg(column=\"NAME\", aggfunc=\"count\"),\n",
    "    )\n",
    ")\n",
    "\n",
    "new_season_gb"
   ]
  },
  {
   "cell_type": "code",
   "execution_count": 12,
   "metadata": {},
   "outputs": [
    {
     "name": "stdout",
     "output_type": "stream",
     "text": [
      "1.09 s ± 61.8 ms per loop (mean ± std. dev. of 7 runs, 1 loop each)\n"
     ]
    }
   ],
   "source": [
    "# %%timeit\n",
    "# polar_df = load_data(sheet_name=\"data\", sheet_id=os.environ[\"SHEET_ID\"])"
   ]
  },
  {
   "cell_type": "code",
   "execution_count": 18,
   "metadata": {},
   "outputs": [
    {
     "data": {
      "text/plain": [
       "['Blake',\n",
       " 'Cooper',\n",
       " 'Connor',\n",
       " 'Cole',\n",
       " 'Regan',\n",
       " 'Matt',\n",
       " 'Triston',\n",
       " 'Jake',\n",
       " 'Graber',\n",
       " 'Anthony',\n",
       " 'Luke',\n",
       " 'Colton',\n",
       " 'Chandler',\n",
       " 'Robert',\n",
       " 'Domingo',\n",
       " 'Miller',\n",
       " 'Ben',\n",
       " 'Sam',\n",
       " 'Konnor',\n",
       " 'Joey',\n",
       " 'Randy',\n",
       " 'Andrew',\n",
       " 'Caskey',\n",
       " 'Chloe',\n",
       " 'Hughes',\n",
       " 'Kayla',\n",
       " 'Austin',\n",
       " 'Martin',\n",
       " 'Coop W',\n",
       " 'Mikey',\n",
       " 'Garrett',\n",
       " 'Justin',\n",
       " 'Duncan P',\n",
       " 'Mitch',\n",
       " 'Billy',\n",
       " 'Kieran',\n",
       " 'Duncan P ']"
      ]
     },
     "execution_count": 18,
     "metadata": {},
     "output_type": "execute_result"
    }
   ],
   "source": [
    "panda_df[\"NAME\"].value_counts().index.tolist()"
   ]
  },
  {
   "cell_type": "code",
   "execution_count": 11,
   "metadata": {},
   "outputs": [
    {
     "data": {
      "text/html": [
       "<div><style>\n",
       ".dataframe > thead > tr,\n",
       ".dataframe > tbody > tr {\n",
       "  text-align: right;\n",
       "  white-space: pre-wrap;\n",
       "}\n",
       "</style>\n",
       "<small>shape: (37,)</small><table border=\"1\" class=\"dataframe\"><thead><tr><th>NAME</th></tr><tr><td>str</td></tr></thead><tbody><tr><td>&quot;Blake&quot;</td></tr><tr><td>&quot;Cooper&quot;</td></tr><tr><td>&quot;Connor&quot;</td></tr><tr><td>&quot;Cole&quot;</td></tr><tr><td>&quot;Regan&quot;</td></tr><tr><td>&hellip;</td></tr><tr><td>&quot;Duncan P&quot;</td></tr><tr><td>&quot;Mitch&quot;</td></tr><tr><td>&quot;Kieran&quot;</td></tr><tr><td>&quot;Billy&quot;</td></tr><tr><td>&quot;Duncan P &quot;</td></tr></tbody></table></div>"
      ],
      "text/plain": [
       "shape: (37,)\n",
       "Series: 'NAME' [str]\n",
       "[\n",
       "\t\"Blake\"\n",
       "\t\"Cooper\"\n",
       "\t\"Connor\"\n",
       "\t\"Cole\"\n",
       "\t\"Regan\"\n",
       "\t…\n",
       "\t\"Duncan P\"\n",
       "\t\"Mitch\"\n",
       "\t\"Kieran\"\n",
       "\t\"Billy\"\n",
       "\t\"Duncan P \"\n",
       "]"
      ]
     },
     "execution_count": 11,
     "metadata": {},
     "output_type": "execute_result"
    }
   ],
   "source": [
    "names = df[\"NAME\"].value_counts().sort(by=\"count\", descending=True)[\"NAME\"]\n",
    "\n",
    "\n",
    "names"
   ]
  },
  {
   "cell_type": "code",
   "execution_count": null,
   "metadata": {},
   "outputs": [],
   "source": [
    "px.histogram(data_frame=df, x=\"NAME\").update_xaxes(categoryorder=\"total descending\")"
   ]
  },
  {
   "cell_type": "code",
   "execution_count": 14,
   "metadata": {},
   "outputs": [],
   "source": [
    "names_unique = (\n",
    "    df[\"NAME\"].value_counts().sort(by=\"count\", descending=True)[\"NAME\"].to_list()\n",
    ")\n",
    "map_names_unique = (\n",
    "    df[\"MAP\"].value_counts().sort(by=\"count\", descending=True)[\"MAP\"].to_list()\n",
    ")\n",
    "char_names_unique = (\n",
    "    df[\"CHARACTER\"]\n",
    "    .value_counts()\n",
    "    .sort(by=\"count\", descending=True)[\"CHARACTER\"]\n",
    "    .to_list()\n",
    ")\n",
    "\n",
    "last_suid = df.select(pl.last(\"SUID\")).item()\n",
    "last_uid = df.select(pl.last(\"UID\")).item()"
   ]
  },
  {
   "cell_type": "code",
   "execution_count": 13,
   "metadata": {},
   "outputs": [
    {
     "data": {
      "text/plain": [
       "['Blake',\n",
       " 'Cooper',\n",
       " 'Connor',\n",
       " 'Cole',\n",
       " 'Regan',\n",
       " 'Matt',\n",
       " 'Triston',\n",
       " 'Jake',\n",
       " 'Graber',\n",
       " 'Anthony',\n",
       " 'Luke',\n",
       " 'Colton',\n",
       " 'Chandler',\n",
       " 'Robert',\n",
       " 'Domingo',\n",
       " 'Miller',\n",
       " 'Ben',\n",
       " 'Sam',\n",
       " 'Konnor',\n",
       " 'Joey',\n",
       " 'Randy',\n",
       " 'Andrew',\n",
       " 'Caskey',\n",
       " 'Chloe',\n",
       " 'Hughes',\n",
       " 'Austin',\n",
       " 'Kayla',\n",
       " 'Martin',\n",
       " 'Mikey',\n",
       " 'Coop W',\n",
       " 'Garrett',\n",
       " 'Justin',\n",
       " 'Duncan P',\n",
       " 'Mitch',\n",
       " 'Kieran',\n",
       " 'Billy',\n",
       " 'Duncan P ']"
      ]
     },
     "execution_count": 13,
     "metadata": {},
     "output_type": "execute_result"
    }
   ],
   "source": [
    "names_unique"
   ]
  },
  {
   "cell_type": "code",
   "execution_count": 15,
   "metadata": {},
   "outputs": [
    {
     "data": {
      "text/plain": [
       "7"
      ]
     },
     "execution_count": 15,
     "metadata": {},
     "output_type": "execute_result"
    }
   ],
   "source": [
    "df.select(pl.last(\"SUID\")).item()"
   ]
  },
  {
   "cell_type": "code",
   "execution_count": null,
   "metadata": {},
   "outputs": [],
   "source": [
    "last_suid = df.select(pl.last(\"SUID\")).item()\n",
    "last_uid = df.select(pl.last(\"UID\")).item()\n",
    "last_season = df.select(pl.last(\"SEASON\")).item()"
   ]
  },
  {
   "cell_type": "code",
   "execution_count": null,
   "metadata": {},
   "outputs": [],
   "source": [
    "df.filter(pl.col(\"SEASON\") == (last_season - 1)).select(pl.tail(df.columns, 1))"
   ]
  },
  {
   "cell_type": "code",
   "execution_count": null,
   "metadata": {},
   "outputs": [],
   "source": [
    "# idx = df[df[\"SEASON\"] == (last_season - 1)]\n",
    "# print(idx)"
   ]
  },
  {
   "cell_type": "code",
   "execution_count": null,
   "metadata": {},
   "outputs": [],
   "source": [
    "datetime.now().strftime(\"%Y-%m-%d\")"
   ]
  },
  {
   "cell_type": "code",
   "execution_count": 16,
   "metadata": {},
   "outputs": [
    {
     "data": {
      "text/html": [
       "<div><style>\n",
       ".dataframe > thead > tr,\n",
       ".dataframe > tbody > tr {\n",
       "  text-align: right;\n",
       "  white-space: pre-wrap;\n",
       "}\n",
       "</style>\n",
       "<small>shape: (8, 5)</small><table border=\"1\" class=\"dataframe\"><thead><tr><th>NAME</th><th>CHARACTER</th><th>PLACE</th><th>PLAYERS</th><th>DATE</th></tr><tr><td>str</td><td>str</td><td>i64</td><td>i32</td><td>str</td></tr></thead><tbody><tr><td>&quot;Cooper&quot;</td><td>&quot;Yoshi&quot;</td><td>1</td><td>4</td><td>&quot;2024-05-10&quot;</td></tr><tr><td>&quot;Blake&quot;</td><td>&quot;Toad&quot;</td><td>2</td><td>4</td><td>&quot;2024-05-10&quot;</td></tr><tr><td>&quot;Connor&quot;</td><td>&quot;Peach&quot;</td><td>3</td><td>4</td><td>&quot;2024-05-10&quot;</td></tr><tr><td>&quot;Dom&quot;</td><td>&quot;Mario&quot;</td><td>4</td><td>4</td><td>&quot;2024-05-10&quot;</td></tr><tr><td>&quot;Cooper&quot;</td><td>&quot;Yoshi&quot;</td><td>1</td><td>4</td><td>&quot;2024-05-10&quot;</td></tr><tr><td>&quot;Blake&quot;</td><td>&quot;Toad&quot;</td><td>2</td><td>4</td><td>&quot;2024-05-10&quot;</td></tr><tr><td>&quot;Connor&quot;</td><td>&quot;Peach&quot;</td><td>3</td><td>4</td><td>&quot;2024-05-10&quot;</td></tr><tr><td>&quot;Dom&quot;</td><td>&quot;Mario&quot;</td><td>4</td><td>4</td><td>&quot;2024-05-10&quot;</td></tr></tbody></table></div>"
      ],
      "text/plain": [
       "shape: (8, 5)\n",
       "┌────────┬───────────┬───────┬─────────┬────────────┐\n",
       "│ NAME   ┆ CHARACTER ┆ PLACE ┆ PLAYERS ┆ DATE       │\n",
       "│ ---    ┆ ---       ┆ ---   ┆ ---     ┆ ---        │\n",
       "│ str    ┆ str       ┆ i64   ┆ i32     ┆ str        │\n",
       "╞════════╪═══════════╪═══════╪═════════╪════════════╡\n",
       "│ Cooper ┆ Yoshi     ┆ 1     ┆ 4       ┆ 2024-05-10 │\n",
       "│ Blake  ┆ Toad      ┆ 2     ┆ 4       ┆ 2024-05-10 │\n",
       "│ Connor ┆ Peach     ┆ 3     ┆ 4       ┆ 2024-05-10 │\n",
       "│ Dom    ┆ Mario     ┆ 4     ┆ 4       ┆ 2024-05-10 │\n",
       "│ Cooper ┆ Yoshi     ┆ 1     ┆ 4       ┆ 2024-05-10 │\n",
       "│ Blake  ┆ Toad      ┆ 2     ┆ 4       ┆ 2024-05-10 │\n",
       "│ Connor ┆ Peach     ┆ 3     ┆ 4       ┆ 2024-05-10 │\n",
       "│ Dom    ┆ Mario     ┆ 4     ┆ 4       ┆ 2024-05-10 │\n",
       "└────────┴───────────┴───────┴─────────┴────────────┘"
      ]
     },
     "execution_count": 16,
     "metadata": {},
     "output_type": "execute_result"
    }
   ],
   "source": [
    "players_write = [\"Cooper\", \"Blake\", \"Connor\", \"Dom\"]\n",
    "characters_write = [\"Yoshi\", \"Toad\", \"Peach\", \"Mario\"]\n",
    "\n",
    "new_data = pl.DataFrame(\n",
    "    {\n",
    "        \"NAME\": players_write,\n",
    "        \"CHARACTER\": characters_write,\n",
    "        \"DATE\": datetime.now().strftime(\"%Y-%m-%d\"),\n",
    "    }\n",
    ")\n",
    "\n",
    "new_data = new_data.with_columns(\n",
    "    PLACE=pl.int_range(start=1, end=(1 + new_data.shape[0]), step=1)\n",
    ")\n",
    "\n",
    "new_data = new_data.with_columns(PLAYERS=new_data.shape[0])\n",
    "\n",
    "new_data = new_data[[\"NAME\", \"CHARACTER\", \"PLACE\", \"PLAYERS\", \"DATE\"]]\n",
    "\n",
    "nd = df[[\"NAME\", \"CHARACTER\", \"PLACE\", \"PLAYERS\", \"DATE\"]]\n",
    "\n",
    "concat_data = pl.concat(items=[new_data, new_data], how=\"vertical_relaxed\")\n",
    "\n",
    "concat_data"
   ]
  },
  {
   "cell_type": "code",
   "execution_count": 22,
   "metadata": {},
   "outputs": [
    {
     "data": {
      "text/plain": [
       "[['Cooper', 'Yoshi', 1, 4, '2024-05-10'],\n",
       " ['Blake', 'Toad', 2, 4, '2024-05-10'],\n",
       " ['Connor', 'Peach', 3, 4, '2024-05-10'],\n",
       " ['Dom', 'Mario', 4, 4, '2024-05-10'],\n",
       " ['Cooper', 'Yoshi', 1, 4, '2024-05-10'],\n",
       " ['Blake', 'Toad', 2, 4, '2024-05-10'],\n",
       " ['Connor', 'Peach', 3, 4, '2024-05-10'],\n",
       " ['Dom', 'Mario', 4, 4, '2024-05-10']]"
      ]
     },
     "execution_count": 22,
     "metadata": {},
     "output_type": "execute_result"
    }
   ],
   "source": [
    "cat_df = concat_data.to_pandas()\n",
    "\n",
    "concat_data.to_pandas().values.tolist()"
   ]
  },
  {
   "cell_type": "code",
   "execution_count": 18,
   "metadata": {},
   "outputs": [
    {
     "data": {
      "text/plain": [
       "[('Cooper', 'Yoshi', 1, 4, '2024-05-10'),\n",
       " ('Blake', 'Toad', 2, 4, '2024-05-10'),\n",
       " ('Connor', 'Peach', 3, 4, '2024-05-10'),\n",
       " ('Dom', 'Mario', 4, 4, '2024-05-10'),\n",
       " ('Cooper', 'Yoshi', 1, 4, '2024-05-10'),\n",
       " ('Blake', 'Toad', 2, 4, '2024-05-10'),\n",
       " ('Connor', 'Peach', 3, 4, '2024-05-10'),\n",
       " ('Dom', 'Mario', 4, 4, '2024-05-10')]"
      ]
     },
     "execution_count": 18,
     "metadata": {},
     "output_type": "execute_result"
    }
   ],
   "source": [
    "concat_data.rows()"
   ]
  },
  {
   "cell_type": "code",
   "execution_count": 24,
   "metadata": {},
   "outputs": [
    {
     "data": {
      "text/plain": [
       "8"
      ]
     },
     "execution_count": 24,
     "metadata": {},
     "output_type": "execute_result"
    }
   ],
   "source": [
    "concat_data.shape[0]"
   ]
  },
  {
   "cell_type": "code",
   "execution_count": 29,
   "metadata": {},
   "outputs": [
    {
     "data": {
      "text/plain": [
       "int"
      ]
     },
     "execution_count": 29,
     "metadata": {},
     "output_type": "execute_result"
    }
   ],
   "source": [
    "type(new_data[\"PLAYERS\"].len())"
   ]
  },
  {
   "cell_type": "code",
   "execution_count": 26,
   "metadata": {},
   "outputs": [
    {
     "data": {
      "text/plain": [
       "bytes"
      ]
     },
     "execution_count": 26,
     "metadata": {},
     "output_type": "execute_result"
    }
   ],
   "source": [
    "type(concat_data.shape)"
   ]
  },
  {
   "cell_type": "code",
   "execution_count": 19,
   "metadata": {},
   "outputs": [],
   "source": [
    "import gspread as gs\n",
    "\n",
    "gc = gs.service_account()\n",
    "sheet_id = os.environ[\"SHEET_ID\"]\n",
    "sheet_name = \"data\"\n",
    "url = f\"https://docs.google.com/spreadsheets/d/{sheet_id}/gviz/tq?tqx=out:csv&sheet={sheet_name}\"\n",
    "sh = gc.open_by_url(url)\n",
    "ws = sh.worksheet(title=\"data\")"
   ]
  },
  {
   "cell_type": "code",
   "execution_count": 20,
   "metadata": {},
   "outputs": [
    {
     "data": {
      "text/plain": [
       "<Worksheet 'data' id:0>"
      ]
     },
     "execution_count": 20,
     "metadata": {},
     "output_type": "execute_result"
    }
   ],
   "source": [
    "ws"
   ]
  },
  {
   "cell_type": "code",
   "execution_count": 23,
   "metadata": {},
   "outputs": [
    {
     "data": {
      "text/plain": [
       "{'spreadsheetId': '1wM-5mZqL85VQnhb-W5pV5XIcp53gpE37vrkN_psHiJw',\n",
       " 'tableRange': 'data!A1:N18818',\n",
       " 'updates': {'spreadsheetId': '1wM-5mZqL85VQnhb-W5pV5XIcp53gpE37vrkN_psHiJw',\n",
       "  'updatedRange': 'data!A18819:E18826',\n",
       "  'updatedRows': 8,\n",
       "  'updatedColumns': 5,\n",
       "  'updatedCells': 40}}"
      ]
     },
     "execution_count": 23,
     "metadata": {},
     "output_type": "execute_result"
    }
   ],
   "source": [
    "ws.append_rows(values=concat_data.to_pandas().values.tolist())"
   ]
  }
 ],
 "metadata": {
  "kernelspec": {
   "display_name": "bro",
   "language": "python",
   "name": "python3"
  },
  "language_info": {
   "codemirror_mode": {
    "name": "ipython",
    "version": 3
   },
   "file_extension": ".py",
   "mimetype": "text/x-python",
   "name": "python",
   "nbconvert_exporter": "python",
   "pygments_lexer": "ipython3",
   "version": "3.11.8"
  }
 },
 "nbformat": 4,
 "nbformat_minor": 2
}
